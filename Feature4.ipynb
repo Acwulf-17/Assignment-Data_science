{
 "cells": [
  {
   "cell_type": "markdown",
   "id": "3345673d-2fd9-44f1-9354-46276ce692f6",
   "metadata": {},
   "source": [
    "Q.1.Answer"
   ]
  },
  {
   "cell_type": "markdown",
   "id": "186cf677-d50f-4771-8190-f9c105716021",
   "metadata": {},
   "source": [
    "Ordinal Encoding is used for categorical data where the categories have an inherent order or rank. It assigns numerical values to categories based on this order. For example, \"Low,\" \"Medium,\" and \"High\" can be encoded as 1, 2, and 3, respectively.\n",
    "\n",
    "Label Encoding, on the other hand, is used for nominal categorical data where there is no inherent order among the categories. It assigns arbitrary numerical values to each category. For example, \"Red,\" \"Green,\" and \"Blue\" can be encoded as 1, 2, and 3, without any order.\n",
    "\n",
    "Example:\n",
    "Suppose you have a dataset of education levels, and the categories are \"High School,\" \"Bachelor's,\" \"Master's,\" and \"PhD.\" If there is a clear order among these levels, you can use ordinal encoding, assigning values 1, 2, 3, and 4 to represent the increasing educational attainment. If there is no order and you just want to represent the levels as unique labels, you would use label encoding.\n",
    "\n"
   ]
  },
  {
   "cell_type": "code",
   "execution_count": null,
   "id": "11adc10a-e362-40b8-acb7-ecba6f65cca4",
   "metadata": {},
   "outputs": [],
   "source": []
  },
  {
   "cell_type": "markdown",
   "id": "91004c25-bde5-4903-80ea-0ef5c5406aae",
   "metadata": {},
   "source": [
    "Q.2.Answer"
   ]
  },
  {
   "cell_type": "markdown",
   "id": "1eeca550-2db3-4a35-845c-64a3aec1f02b",
   "metadata": {},
   "source": [
    "Target Guided Ordinal Encoding is a technique where categorical data is encoded based on its relationship with the target variable. It's useful when you have ordinal data, but the original order doesn't align with the target variable's order. The encoding values are determined based on the target variable's mean or median for each category.\n",
    "\n",
    "Example:\n",
    "Suppose you have a dataset of student performance in an exam, and the \"Education Level\" is an ordinal variable. However, in this dataset, the mean exam score varies for each education level as follows:\n",
    "\n",
    "High School: Mean Score 60\n",
    "\n",
    "Bachelor's: Mean Score 70\n",
    "\n",
    "Master's: Mean Score 80\n",
    "\n",
    "PhD: Mean Score 90\n",
    "\n",
    "You can perform target guided ordinal encoding based on these mean scores, effectively aligning the encoding with the actual performance. So, the encoding could be 1 for High School, 2 for Bachelor's, 3 for Master's, and 4 for PhD.\n",
    "\n"
   ]
  },
  {
   "cell_type": "code",
   "execution_count": null,
   "id": "898159f7-0987-4cc3-80d0-218fddfeed77",
   "metadata": {},
   "outputs": [],
   "source": []
  },
  {
   "cell_type": "markdown",
   "id": "1c1a8d20-212a-4185-b0ef-86f5f92cbb36",
   "metadata": {},
   "source": [
    "Q.3.Answer"
   ]
  },
  {
   "cell_type": "markdown",
   "id": "94436ca5-f380-4106-a738-32a93781e763",
   "metadata": {},
   "source": [
    "Covariance is a measure of the relationship between two random variables. It indicates whether two variables tend to increase or decrease together. A positive covariance means that when one variable increases, the other tends to increase as well. A negative covariance means that when one variable increases, the other tends to decrease. A covariance of zero indicates no linear relationship between the variables.\n",
    "\n",
    "Covariance is important in statistical analysis because it helps in understanding the degree and direction of the linear relationship between two variables. It's used in various fields, including finance, economics, and data analysis. However, covariance alone doesn't provide information about the strength of the relationship, and it can be sensitive to the scale of the variables."
   ]
  },
  {
   "cell_type": "code",
   "execution_count": null,
   "id": "427c463f-2adc-47b0-89a4-85489315f75d",
   "metadata": {},
   "outputs": [],
   "source": []
  },
  {
   "cell_type": "markdown",
   "id": "cc451593-f3fd-40c2-a421-8dae2131dc7a",
   "metadata": {},
   "source": [
    "Q.4.Answer"
   ]
  },
  {
   "cell_type": "code",
   "execution_count": 1,
   "id": "c96fbc20-35e7-4183-bb8c-30cab865b29b",
   "metadata": {},
   "outputs": [
    {
     "name": "stdout",
     "output_type": "stream",
     "text": [
      "{'Color': array([2, 1, 0, 2, 0]), 'Size': array([2, 1, 0, 1, 2]), 'Material': array([2, 0, 1, 2, 0])}\n"
     ]
    }
   ],
   "source": [
    "from sklearn.preprocessing import LabelEncoder\n",
    "\n",
    "# Sample dataset\n",
    "data = {'Color': ['red', 'green', 'blue', 'red', 'blue'],\n",
    "        'Size': ['small', 'medium', 'large', 'medium', 'small'],\n",
    "        'Material': ['wood', 'metal', 'plastic', 'wood', 'metal']}\n",
    "\n",
    "# Initialize the LabelEncoder\n",
    "label_encoder = LabelEncoder()\n",
    "\n",
    "# Apply label encoding to each column\n",
    "for col in data:\n",
    "    data[col] = label_encoder.fit_transform(data[col])\n",
    "\n",
    "print(data)\n"
   ]
  },
  {
   "cell_type": "code",
   "execution_count": null,
   "id": "4b931c75-1d9e-4724-8b2b-949e1a462f12",
   "metadata": {},
   "outputs": [],
   "source": []
  }
 ],
 "metadata": {
  "kernelspec": {
   "display_name": "Python 3 (ipykernel)",
   "language": "python",
   "name": "python3"
  },
  "language_info": {
   "codemirror_mode": {
    "name": "ipython",
    "version": 3
   },
   "file_extension": ".py",
   "mimetype": "text/x-python",
   "name": "python",
   "nbconvert_exporter": "python",
   "pygments_lexer": "ipython3",
   "version": "3.10.8"
  }
 },
 "nbformat": 4,
 "nbformat_minor": 5
}
