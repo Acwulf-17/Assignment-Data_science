{
 "cells": [
  {
   "cell_type": "markdown",
   "id": "a5ec0bc1-9061-4e13-8802-ee840ae88deb",
   "metadata": {},
   "source": [
    "Ans. Q.1"
   ]
  },
  {
   "cell_type": "markdown",
   "id": "717d7e7d-528b-4c26-b8d6-85bede4d0b00",
   "metadata": {},
   "source": [
    "Python supports two types of comments: single line and multi line."
   ]
  },
  {
   "cell_type": "markdown",
   "id": "98994f5c-0220-4d09-8934-30ebab1235ff",
   "metadata": {},
   "source": [
    "Single-line comments are used for writing comments that span only one line. They begin with a hash symbol (#) and continue until the end of the line. Anything written after the # symbol on the same line will be treated as a comment and will not be executed by the interpreter."
   ]
  },
  {
   "cell_type": "code",
   "execution_count": 2,
   "id": "39d663a1-8bac-43a5-9404-ea22d3fd6983",
   "metadata": {},
   "outputs": [
    {
     "name": "stdout",
     "output_type": "stream",
     "text": [
      "It's me , hi I'm the answer its me\n"
     ]
    }
   ],
   "source": [
    "# this is a single line comments.\n",
    "print(\"It's me , hi I'm the answer its me\")"
   ]
  },
  {
   "cell_type": "markdown",
   "id": "b1fd2332-9a3b-4921-b036-a086fb3428d7",
   "metadata": {},
   "source": [
    "Multi-line comments, also known as docstrings, are used for writing comments that span multiple lines. Docstrings are often used to provide documentation for functions, classes, or modules. They are enclosed between triple double quotes (\"\"\").\n"
   ]
  },
  {
   "cell_type": "code",
   "execution_count": 8,
   "id": "63c081ca-a85e-4e4d-b883-4983a56b41c0",
   "metadata": {},
   "outputs": [
    {
     "name": "stdout",
     "output_type": "stream",
     "text": [
      "hello|\n"
     ]
    }
   ],
   "source": [
    "\n",
    "\"\"\"\n",
    "This\n",
    "is\n",
    "nice\n",
    "\"\"\"\n",
    "print(\"hello|\")\n",
    "\n"
   ]
  },
  {
   "cell_type": "code",
   "execution_count": null,
   "id": "4f261ada-0b65-49e3-918f-ec3712c9ccae",
   "metadata": {},
   "outputs": [],
   "source": []
  },
  {
   "cell_type": "markdown",
   "id": "5d1f7f4a-713b-4d02-a202-57a807fe395b",
   "metadata": {},
   "source": [
    "Ans. Q.2"
   ]
  },
  {
   "cell_type": "markdown",
   "id": "a964f9ff-d4c1-4cbc-a0e0-7533a0b42b6c",
   "metadata": {},
   "source": [
    "In Python, variables are used to store data or values in memory. They act as labels or names given to a particular memory location, allowing you to access and manipulate data easily. Variables provide a way to refer to data by a specific name, making the code more readable and flexible.\n",
    "\n",
    "Declaring and assigning values to variables in Python is straightforward. The general syntax to declare a variable and assign a value to it is:\n"
   ]
  },
  {
   "cell_type": "code",
   "execution_count": 4,
   "id": "8ba6224f-512d-46f4-a559-fd3068416d3f",
   "metadata": {},
   "outputs": [],
   "source": [
    "name= \"xyz\"\n"
   ]
  },
  {
   "cell_type": "markdown",
   "id": "d0ea6089-5d3e-4cef-ad8a-813163e66414",
   "metadata": {},
   "source": [
    "Ans. Q.3"
   ]
  },
  {
   "cell_type": "markdown",
   "id": "931e6e0b-b755-4592-b46d-33b101730219",
   "metadata": {},
   "source": [
    "In Python, you can convert one data type to another using built-in functions."
   ]
  },
  {
   "cell_type": "code",
   "execution_count": 5,
   "id": "209fccb3-0805-4998-b4c4-d736fdc5a3c7",
   "metadata": {},
   "outputs": [
    {
     "name": "stdout",
     "output_type": "stream",
     "text": [
      "1234\n"
     ]
    }
   ],
   "source": [
    "num=\"1234\"\n",
    "num_int=int(num)\n",
    "print(num_int)"
   ]
  },
  {
   "cell_type": "markdown",
   "id": "34fbb99f-5b97-42a7-84b3-d8b70904911a",
   "metadata": {},
   "source": [
    "Ans. Q.4"
   ]
  },
  {
   "cell_type": "markdown",
   "id": "89c955bf-314a-4776-9576-2b1ee7e42951",
   "metadata": {},
   "source": [
    "The most basic and easy way to run a Python script is by using the python command. You need to open a command line and type the word python followed by the path to your script file like this: python first_script.py Hello World! Then you hit the ENTER button from the keyboard, and that's it."
   ]
  },
  {
   "cell_type": "markdown",
   "id": "2a8abcc4-cf93-4a30-bb89-7a1b213e181c",
   "metadata": {},
   "source": [
    "Ans. q.5"
   ]
  },
  {
   "cell_type": "code",
   "execution_count": 9,
   "id": "48acbf8e-8eb1-4ab0-b774-4c0cdfe9fc27",
   "metadata": {},
   "outputs": [
    {
     "name": "stdout",
     "output_type": "stream",
     "text": [
      "[2, 3]\n"
     ]
    }
   ],
   "source": [
    "my_list=[1,2,3,4,5]\n",
    "sub_list=my_list[1:3]\n",
    "print(sub_list)"
   ]
  },
  {
   "cell_type": "markdown",
   "id": "cd246e2a-42a5-43f3-97d5-a62884e5463d",
   "metadata": {},
   "source": [
    "Ans. q.6"
   ]
  },
  {
   "cell_type": "markdown",
   "id": "527149da-4a9a-48ec-ba8a-fce8691fcef0",
   "metadata": {},
   "source": [
    "In mathematics, a complex number is a number of the form a + bi, where a and b are real numbers, and i is the imaginary unit, defined as the square root of -1. \n"
   ]
  },
  {
   "cell_type": "code",
   "execution_count": 10,
   "id": "8e15a079-f602-401e-b55b-de54a7dc66fc",
   "metadata": {},
   "outputs": [
    {
     "name": "stdout",
     "output_type": "stream",
     "text": [
      "(-1.5+2.5j)\n"
     ]
    }
   ],
   "source": [
    "z2 = complex(-1.5, 2.5)\n",
    "print(z2)"
   ]
  },
  {
   "cell_type": "code",
   "execution_count": null,
   "id": "4cb4bec8-a29d-4402-acd1-2987a82ddd90",
   "metadata": {},
   "outputs": [],
   "source": []
  },
  {
   "cell_type": "markdown",
   "id": "7f0a6abc-c24f-4a40-b79e-ab2ea77dceb9",
   "metadata": {},
   "source": [
    "Ans.q.7"
   ]
  },
  {
   "cell_type": "code",
   "execution_count": 12,
   "id": "004da528-7a20-4a43-9d05-1de98e19c11a",
   "metadata": {},
   "outputs": [
    {
     "name": "stdout",
     "output_type": "stream",
     "text": [
      "25\n"
     ]
    }
   ],
   "source": [
    "age=25\n",
    "print(age)"
   ]
  },
  {
   "cell_type": "markdown",
   "id": "cdd4145b-e369-4fac-b667-3cc0f733a69b",
   "metadata": {},
   "source": [
    "Ans.q.8"
   ]
  },
  {
   "cell_type": "code",
   "execution_count": 13,
   "id": "48d99c17-d5cf-4fba-b8d2-3ef1b6e60e9c",
   "metadata": {},
   "outputs": [
    {
     "data": {
      "text/plain": [
       "float"
      ]
     },
     "execution_count": 13,
     "metadata": {},
     "output_type": "execute_result"
    }
   ],
   "source": [
    "price=9.99\n",
    "type(price)"
   ]
  },
  {
   "cell_type": "markdown",
   "id": "02e5b52f-38f1-454d-ade2-b9be56778ec6",
   "metadata": {},
   "source": [
    "Ans.q.9"
   ]
  },
  {
   "cell_type": "code",
   "execution_count": 14,
   "id": "cc7da6f9-2e02-446d-96db-1d59910bb57e",
   "metadata": {},
   "outputs": [
    {
     "name": "stdout",
     "output_type": "stream",
     "text": [
      "Harshita Satyendra Shukla\n"
     ]
    }
   ],
   "source": [
    "name=\"Harshita Satyendra Shukla\"\n",
    "print(name)"
   ]
  },
  {
   "cell_type": "markdown",
   "id": "ec9b5500-a2fb-4d3f-83ad-670feadeec75",
   "metadata": {},
   "source": [
    "Ans.q.10"
   ]
  },
  {
   "cell_type": "code",
   "execution_count": 17,
   "id": "09877be7-b4a5-4f7d-bf55-f2eebc561044",
   "metadata": {},
   "outputs": [
    {
     "name": "stdout",
     "output_type": "stream",
     "text": [
      "World\n"
     ]
    }
   ],
   "source": [
    "hi=\"Hello, World!\"\n",
    "sub=hi[7:12]\n",
    "print(sub)"
   ]
  },
  {
   "cell_type": "code",
   "execution_count": null,
   "id": "c5e37057-67bd-4347-8cff-24ca17239c2e",
   "metadata": {},
   "outputs": [],
   "source": [
    "student=\"is_student\"\n",
    "b=bool(studen)"
   ]
  }
 ],
 "metadata": {
  "kernelspec": {
   "display_name": "Python 3 (ipykernel)",
   "language": "python",
   "name": "python3"
  },
  "language_info": {
   "codemirror_mode": {
    "name": "ipython",
    "version": 3
   },
   "file_extension": ".py",
   "mimetype": "text/x-python",
   "name": "python",
   "nbconvert_exporter": "python",
   "pygments_lexer": "ipython3",
   "version": "3.10.8"
  }
 },
 "nbformat": 4,
 "nbformat_minor": 5
}
