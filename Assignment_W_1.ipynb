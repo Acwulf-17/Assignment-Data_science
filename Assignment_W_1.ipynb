{
 "cells": [
  {
   "cell_type": "markdown",
   "id": "898e00c4-c9a3-49a8-941e-08d17e6eeb77",
   "metadata": {},
   "source": [
    "Ans Q1:"
   ]
  },
  {
   "cell_type": "code",
   "execution_count": 3,
   "id": "91b45a63-a27d-46df-ba8f-bbbbbf254ca2",
   "metadata": {},
   "outputs": [
    {
     "data": {
      "text/plain": [
       "'ABCD'"
      ]
     },
     "execution_count": 3,
     "metadata": {},
     "output_type": "execute_result"
    }
   ],
   "source": [
    "a=\"ABCD\"\n",
    "a"
   ]
  },
  {
   "cell_type": "code",
   "execution_count": 6,
   "id": "9f2b8e4f-7291-48fb-9abf-5dff1b281a68",
   "metadata": {},
   "outputs": [
    {
     "data": {
      "text/plain": [
       "['ABCD', 909090, 'Xyz']"
      ]
     },
     "execution_count": 6,
     "metadata": {},
     "output_type": "execute_result"
    }
   ],
   "source": [
    "lis=[\"ABCD\",909090,\"Xyz\"]\n",
    "lis"
   ]
  },
  {
   "cell_type": "code",
   "execution_count": 8,
   "id": "c600be45-178a-4040-a6a3-e83d20afe2e7",
   "metadata": {},
   "outputs": [
    {
     "data": {
      "text/plain": [
       "56.79"
      ]
     },
     "execution_count": 8,
     "metadata": {},
     "output_type": "execute_result"
    }
   ],
   "source": [
    "flo=56.79\n",
    "flo"
   ]
  },
  {
   "cell_type": "code",
   "execution_count": 10,
   "id": "dd85275b-bf2b-430e-95b1-5bd21af4a8c3",
   "metadata": {},
   "outputs": [
    {
     "data": {
      "text/plain": [
       "(1, 2, 3, 4)"
      ]
     },
     "execution_count": 10,
     "metadata": {},
     "output_type": "execute_result"
    }
   ],
   "source": [
    "tup=(1,2,3,4)\n",
    "tup"
   ]
  },
  {
   "cell_type": "markdown",
   "id": "9213c624-a23b-435b-8039-8786857542f1",
   "metadata": {},
   "source": [
    "Ans. Q2:"
   ]
  },
  {
   "cell_type": "code",
   "execution_count": 12,
   "id": "c3851ad3-2b8d-44bb-bfc1-85290d21c453",
   "metadata": {},
   "outputs": [
    {
     "data": {
      "text/plain": [
       "str"
      ]
     },
     "execution_count": 12,
     "metadata": {},
     "output_type": "execute_result"
    }
   ],
   "source": [
    "var1=\"\"\n",
    "type(var1)"
   ]
  },
  {
   "cell_type": "code",
   "execution_count": 14,
   "id": "fb2b141c-0c68-407b-958b-9ea1c485d24e",
   "metadata": {},
   "outputs": [
    {
     "data": {
      "text/plain": [
       "str"
      ]
     },
     "execution_count": 14,
     "metadata": {},
     "output_type": "execute_result"
    }
   ],
   "source": [
    "var2=\"[Ds,ML,python]\"\n",
    "type(var2)"
   ]
  },
  {
   "cell_type": "code",
   "execution_count": 18,
   "id": "e65acc00-9c62-4323-a3c4-f29d4df7e3d5",
   "metadata": {},
   "outputs": [
    {
     "data": {
      "text/plain": [
       "list"
      ]
     },
     "execution_count": 18,
     "metadata": {},
     "output_type": "execute_result"
    }
   ],
   "source": [
    "var3 = [\"DS\",\"ML\",\"Python\"]\n",
    "type(var3)"
   ]
  },
  {
   "cell_type": "code",
   "execution_count": 19,
   "id": "743f912e-c94c-4bab-8089-1f361681f568",
   "metadata": {},
   "outputs": [
    {
     "data": {
      "text/plain": [
       "int"
      ]
     },
     "execution_count": 19,
     "metadata": {},
     "output_type": "execute_result"
    }
   ],
   "source": [
    "var4 = 1\n",
    "type(var4)"
   ]
  },
  {
   "cell_type": "code",
   "execution_count": null,
   "id": "07ec4736-74b5-4cbb-b025-a7d6d8cd5328",
   "metadata": {},
   "outputs": [],
   "source": []
  },
  {
   "cell_type": "markdown",
   "id": "aa403fde-7c6b-4d38-9954-724fb55c9a4d",
   "metadata": {},
   "source": [
    "Ans. Q.3"
   ]
  },
  {
   "cell_type": "markdown",
   "id": "bcc4cb95-f019-42ce-b6a7-a2d28182ace7",
   "metadata": {},
   "source": [
    "i) / (Division Operator):\n",
    "The division operator is used to divide one number by another. It performs regular division and returns the quotient as a floating-point number. Here's an example:"
   ]
  },
  {
   "cell_type": "code",
   "execution_count": 1,
   "id": "840a5244-6fda-4b01-9f59-4dd474ce92e5",
   "metadata": {},
   "outputs": [
    {
     "data": {
      "text/plain": [
       "3.3333333333333335"
      ]
     },
     "execution_count": 1,
     "metadata": {},
     "output_type": "execute_result"
    }
   ],
   "source": [
    "result=10/3\n",
    "result"
   ]
  },
  {
   "cell_type": "markdown",
   "id": "59bbf4be-7b66-4487-8e10-9e87d2ea7b8c",
   "metadata": {},
   "source": [
    "ii) % (Modulo Operator):\n",
    "The modulo operator is used to find the remainder of the division of one number by another. It's often used to check if a number is even or odd (by checking if it's divisible by 2). Here's an example:\n",
    "\n"
   ]
  },
  {
   "cell_type": "code",
   "execution_count": 2,
   "id": "2f6c7445-ba52-463a-81f4-bde5089210d7",
   "metadata": {},
   "outputs": [
    {
     "data": {
      "text/plain": [
       "0"
      ]
     },
     "execution_count": 2,
     "metadata": {},
     "output_type": "execute_result"
    }
   ],
   "source": [
    "remainder=10%2\n",
    "remainder"
   ]
  },
  {
   "cell_type": "markdown",
   "id": "9942b204-8c72-425c-a34a-f8210fac46e3",
   "metadata": {},
   "source": [
    "iii) // (Floor Division Operator):\n",
    "The floor division operator is used to perform division and round down the result to the nearest whole number (integer). It returns an integer even if the result is a floating-point number. Here's an example:"
   ]
  },
  {
   "cell_type": "code",
   "execution_count": 3,
   "id": "2b505d51-819d-4874-acfc-2b6a135a32c9",
   "metadata": {},
   "outputs": [
    {
     "data": {
      "text/plain": [
       "3"
      ]
     },
     "execution_count": 3,
     "metadata": {},
     "output_type": "execute_result"
    }
   ],
   "source": [
    "result=10//3\n",
    "result"
   ]
  },
  {
   "cell_type": "markdown",
   "id": "59033f89-505c-48b5-b444-78d47719c637",
   "metadata": {},
   "source": [
    "iv) ** (Exponentiation Operator):\n",
    "The exponentiation operator is used to raise a number to a certain power. It performs the operation of raising a base to an exponent. Here's an example:"
   ]
  },
  {
   "cell_type": "code",
   "execution_count": 4,
   "id": "662a24c1-ca5b-44de-a94c-5d7079971091",
   "metadata": {},
   "outputs": [
    {
     "data": {
      "text/plain": [
       "3"
      ]
     },
     "execution_count": 4,
     "metadata": {},
     "output_type": "execute_result"
    }
   ],
   "source": [
    "resul=2**3\n",
    "result"
   ]
  },
  {
   "cell_type": "code",
   "execution_count": null,
   "id": "45fd5d06-edd3-4b67-b9e9-2b4049efc507",
   "metadata": {},
   "outputs": [],
   "source": []
  },
  {
   "cell_type": "markdown",
   "id": "ea37b216-d21b-4cb3-8465-5b78384b5a30",
   "metadata": {},
   "source": [
    "Ans. Q.4"
   ]
  },
  {
   "cell_type": "code",
   "execution_count": 5,
   "id": "9544a8d6-e8ba-45cd-882c-288c5a819b86",
   "metadata": {},
   "outputs": [],
   "source": [
    "l=[10,9,3,4,5,6,78,56,\"ABCD\",\"Xyz\"]"
   ]
  },
  {
   "cell_type": "code",
   "execution_count": 8,
   "id": "1f9549f1-fb98-46ad-8169-879269c3680e",
   "metadata": {},
   "outputs": [
    {
     "name": "stdout",
     "output_type": "stream",
     "text": [
      "10 <class 'int'>\n",
      "9 <class 'int'>\n",
      "3 <class 'int'>\n",
      "4 <class 'int'>\n",
      "5 <class 'int'>\n",
      "6 <class 'int'>\n",
      "78 <class 'int'>\n",
      "56 <class 'int'>\n",
      "ABCD <class 'str'>\n",
      "Xyz <class 'str'>\n"
     ]
    }
   ],
   "source": [
    "for i in l:\n",
    "    print(i, type(i))"
   ]
  },
  {
   "cell_type": "markdown",
   "id": "72480b10-8d8d-4f17-9b4c-50c3d3554ee6",
   "metadata": {},
   "source": [
    "Ans. Q.4"
   ]
  },
  {
   "cell_type": "code",
   "execution_count": 12,
   "id": "10550f1f-66c0-4b06-bf38-b712ed5a9c03",
   "metadata": {},
   "outputs": [
    {
     "name": "stdout",
     "output_type": "stream",
     "text": [
      "5  is divisor of 0  and it can be divided  100  times.\n"
     ]
    }
   ],
   "source": [
    "a=500\n",
    "b=5\n",
    "divisions=0\n",
    "while a>=b:\n",
    "    a-=b\n",
    "    divisions +=1\n",
    "    \n",
    "if a==0:\n",
    "    print(b,\" is divisor of\",a,\" and it can be divided \",divisions,\" times.\")\n",
    "    \n",
    "else:\n",
    "    print(b, \" is not divisior of \", a)"
   ]
  },
  {
   "cell_type": "code",
   "execution_count": null,
   "id": "97a7ca67-c3f8-4ab3-9862-87bfe2a1bdd5",
   "metadata": {},
   "outputs": [],
   "source": []
  },
  {
   "cell_type": "markdown",
   "id": "6b1a4921-8152-46db-9a10-2ebe438bc7c7",
   "metadata": {},
   "source": [
    "Ans. Q.6"
   ]
  },
  {
   "cell_type": "code",
   "execution_count": 14,
   "id": "47656619-0c7f-4da7-b620-618863b84664",
   "metadata": {},
   "outputs": [
    {
     "name": "stdout",
     "output_type": "stream",
     "text": [
      "1  is not divisible by 3\n",
      "2  is not divisible by 3\n",
      "3  is divisible by 3\n",
      "4  is not divisible by 3\n",
      "5  is not divisible by 3\n",
      "6  is divisible by 3\n",
      "7  is not divisible by 3\n",
      "8  is not divisible by 3\n",
      "9  is divisible by 3\n",
      "10  is not divisible by 3\n",
      "11  is not divisible by 3\n",
      "12  is divisible by 3\n",
      "13  is not divisible by 3\n",
      "14  is not divisible by 3\n",
      "15  is divisible by 3\n",
      "16  is not divisible by 3\n",
      "17  is not divisible by 3\n",
      "18  is divisible by 3\n",
      "19  is not divisible by 3\n",
      "20  is not divisible by 3\n",
      "21  is divisible by 3\n",
      "22  is not divisible by 3\n",
      "23  is not divisible by 3\n",
      "24  is divisible by 3\n",
      "25  is not divisible by 3\n"
     ]
    }
   ],
   "source": [
    "l=[1,2,3,4,5,6,7,8,9,10,11,12,13,14,15,16,17,18,19,20,21,22,23,24,25]\n",
    "\n",
    "for n in l:\n",
    "    if n%3==0:\n",
    "        print(n,\" is divisible by 3\")\n",
    "        \n",
    "    else:\n",
    "        print(n,\" is not divisible by 3\")"
   ]
  },
  {
   "cell_type": "code",
   "execution_count": null,
   "id": "fbe76015-b359-4fb1-9c3b-b4a7453b1fe2",
   "metadata": {},
   "outputs": [],
   "source": []
  },
  {
   "cell_type": "markdown",
   "id": "5af88ec7-7edf-4adc-9ce1-500a6109a968",
   "metadata": {},
   "source": [
    "Ans.Q.7"
   ]
  },
  {
   "cell_type": "markdown",
   "id": "997c86f7-2222-4676-8c67-0490b64ac536",
   "metadata": {},
   "source": [
    "Immutable Data Types:\n",
    "Immutable data types are those whose value cannot be changed after they are created. Any modification to an immutable object will result in the creation of a new object with the updated value. Immutable data types are safer because they prevent accidental changes and can be used as keys in dictionaries (which require hashable types). Common examples of immutable data types in Python include:\n",
    "int,\n",
    "float,\n",
    "bool, \n",
    "str,\n",
    "tuple\n",
    "are immutable data types.\n",
    "\n"
   ]
  },
  {
   "cell_type": "markdown",
   "id": "f6329ea8-5083-4903-8960-79d180e1259c",
   "metadata": {},
   "source": [
    "Mutable Data Types:\n",
    "Mutable data types are those whose value can be changed after they are created. These types allow in-place modifications, meaning the same object can be modified without creating a new one. Common examples of mutable data types in Python include:\n",
    "list,\n",
    "dict (dictionary)\n",
    "and set"
   ]
  },
  {
   "cell_type": "markdown",
   "id": "362ff802-275e-4ad0-b358-b1a9186ba08b",
   "metadata": {},
   "source": [
    "Examples are below"
   ]
  },
  {
   "cell_type": "code",
   "execution_count": 16,
   "id": "be6bf61a-2ee2-48b7-a8e5-ca52a558b645",
   "metadata": {},
   "outputs": [
    {
     "name": "stdout",
     "output_type": "stream",
     "text": [
      "Before modification:  10\n",
      "After modification:  15\n"
     ]
    }
   ],
   "source": [
    "#immutable data types:\n",
    "\n",
    "num=10\n",
    "print(\"Before modification: \",num)\n",
    "\n",
    "num=num+5\n",
    "print(\"After modification: \",num)\n"
   ]
  },
  {
   "cell_type": "code",
   "execution_count": null,
   "id": "f1977d66-1c98-4296-89c0-02709a2bd3fb",
   "metadata": {},
   "outputs": [],
   "source": [
    "#mutable data types:\n",
    "\n",
    "l=[10,20,30]\n",
    "print(\"Before modification: \",l)\n",
    "\n",
    "l.append(4)\n"
   ]
  }
 ],
 "metadata": {
  "kernelspec": {
   "display_name": "Python 3 (ipykernel)",
   "language": "python",
   "name": "python3"
  },
  "language_info": {
   "codemirror_mode": {
    "name": "ipython",
    "version": 3
   },
   "file_extension": ".py",
   "mimetype": "text/x-python",
   "name": "python",
   "nbconvert_exporter": "python",
   "pygments_lexer": "ipython3",
   "version": "3.10.8"
  }
 },
 "nbformat": 4,
 "nbformat_minor": 5
}
