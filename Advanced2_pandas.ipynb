{
 "cells": [
  {
   "cell_type": "markdown",
   "id": "d22599c6-8500-461a-8689-039ad2995bb2",
   "metadata": {},
   "source": [
    "Q.1.Answer\n"
   ]
  },
  {
   "cell_type": "code",
   "execution_count": 1,
   "id": "ab3992a7-1a44-4941-8b43-6db195a8f024",
   "metadata": {},
   "outputs": [
    {
     "name": "stdout",
     "output_type": "stream",
     "text": [
      "course_name    Machine Learning\n",
      "duration                      3\n",
      "Name: 1, dtype: object\n"
     ]
    }
   ],
   "source": [
    "import pandas as pd\n",
    "\n",
    "course_name = ['Data Science', 'Machine Learning', 'Big Data', 'Data Engineer']\n",
    "duration = [2, 3, 6, 4]\n",
    "df = pd.DataFrame(data={'course_name': course_name, 'duration': duration})\n",
    "\n",
    "# Print the data in the second row\n",
    "second_row_data = df.iloc[1]\n",
    "print(second_row_data)\n"
   ]
  },
  {
   "cell_type": "code",
   "execution_count": null,
   "id": "8561defe-940a-4352-8594-714c3efe171b",
   "metadata": {},
   "outputs": [],
   "source": []
  },
  {
   "cell_type": "markdown",
   "id": "cabe40e1-47c5-4f4c-91e5-33f16977ad91",
   "metadata": {},
   "source": [
    "Q.2.Answer"
   ]
  },
  {
   "cell_type": "markdown",
   "id": "a0233ec4-4832-4b8d-b889-c600e0db7f3c",
   "metadata": {},
   "source": [
    "loc: It is used for label-based indexing. You can use row and column labels to access data.\n",
    "\n",
    "iloc: It is used for integer-based indexing. You can use integer positions to access data."
   ]
  },
  {
   "cell_type": "code",
   "execution_count": null,
   "id": "f749e9e9-cd8c-40c8-9f69-f738dd8ad157",
   "metadata": {},
   "outputs": [],
   "source": []
  },
  {
   "cell_type": "markdown",
   "id": "79d456f6-7607-4e93-8964-bc971d6821da",
   "metadata": {},
   "source": [
    "Q.3. Answer"
   ]
  },
  {
   "cell_type": "code",
   "execution_count": 3,
   "id": "154e896f-0a0d-4fa0-a211-628e36982509",
   "metadata": {},
   "outputs": [
    {
     "name": "stdout",
     "output_type": "stream",
     "text": [
      "Output for new_df.loc[2]:\n",
      " course_name    Big Data\n",
      "duration              6\n",
      "Name: 2, dtype: object\n",
      "\n",
      "Output for new_df.iloc[2]:\n",
      " course_name    Machine Learning\n",
      "duration                      3\n",
      "Name: 1, dtype: object\n"
     ]
    }
   ],
   "source": [
    "import pandas as pd\n",
    "\n",
    "course_name = ['Data Science', 'Machine Learning', 'Big Data', 'Data Engineer']\n",
    "duration = [2, 3, 6, 4]\n",
    "df = pd.DataFrame(data={'course_name': course_name, 'duration': duration})\n",
    "\n",
    "# Reindex the DataFrame\n",
    "reindex = [3, 0, 1, 2]\n",
    "new_df = df.reindex(reindex)\n",
    "\n",
    "# Find the output for new_df.loc[2]\n",
    "output_loc = new_df.loc[2]\n",
    "\n",
    "# Find the output for new_df.iloc[2]\n",
    "output_iloc = new_df.iloc[2]\n",
    "\n",
    "# Print the outputs\n",
    "print(\"Output for new_df.loc[2]:\\n\", output_loc)\n",
    "print(\"\\nOutput for new_df.iloc[2]:\\n\", output_iloc)\n"
   ]
  },
  {
   "cell_type": "code",
   "execution_count": null,
   "id": "356afa4f-3bb2-4e28-b3f9-546ae4b5697c",
   "metadata": {},
   "outputs": [],
   "source": []
  },
  {
   "cell_type": "markdown",
   "id": "23de4cf6-ae59-4891-a23b-65cdc0b3dd05",
   "metadata": {},
   "source": [
    "Q.4.Answer"
   ]
  },
  {
   "cell_type": "code",
   "execution_count": null,
   "id": "0f1cac4c-687c-44e8-9091-aaa2ccb9843e",
   "metadata": {},
   "outputs": [],
   "source": []
  },
  {
   "cell_type": "markdown",
   "id": "b36e2cd9-5477-4d58-956c-9f2f20eddea2",
   "metadata": {},
   "source": [
    "Q.5.Answer"
   ]
  },
  {
   "cell_type": "code",
   "execution_count": null,
   "id": "a2f3c819-313d-421d-8fdc-37655bcbec4d",
   "metadata": {},
   "outputs": [],
   "source": []
  },
  {
   "cell_type": "markdown",
   "id": "38d6c621-0a1b-4add-927c-82234ec29524",
   "metadata": {},
   "source": [
    "Q.6. Answer"
   ]
  },
  {
   "cell_type": "markdown",
   "id": "0beaaa3e-716b-4754-a25b-b52075e205b6",
   "metadata": {},
   "source": [
    "In pandas, the term \"window functions\" refers to functions that perform calculations over a specified window or range of rows in a DataFrame. These functions are used in conjunction with the rolling() method to create a rolling window object, which allows you to apply calculations to subsets of data based on a defined window size.\n",
    "\n",
    "Some common types of window functions in pandas include:\n",
    "\n",
    "Rolling functions: Perform calculations over a moving window of a fixed size.\n",
    "Expanding functions: Perform calculations over an expanding window that grows with each row.\n",
    "EWM (Exponentially Weighted Moving) functions: Perform calculations using exponentially weighted moving averages.\n"
   ]
  },
  {
   "cell_type": "code",
   "execution_count": null,
   "id": "6880882f-d949-4e49-8f47-7f250164f877",
   "metadata": {},
   "outputs": [],
   "source": []
  },
  {
   "cell_type": "markdown",
   "id": "9c7b453d-34ac-4646-9212-154797e089ff",
   "metadata": {},
   "source": [
    "Q.7. Answer"
   ]
  },
  {
   "cell_type": "code",
   "execution_count": 10,
   "id": "2b1f0298-f6fa-434f-b431-d5592c7ee2e7",
   "metadata": {},
   "outputs": [
    {
     "name": "stdout",
     "output_type": "stream",
     "text": [
      "Current Month: 9\n",
      "Current Year: 2023\n"
     ]
    }
   ],
   "source": [
    "import pandas as pd\n",
    "from datetime import datetime\n",
    "\n",
    "# Get the current date\n",
    "current_date = datetime.now()\n",
    "\n",
    "# Extract the current month and year\n",
    "current_month = current_date.month\n",
    "current_year = current_date.year\n",
    "\n",
    "# Print the current month and year\n",
    "print(\"Current Month:\", current_month)\n",
    "print(\"Current Year:\", current_year)\n"
   ]
  },
  {
   "cell_type": "code",
   "execution_count": null,
   "id": "97588113-3cbe-4e9f-90d8-a537c7b7b9d9",
   "metadata": {},
   "outputs": [],
   "source": []
  },
  {
   "cell_type": "markdown",
   "id": "893c1675-0f2b-44f6-b68f-7ab0e6a3954b",
   "metadata": {},
   "source": [
    "Q.8.Answer"
   ]
  },
  {
   "cell_type": "code",
   "execution_count": null,
   "id": "e26e0342-a6bf-4dcf-991c-074ce13547c0",
   "metadata": {},
   "outputs": [],
   "source": [
    "import pandas as pd\n",
    "\n",
    "# Get input dates from the user\n",
    "date1_str = input(\"Enter the first date (YYYY-MM-DD): \")\n",
    "date2_str = input(\"Enter the second date (YYYY-MM-DD): \")\n",
    "\n",
    "# Convert input strings to datetime objects\n",
    "date1 = pd.to_datetime(date1_str)\n",
    "date2 = pd.to_datetime(date2_str)\n",
    "\n",
    "# Calculate the time difference using time delta\n",
    "time_difference = date2 - date1\n",
    "\n",
    "# Extract days, hours, and minutes from the time difference\n",
    "days = time_difference.days\n",
    "hours, remainder = div\n"
   ]
  },
  {
   "cell_type": "code",
   "execution_count": null,
   "id": "8fffd02e-f00a-465c-b164-7d3ca1ee7193",
   "metadata": {},
   "outputs": [],
   "source": []
  },
  {
   "cell_type": "code",
   "execution_count": null,
   "id": "f52d38a9-b0d6-41f6-b5d5-31e0bacd0e80",
   "metadata": {},
   "outputs": [],
   "source": [
    "Q.9.Answer"
   ]
  }
 ],
 "metadata": {
  "kernelspec": {
   "display_name": "Python 3 (ipykernel)",
   "language": "python",
   "name": "python3"
  },
  "language_info": {
   "codemirror_mode": {
    "name": "ipython",
    "version": 3
   },
   "file_extension": ".py",
   "mimetype": "text/x-python",
   "name": "python",
   "nbconvert_exporter": "python",
   "pygments_lexer": "ipython3",
   "version": "3.10.8"
  }
 },
 "nbformat": 4,
 "nbformat_minor": 5
}
