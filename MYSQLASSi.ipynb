{
 "cells": [
  {
   "cell_type": "markdown",
   "id": "483e963e-1164-4182-8ff2-d6629965c526",
   "metadata": {},
   "source": [
    "Q.1.Answer"
   ]
  },
  {
   "cell_type": "markdown",
   "id": "60b0dd62-b686-427b-be1e-a4b5186caf56",
   "metadata": {},
   "source": [
    "A database is a structured collection of data organized for efficient storage, retrieval, and management. Databases are used to store, manipulate, and retrieve data in a structured and organized manner. They are a fundamental component of most modern software applications, providing a systematic way to manage and access data.\n",
    "\n",
    "SQL (Relational Databases): SQL databases are based on a structured, tabular data model. They use tables with rows and columns to store data. Data in SQL databases is organized into a well-defined schema with predefined data types.\n",
    "\n",
    "NoSQL Databases: NoSQL databases use various data models, including document, key-value, wide-column, and graph models. They are more flexible in terms of data structure and do not require a fixed schema.\n",
    "\n",
    "SQL (Relational Databases): SQL databases are well-suited for applications with structured data, complex queries, and strong data consistency requirements. They are commonly used in traditional business applications, financial systems, and relational data analysis.\n",
    "\n",
    "NoSQL Databases: NoSQL databases are suitable for applications with unstructured or semi-structured data, high scalability and performance demands, and flexible data models. They are often used in web and mobile applications, real-time analytics, and large-scale data storage."
   ]
  },
  {
   "cell_type": "code",
   "execution_count": null,
   "id": "40dd46a1-af0f-4c54-b834-d3d426c662e3",
   "metadata": {},
   "outputs": [],
   "source": []
  },
  {
   "cell_type": "markdown",
   "id": "15e1a1dc-7c2a-45b4-9df8-d87009609661",
   "metadata": {},
   "source": [
    "Q.2. Answer"
   ]
  },
  {
   "cell_type": "markdown",
   "id": "e5f9c52d-9b17-41a0-8bec-011ef410314b",
   "metadata": {},
   "source": [
    "DDL (Data Definition Language) is a subset of SQL (Structured Query Language) that is used to define, manage, and manipulate the structure of a database. DDL statements are responsible for creating, altering, and deleting database objects such as tables, indexes, and views. They do not perform data manipulation; instead, they focus on the schema and structure of the database.\n",
    "\n",
    "\n",
    "1. CREATE:\n",
    "\n",
    "The CREATE statement is used to create new database objects, such as tables, indexes, and views\n",
    "\n",
    "2. DROP:\n",
    "\n",
    "The DROP statement is used to delete existing database objects, such as tables, indexes, and views.\n",
    "\n",
    "3. ALTER:\n",
    "\n",
    "The ALTER statement is used to modify the structure of an existing database object, such as adding, modifying, or deleting columns in a table.\n",
    "\n",
    "4. TRUNCATE:\n",
    "\n",
    "The TRUNCATE statement is used to remove all data from an existing table while keeping the table structure intact. It is a faster alternative to DELETE for removing all records."
   ]
  },
  {
   "cell_type": "code",
   "execution_count": 1,
   "id": "40044f99-352b-4043-90d7-2f2e5f9f2112",
   "metadata": {},
   "outputs": [
    {
     "ename": "SyntaxError",
     "evalue": "invalid syntax (1028909397.py, line 3)",
     "output_type": "error",
     "traceback": [
      "\u001b[0;36m  Cell \u001b[0;32mIn[1], line 3\u001b[0;36m\u001b[0m\n\u001b[0;31m    CREATE TABLE employees (\u001b[0m\n\u001b[0m           ^\u001b[0m\n\u001b[0;31mSyntaxError\u001b[0m\u001b[0;31m:\u001b[0m invalid syntax\n"
     ]
    }
   ],
   "source": [
    "# create\n",
    "\n",
    "CREATE TABLE employees (\n",
    "    employee_id INT PRIMARY KEY,\n",
    "    first_name VARCHAR(50),\n",
    "    last_name VARCHAR(50),\n",
    "    hire_date DATE\n",
    ");\n"
   ]
  },
  {
   "cell_type": "code",
   "execution_count": null,
   "id": "bfadbc40-2abd-4537-a3da-37930f33a0a1",
   "metadata": {},
   "outputs": [],
   "source": []
  },
  {
   "cell_type": "markdown",
   "id": "6a2849bc-2810-4cd8-8e9b-09e740541c15",
   "metadata": {},
   "source": [
    "Q.3.Answer"
   ]
  },
  {
   "cell_type": "markdown",
   "id": "eb1c0075-df2c-40dc-8e86-d2b574a55b30",
   "metadata": {},
   "source": [
    "DML (Data Manipulation Language) is a subset of SQL (Structured Query Language) used to interact with and manipulate data within a database. DML statements are responsible for adding, modifying, and removing data records within database tables. The primary DML statements are INSERT, UPDATE, and DELETE.\n",
    "\n",
    "\n",
    "1. Insert\n"
   ]
  }
 ],
 "metadata": {
  "kernelspec": {
   "display_name": "Python 3 (ipykernel)",
   "language": "python",
   "name": "python3"
  },
  "language_info": {
   "codemirror_mode": {
    "name": "ipython",
    "version": 3
   },
   "file_extension": ".py",
   "mimetype": "text/x-python",
   "name": "python",
   "nbconvert_exporter": "python",
   "pygments_lexer": "ipython3",
   "version": "3.10.8"
  }
 },
 "nbformat": 4,
 "nbformat_minor": 5
}
