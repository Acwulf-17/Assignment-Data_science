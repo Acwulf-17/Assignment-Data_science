{
 "cells": [
  {
   "cell_type": "markdown",
   "id": "ded1f207-3c1b-4ad0-a1f8-17231d072ac5",
   "metadata": {},
   "source": [
    "Q.1.Answer"
   ]
  },
  {
   "cell_type": "markdown",
   "id": "97863e89-59a8-415e-846f-a78442170293",
   "metadata": {},
   "source": [
    "To create a Bokeh plot using Python code, you need to follow these steps:\n",
    "\n",
    "\n",
    "Import the necessary Bokeh modules and functions.\n",
    "\n",
    "Prepare your data, which could be in the form of Python lists, NumPy arrays, or Pandas DataFrames.\n",
    "\n",
    "Create a figure object using figure() to specify the plot's properties (e.g., width, height, title).\n",
    "\n",
    "Add glyphs (geometric shapes like circles, lines, bars) to the figure using methods like circle(), line(), or rect() depending on the type of plot you want.\n",
    "\n",
    "Customize the appearance of the plot, including axes, titles, labels, and legends.\n",
    "\n",
    "Show the plot using show() to display it in a browser or save it to a file."
   ]
  },
  {
   "cell_type": "code",
   "execution_count": null,
   "id": "d60148d0-d09d-47f6-9b0c-11001be853ab",
   "metadata": {},
   "outputs": [],
   "source": []
  },
  {
   "cell_type": "markdown",
   "id": "8eba8f87-b4e8-4461-8bb8-306dee26e5bb",
   "metadata": {},
   "source": [
    "Q.2.Answer"
   ]
  },
  {
   "cell_type": "markdown",
   "id": "ba612124-aa01-44d5-b9a2-34c3cf629aeb",
   "metadata": {},
   "source": [
    "Glyphs in Bokeh are visual representations of data points in a plot. They can be various shapes, such as circles, squares, lines, or bars, used to display data. You can add glyphs to a Bokeh plot using specific methods provided by the figure object.\n",
    "\n"
   ]
  },
  {
   "cell_type": "code",
   "execution_count": 1,
   "id": "5e33388a-94eb-4bd5-86ab-61ec3aa7fbae",
   "metadata": {},
   "outputs": [],
   "source": [
    "from bokeh.plotting import figure, show\n",
    "\n",
    "# Sample data\n",
    "x = [1, 2, 3, 4, 5]\n",
    "y = [5, 4, 3, 2, 1]\n",
    "\n",
    "# Create a Bokeh figure\n",
    "p = figure(title=\"Circle Glyph Example\", x_axis_label=\"X-axis\", y_axis_label=\"Y-axis\")\n",
    "\n",
    "# Add a circle glyph to the figure\n",
    "p.circle(x, y, size=20, color=\"blue\", alpha=0.6)\n",
    "\n",
    "# Show the plot in a browser\n",
    "show(p)\n"
   ]
  },
  {
   "cell_type": "code",
   "execution_count": null,
   "id": "89fbf7c1-8d0b-4821-9a1f-4273d65f4da0",
   "metadata": {},
   "outputs": [],
   "source": []
  },
  {
   "cell_type": "markdown",
   "id": "e7f19848-906f-4f86-a8c1-0ade9f6b888a",
   "metadata": {},
   "source": [
    "Q.3.Answer"
   ]
  },
  {
   "cell_type": "markdown",
   "id": "f44ac68b-e681-461e-8991-9a57328ffa1a",
   "metadata": {},
   "source": [
    "You can customize the appearance of a Bokeh plot by modifying various attributes of the figure object. Here are some common customizations:\n",
    "\n",
    "\n",
    "Title: Use p.title.text to set the title text and p.title.text_font_size to adjust the font size.\n",
    "\n",
    "Axes Labels: Use p.xaxis.axis_label and p.yaxis.axis_label to set the axis labels.\n",
    "\n",
    "Axis Ticks: Customize tick labels, positions, and formatting using p.xaxis.ticker, p.yaxis.ticker, and p.xaxis.formatter, p.yaxis.formatter.\n",
    "\n",
    "Legend: Add legends to the plot by specifying a legend_label parameter in the glyph methods and calling p.legend.click_policy to control interaction."
   ]
  },
  {
   "cell_type": "code",
   "execution_count": null,
   "id": "04e0b511-7942-419d-9fd1-2812f8853b2f",
   "metadata": {},
   "outputs": [],
   "source": []
  },
  {
   "cell_type": "markdown",
   "id": "8acede44-3486-4d0a-b49c-d5f0c6505661",
   "metadata": {},
   "source": [
    "Q.4.Answer"
   ]
  },
  {
   "cell_type": "markdown",
   "id": "53858cff-71b4-4568-b2da-4cf1a7023ddf",
   "metadata": {},
   "source": [
    "A Bokeh server is a component of the Bokeh library that allows you to create interactive web applications with real-time updates. With Bokeh server, you can create dynamic and interactive plots that respond to user input or data changes.\n",
    "\n",
    "To use Bokeh server, you need to define a Python script that specifies the layout and behavior of your application. You can add widgets like buttons, sliders, or text inputs to control plot elements or data sources. When a user interacts with the application, the server can update the plot"
   ]
  },
  {
   "cell_type": "code",
   "execution_count": null,
   "id": "109761db-9279-4f2f-b86f-734e3e1faa4f",
   "metadata": {},
   "outputs": [],
   "source": []
  },
  {
   "cell_type": "markdown",
   "id": "15cd4815-7283-407b-a34e-55e13c978ae0",
   "metadata": {},
   "source": [
    "Q.5.Answer"
   ]
  },
  {
   "cell_type": "markdown",
   "id": "3948cd1d-7b4d-4ab0-b2b3-b80f2b8daf04",
   "metadata": {},
   "source": [
    "To embed a Bokeh plot into a web page or dashboard using Flask or Django, you can follow these general steps:\n",
    "\n",
    "Using Flask:\n",
    "\n",
    "Install Flask if you haven't already\n",
    "\n",
    "Create a Flask web application.\n",
    "\n",
    "Import the necessary Bokeh modules and functions in your Flask application.\n",
    "\n",
    "Define a route in your Flask app that will render the Bokeh plot.\n",
    "\n",
    "Inside the route function, create the Bokeh plot as described in the previous answer.\n",
    "\n",
    "Use components() from bokeh.embed to generate the HTML and JavaScript components of the plot.\n",
    "\n",
    "Pass these components to your HTML template using Flask's templating engine.\n",
    "\n",
    "In your HTML template, include the Bokeh JavaScript and CSS resources, and use the components to display the plot.\n",
    "\n",
    "Using Django:\n",
    "\n",
    "Create a Django project and app if you haven't already.\n",
    "\n",
    "Install Django and Bokeh if you haven't already\n"
   ]
  },
  {
   "cell_type": "code",
   "execution_count": null,
   "id": "13aad0fa-7bd8-4df5-baa5-e891388a60cd",
   "metadata": {},
   "outputs": [],
   "source": []
  },
  {
   "cell_type": "code",
   "execution_count": null,
   "id": "5022c4f5-05b4-46e9-bfdd-fa959797dc71",
   "metadata": {},
   "outputs": [],
   "source": []
  }
 ],
 "metadata": {
  "kernelspec": {
   "display_name": "Python 3 (ipykernel)",
   "language": "python",
   "name": "python3"
  },
  "language_info": {
   "codemirror_mode": {
    "name": "ipython",
    "version": 3
   },
   "file_extension": ".py",
   "mimetype": "text/x-python",
   "name": "python",
   "nbconvert_exporter": "python",
   "pygments_lexer": "ipython3",
   "version": "3.10.8"
  }
 },
 "nbformat": 4,
 "nbformat_minor": 5
}
