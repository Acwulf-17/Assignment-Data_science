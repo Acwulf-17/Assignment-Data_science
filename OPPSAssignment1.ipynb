{
 "cells": [
  {
   "cell_type": "markdown",
   "id": "390130b4-f2c0-4942-8750-134b76ce9ca3",
   "metadata": {},
   "source": [
    "Q.1 Answer"
   ]
  },
  {
   "cell_type": "markdown",
   "id": "3635e181-46e7-4214-991b-817477936b3e",
   "metadata": {},
   "source": [
    "A class is a blueprint or template for creating objects. It defines a set of attributes (also known as properties or fields) and methods (functions) that objects of that class will have."
   ]
  },
  {
   "cell_type": "code",
   "execution_count": 1,
   "id": "0c252f62-ae62-4d4a-b065-b5ebb2963e84",
   "metadata": {},
   "outputs": [],
   "source": [
    "class Car:\n",
    "    # Constructor method to initialize attributes\n",
    "    def __init__(self, make, model, year):\n",
    "        self.make = make\n",
    "        self.model = model\n",
    "        self.year = year\n",
    "        self.speed = 0\n"
   ]
  },
  {
   "cell_type": "markdown",
   "id": "e8b0582c-9e2f-4d2c-a3b5-197ef2d264ec",
   "metadata": {},
   "source": [
    "An object is an instance of a class. It is a concrete realization of the blueprint defined by the class, with its own set of attribute values."
   ]
  },
  {
   "cell_type": "code",
   "execution_count": 2,
   "id": "5ad07807-478c-4a80-8149-380b432dfea9",
   "metadata": {},
   "outputs": [],
   "source": [
    "car1 = Car(\"Toyota\", \"Camry\", 2023)\n",
    "car2 = Car(\"Honda\", \"Civic\", 2023)\n"
   ]
  },
  {
   "cell_type": "code",
   "execution_count": null,
   "id": "e361dcdb-01ac-4378-ba7a-becc102688af",
   "metadata": {},
   "outputs": [],
   "source": []
  },
  {
   "cell_type": "markdown",
   "id": "f5269dea-98f8-4738-9fda-817c431b012c",
   "metadata": {},
   "source": [
    "Q.2 Answer"
   ]
  },
  {
   "cell_type": "markdown",
   "id": "a64b78a2-c450-4fc3-ab4f-c3297840c87a",
   "metadata": {},
   "source": [
    "1.Inheritance: Inheritance is a mechanism that allows one class (the child or subclass) to inherit the properties and behaviors (attributes and methods) of another class (the parent or superclass).\n",
    "\n",
    "2.Encapsulation: Encapsulation is the concept of bundling data (attributes or properties) and methods (functions) that operate on that data into a single unit called a class.\n",
    "\n",
    "3.Polymorphism: Polymorphism allows objects of different classes to be treated as objects of a common superclass.\n",
    "\n",
    "4.Abstraction: Abstraction involves simplifying complex reality by modeling classes based on the essential properties and behaviors relevant to the problem domain, while hiding irrelevant details."
   ]
  },
  {
   "cell_type": "code",
   "execution_count": null,
   "id": "37ae8620-aebe-4464-8e9c-15c0c143cd9b",
   "metadata": {},
   "outputs": [],
   "source": []
  },
  {
   "cell_type": "markdown",
   "id": "472bcf31-5f3d-475c-b77c-a5bfc78350d4",
   "metadata": {},
   "source": [
    "Q.3. Answer"
   ]
  },
  {
   "cell_type": "markdown",
   "id": "a252bd0b-6ec5-4bc0-af96-97917415fc3d",
   "metadata": {},
   "source": [
    "The __init__() function is used in object-oriented programming (OOP) to initialize the attributes (properties or fields) of an object when it is created from a class. It is an essential part of defining a class because it sets up the initial state or values for the object. "
   ]
  },
  {
   "cell_type": "code",
   "execution_count": 3,
   "id": "d1f95891-30aa-4b7d-91fa-973fab062324",
   "metadata": {},
   "outputs": [
    {
     "name": "stdout",
     "output_type": "stream",
     "text": [
      "Name: Alice, Age: 18, Grade: A\n",
      "Name: Bob, Age: 17, Grade: B\n"
     ]
    }
   ],
   "source": [
    "class Student:\n",
    "    # The __init__ method is used to initialize student attributes\n",
    "    def __init__(self, name, age, grade):\n",
    "        self.name = name\n",
    "        self.age = age\n",
    "        self.grade = grade\n",
    "\n",
    "    def display_info(self):\n",
    "        print(f\"Name: {self.name}, Age: {self.age}, Grade: {self.grade}\")\n",
    "\n",
    "# Create two Student objects and pass initial values to __init__\n",
    "student1 = Student(\"Alice\", 18, \"A\")\n",
    "student2 = Student(\"Bob\", 17, \"B\")\n",
    "\n",
    "# Display information about the students\n",
    "student1.display_info()  \n",
    "student2.display_info() \n"
   ]
  },
  {
   "cell_type": "code",
   "execution_count": null,
   "id": "a0936bfb-95c5-4c86-bb18-daf9009470c8",
   "metadata": {},
   "outputs": [],
   "source": []
  },
  {
   "cell_type": "markdown",
   "id": "7d51d594-1721-48d1-a1a3-1ca83e554760",
   "metadata": {},
   "source": [
    "Q.4. Answer"
   ]
  },
  {
   "cell_type": "markdown",
   "id": "2344cedd-5209-42cb-8a72-0f4a9d967f9f",
   "metadata": {},
   "source": [
    "In object-oriented programming (OOP), the self keyword is used to refer to the current instance of a class within its methods."
   ]
  },
  {
   "cell_type": "markdown",
   "id": "3473d37a-7c0c-43ad-9544-b4189440afef",
   "metadata": {},
   "source": [
    "Q.5 answer"
   ]
  },
  {
   "cell_type": "markdown",
   "id": "3bdc35ed-a20c-4f94-9925-a0bd1b809f71",
   "metadata": {},
   "source": [
    "Inheritance is a fundamental concept in object-oriented programming (OOP) that allows one class to inherit the properties and behaviors (attributes and methods) of another class. "
   ]
  },
  {
   "cell_type": "markdown",
   "id": "a13c5654-4155-4ada-bed1-23ed36bb0f78",
   "metadata": {},
   "source": [
    "Single Inheritance: Single inheritance refers to a situation where a subclass inherits from a single superclass. "
   ]
  },
  {
   "cell_type": "code",
   "execution_count": 4,
   "id": "ca3713ec-f7f2-48b6-a3fd-3f819ad91f3b",
   "metadata": {},
   "outputs": [
    {
     "name": "stdout",
     "output_type": "stream",
     "text": [
      "Woof!\n"
     ]
    }
   ],
   "source": [
    "# Eg of single inheritance.\n",
    "\n",
    "# Base class (superclass)\n",
    "class Animal:\n",
    "    def speak(self):\n",
    "        pass\n",
    "\n",
    "# Derived class (subclass) inheriting from Animal\n",
    "class Dog(Animal):\n",
    "    def speak(self):\n",
    "        return \"Woof!\"\n",
    "\n",
    "# Create an instance of the Dog class\n",
    "dog = Dog()\n",
    "print(dog.speak())  # Output: \"Woof!\"\n"
   ]
  },
  {
   "cell_type": "markdown",
   "id": "1859f286-b7f7-4501-8c73-7649b5dc7d3b",
   "metadata": {},
   "source": [
    "Multiple Inheritance: Multiple inheritance occurs when a subclass inherits from more than one superclass. In this case, the derived class inherits attributes and methods from multiple base classes."
   ]
  },
  {
   "cell_type": "code",
   "execution_count": 5,
   "id": "d525a593-1c9f-40d7-8a21-0dbba3bfab4f",
   "metadata": {},
   "outputs": [],
   "source": [
    "#Eg of Multiple Inheritance\n",
    "\n",
    "# Base classes (superclasses)\n",
    "class Parent1:\n",
    "    def method1(self):\n",
    "        pass\n",
    "\n",
    "class Parent2:\n",
    "    def method2(self):\n",
    "        pass\n",
    "\n",
    "# Derived class (subclass) inheriting from both Parent1 and Parent2\n",
    "class Child(Parent1, Parent2):\n",
    "    pass\n",
    "\n",
    "# Create an instance of the Child class\n",
    "child = Child()\n",
    "child.method1()  # Access method from Parent1\n",
    "child.method2()  # Access method from Parent2\n"
   ]
  },
  {
   "cell_type": "code",
   "execution_count": null,
   "id": "74c35ce8-c874-46b6-a404-cfe8aa877871",
   "metadata": {},
   "outputs": [],
   "source": []
  }
 ],
 "metadata": {
  "kernelspec": {
   "display_name": "Python 3 (ipykernel)",
   "language": "python",
   "name": "python3"
  },
  "language_info": {
   "codemirror_mode": {
    "name": "ipython",
    "version": 3
   },
   "file_extension": ".py",
   "mimetype": "text/x-python",
   "name": "python",
   "nbconvert_exporter": "python",
   "pygments_lexer": "ipython3",
   "version": "3.10.8"
  }
 },
 "nbformat": 4,
 "nbformat_minor": 5
}
