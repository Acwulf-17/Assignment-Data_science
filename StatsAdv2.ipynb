{
 "cells": [
  {
   "cell_type": "markdown",
   "id": "179f6a83-4299-4422-b41a-3f05730e604f",
   "metadata": {},
   "source": [
    "Q.1.Answer"
   ]
  },
  {
   "cell_type": "markdown",
   "id": "f7ae411e-7cbf-406a-9a0d-97d358b44e89",
   "metadata": {},
   "source": [
    "Probability Mass Function (PMF) and Probability Density Function (PDF) are mathematical functions used in probability and statistics to describe the likelihood of a random variable taking on specific values.\n",
    "\n",
    "PMF: PMF is used for discrete random variables and gives the probability of each possible outcome. It assigns probabilities to individual data points. For example, in the case of a fair six-sided die, the PMF assigns a probability of 1/6 to each possible outcome (1, 2, 3, 4, 5, or 6).\n",
    "\n",
    "PDF: PDF is used for continuous random variables and provides the probability density or relative likelihood of a random variable taking on a specific value. It describes the shape of the distribution. An example is the PDF of the standard normal distribution, which is given by the bell-shaped curve formula."
   ]
  },
  {
   "cell_type": "code",
   "execution_count": null,
   "id": "74c5ec29-93f8-4434-b119-b692ed90dbca",
   "metadata": {},
   "outputs": [],
   "source": []
  },
  {
   "cell_type": "markdown",
   "id": "68e6cc34-2cc0-49d1-9470-4c875a24c3d2",
   "metadata": {},
   "source": [
    "Q.2.Answer"
   ]
  },
  {
   "cell_type": "markdown",
   "id": "fc321478-0b2f-4219-bc06-fe6d94195a46",
   "metadata": {},
   "source": [
    "Cumulative Density Function (CDF) is a function that gives the probability that a random variable takes on a value less than or equal to a specified value. CDF accumulates the probabilities as you move from the lowest possible value to higher values.\n",
    "\n",
    "Example: The CDF of a fair six-sided die would be a step function, where each step increases by 1/6 at each integer value from 1 to 6. It represents the cumulative probability of rolling a value less than or equal to a specific number."
   ]
  },
  {
   "cell_type": "code",
   "execution_count": null,
   "id": "75783e01-d240-4406-ac4c-37ebec35e90e",
   "metadata": {},
   "outputs": [],
   "source": []
  },
  {
   "cell_type": "markdown",
   "id": "935f3676-0cb9-4206-bad5-be1b9bc9238e",
   "metadata": {},
   "source": [
    "Q.3.Answer"
   ]
  },
  {
   "cell_type": "markdown",
   "id": "6ffde588-8eb7-4682-a709-e4eed9f5884e",
   "metadata": {},
   "source": [
    "The normal distribution is commonly used to model situations where data is symmetrically distributed around a central mean value. Examples include:\n",
    "\n",
    "Heights of individuals in a population.\n",
    "IQ scores in a population.\n",
    "Errors in measurements.\n",
    "Many natural phenomena like the distribution of rainfall.\n",
    "The parameters of the normal distribution are the mean (μ) and the standard deviation (σ). The mean represents the central value, and the standard deviation determines the spread or variability of the data. Larger standard deviations result in wider distributions."
   ]
  },
  {
   "cell_type": "code",
   "execution_count": null,
   "id": "e16fd719-d27d-46f4-8da3-247987a8f597",
   "metadata": {},
   "outputs": [],
   "source": []
  },
  {
   "cell_type": "markdown",
   "id": "99244d74-d39b-4d15-8428-dd0b7b9383b2",
   "metadata": {},
   "source": [
    "Q.4.Answer"
   ]
  },
  {
   "cell_type": "markdown",
   "id": "055855d7-6b70-4b3f-8eb1-881c36170169",
   "metadata": {},
   "source": [
    "The normal distribution is essential in statistics for several reasons:\n",
    "\n",
    "Many real-world phenomena naturally follow a normal distribution.\n",
    "It simplifies statistical analysis due to its known properties.\n",
    "It is the foundation for various statistical tests and confidence intervals.\n",
    "It allows for the modeling of random errors in measurements.\n",
    "Examples of Normal Distribution in real life include the heights of individuals in a large population, IQ scores, blood pressure measurements, and many more.\n",
    "\n"
   ]
  },
  {
   "cell_type": "code",
   "execution_count": null,
   "id": "1088bfba-6196-4e07-8708-dd3123b87c64",
   "metadata": {},
   "outputs": [],
   "source": []
  },
  {
   "cell_type": "markdown",
   "id": "cdf4021d-0a8b-4a19-b722-c788eeaea53e",
   "metadata": {},
   "source": [
    "Q.5.Answer"
   ]
  },
  {
   "cell_type": "markdown",
   "id": "327c79c4-c560-4108-9cb3-e60e5dae6ba6",
   "metadata": {},
   "source": [
    "Bernoulli Distribution models a binary outcome, such as success/failure or yes/no. It has a single parameter, p, which represents the probability of success.\n",
    "\n",
    "Example: Modeling the outcome of a single coin flip, where heads may represent success (p = 0.5) and tails represent failure.\n",
    "\n",
    "Difference: Bernoulli Distribution models a single trial with two possible outcomes, while Binomial Distribution models the number of successes in a fixed number of independent Bernoulli trials."
   ]
  },
  {
   "cell_type": "code",
   "execution_count": null,
   "id": "4251b184-72ad-482a-a753-0fd0b9404b1c",
   "metadata": {},
   "outputs": [],
   "source": []
  },
  {
   "cell_type": "markdown",
   "id": "4961fb0a-587f-4690-9239-7f38de523855",
   "metadata": {},
   "source": [
    "Q.6.Answer"
   ]
  },
  {
   "cell_type": "markdown",
   "id": "01aa6904-5c3c-4825-8faf-47fe5f172846",
   "metadata": {},
   "source": [
    "To calculate the probability that a randomly selected observation from a normally distributed dataset with a mean (μ) of 50 and a standard deviation (σ) of 10 is greater than 60, you can use the z-score formula:\n",
    "\n",
    "Z = (X - μ) / σ\n",
    "\n",
    "Where X is the value you want to find the probability for (in this case, 60), μ is the mean (50), and σ is the standard deviation (10).\n",
    "\n",
    "Calculate the z-score:\n",
    "Z = (60 - 50) / 10 = 1\n",
    "\n",
    "Next, use a standard normal distribution table or calculator to find the probability associated with a z-score of 1. In most standard normal distribution tables, this corresponds to a probability of approximately 0.8413.\n",
    "\n",
    "So, the probability that a randomly selected observation is greater than 60 is approximately 0.8413."
   ]
  },
  {
   "cell_type": "code",
   "execution_count": null,
   "id": "7aa24d89-019c-4da1-af83-208664532b0b",
   "metadata": {},
   "outputs": [],
   "source": []
  },
  {
   "cell_type": "markdown",
   "id": "c66f2b7f-320a-48c1-99cb-911823c1836c",
   "metadata": {},
   "source": [
    "Q.7.AQnswer"
   ]
  },
  {
   "cell_type": "markdown",
   "id": "91ad4533-8013-4740-a4b2-7d4b0b9f4709",
   "metadata": {},
   "source": [
    "Uniform Distribution is a probability distribution where all outcomes or values are equally likely. It forms a rectangular-shaped distribution with a constant probability density between two limits.\n",
    "\n",
    "Example: Rolling a fair six-sided die, where each outcome (1 to 6) has an equal probability of 1/6."
   ]
  },
  {
   "cell_type": "code",
   "execution_count": null,
   "id": "17b3355e-c0ca-476e-8ef5-e71e5891dd4a",
   "metadata": {},
   "outputs": [],
   "source": []
  },
  {
   "cell_type": "markdown",
   "id": "52bfc098-0093-4d19-953e-aa8ed4bba0ee",
   "metadata": {},
   "source": [
    "Q,8.Answer"
   ]
  },
  {
   "cell_type": "markdown",
   "id": "528a869d-1a10-414e-a38f-5d549352dac7",
   "metadata": {},
   "source": [
    "The z-score, also known as the standard score, is a measure of how many standard deviations a data point is from the mean of a normal distribution. It is used to standardize data and compare values from different normal distributions. The importance of the z-score lies in its ability to quantify how extreme or typical a data point is within its distribution."
   ]
  },
  {
   "cell_type": "code",
   "execution_count": null,
   "id": "756c2eae-1cab-4465-ab3b-636048c7ae4c",
   "metadata": {},
   "outputs": [],
   "source": []
  },
  {
   "cell_type": "raw",
   "id": "0f54c42c-39ce-415e-b7ab-490ef8513c28",
   "metadata": {},
   "source": [
    "Q.9.Answer"
   ]
  },
  {
   "cell_type": "markdown",
   "id": "3fcbe7a7-6639-4d40-b85d-582f2b5320ba",
   "metadata": {},
   "source": [
    " Central Limit Theorem (CLT) states that the sampling distribution of the sample mean (or other sample statistics) approaches a normal distribution as the sample size increases, regardless of the original population distribution. It is significant because it allows us to make inferences about a population based on a sample, assuming certain conditions are met."
   ]
  },
  {
   "cell_type": "code",
   "execution_count": null,
   "id": "a2629480-4d5c-4dd3-bf57-9f6727deeea6",
   "metadata": {},
   "outputs": [],
   "source": []
  },
  {
   "cell_type": "markdown",
   "id": "42ea1857-7fd9-458d-aba6-db1ecfbdfec7",
   "metadata": {},
   "source": [
    "Q.10.Answer"
   ]
  },
  {
   "cell_type": "markdown",
   "id": "9de93260-ddee-457c-b62f-54327be86090",
   "metadata": {},
   "source": [
    "Assumptions of the Central Limit Theorem:\n",
    "\n",
    "The random samples are independently drawn from the population.\n",
    "\n",
    "The sample size is sufficiently large (typically n ≥ 30 for a good approximation).\n",
    "\n",
    "The population has a finite mean (μ"
   ]
  },
  {
   "cell_type": "markdown",
   "id": "97a43f2a-0e92-4fec-b8b5-d8e889f5daa0",
   "metadata": {},
   "source": []
  }
 ],
 "metadata": {
  "kernelspec": {
   "display_name": "Python 3 (ipykernel)",
   "language": "python",
   "name": "python3"
  },
  "language_info": {
   "codemirror_mode": {
    "name": "ipython",
    "version": 3
   },
   "file_extension": ".py",
   "mimetype": "text/x-python",
   "name": "python",
   "nbconvert_exporter": "python",
   "pygments_lexer": "ipython3",
   "version": "3.10.8"
  }
 },
 "nbformat": 4,
 "nbformat_minor": 5
}
