{
 "cells": [
  {
   "cell_type": "markdown",
   "id": "b9c61fbc-589f-45a3-a16b-a6948d08cb92",
   "metadata": {},
   "source": [
    "Q.1.Answer"
   ]
  },
  {
   "cell_type": "code",
   "execution_count": 1,
   "id": "7b419101-a977-4a48-a63c-d2b57ba2a858",
   "metadata": {},
   "outputs": [
    {
     "name": "stdout",
     "output_type": "stream",
     "text": [
      "95% Confidence Interval: (49.02001800772997, 50.97998199227003)\n"
     ]
    }
   ],
   "source": [
    "import scipy.stats as stats\n",
    "\n",
    "# Sample statistics\n",
    "sample_mean = 50\n",
    "sample_std_dev = 5\n",
    "sample_size = 100  # You need to specify the sample size\n",
    "\n",
    "# Calculate the margin of error\n",
    "margin_of_error = stats.norm.ppf(0.975) * (sample_std_dev / (sample_size ** 0.5))\n",
    "\n",
    "# Calculate the confidence interval\n",
    "confidence_interval = (sample_mean - margin_of_error, sample_mean + margin_of_error)\n",
    "\n",
    "print(\"95% Confidence Interval:\", confidence_interval)\n"
   ]
  },
  {
   "cell_type": "code",
   "execution_count": null,
   "id": "edd5f8ea-33aa-4255-a765-3c968bfa5366",
   "metadata": {},
   "outputs": [],
   "source": []
  },
  {
   "cell_type": "markdown",
   "id": "ce572727-4f33-481a-94f5-44f05eccb4bc",
   "metadata": {},
   "source": [
    "Q.2.Answer"
   ]
  },
  {
   "cell_type": "code",
   "execution_count": 2,
   "id": "ff4c85b4-9a45-47f3-ae56-e98286e901eb",
   "metadata": {},
   "outputs": [
    {
     "name": "stdout",
     "output_type": "stream",
     "text": [
      "Fail to reject the null hypothesis: The distribution matches the expected distribution.\n"
     ]
    }
   ],
   "source": [
    "import scipy.stats as stats\n",
    "import numpy as np\n",
    "\n",
    "# Observed frequencies\n",
    "observed = np.array([30, 25, 22, 12, 10, 21])  # Replace with your actual observed data\n",
    "\n",
    "# Expected frequencies (20% for each color)\n",
    "expected = np.array([0.2, 0.2, 0.2, 0.1, 0.1, 0.2]) * np.sum(observed)\n",
    "\n",
    "# Perform the chi-square goodness of fit test\n",
    "chi_square, p_value = stats.chisquare(f_obs=observed, f_exp=expected)\n",
    "\n",
    "# Set the significance level\n",
    "alpha = 0.05\n",
    "\n",
    "# Check if the p-value is less than the significance level\n",
    "if p_value < alpha:\n",
    "    print(\"Reject the null hypothesis: The distribution does not match the expected distribution.\")\n",
    "else:\n",
    "    print(\"Fail to reject the null hypothesis: The distribution matches the expected distribution.\")\n"
   ]
  },
  {
   "cell_type": "code",
   "execution_count": null,
   "id": "cc980228-a390-4c8f-815f-7ccfbd584ff8",
   "metadata": {},
   "outputs": [],
   "source": []
  },
  {
   "cell_type": "markdown",
   "id": "5455a5b7-aad7-4a45-a36e-d39e2604b423",
   "metadata": {},
   "source": [
    "Q.3.Answer"
   ]
  },
  {
   "cell_type": "code",
   "execution_count": 9,
   "id": "91b17323-7444-4d89-987a-d8f7984cdf37",
   "metadata": {},
   "outputs": [
    {
     "name": "stdout",
     "output_type": "stream",
     "text": [
      "Fail to reject the null hypothesis: There is no significant association between the groups.\n",
      "Chi-Square Statistic: 5.833333333333334\n",
      "P-Value: 0.05411376622282158\n"
     ]
    }
   ],
   "source": [
    "import scipy.stats as stats\n",
    "\n",
    "# Create a contingency table\n",
    "observed = [[20, 15], [10, 25], [15, 20]]  # Replace with your actual data\n",
    "\n",
    "# Perform the chi-square test for independence\n",
    "chi_square, p_value, _, _ = stats.chi2_contingency(observed)\n",
    "\n",
    "# Set the significance level\n",
    "alpha = 0.05\n",
    "\n",
    "# Check if the p-value is less than the significance level\n",
    "if p_value < alpha:\n",
    "    print(\"Reject the null hypothesis: There is a significant association between the groups.\")\n",
    "else:\n",
    "    print(\"Fail to reject the null hypothesis: There is no significant association between the groups.\")\n",
    "\n",
    "# Print the chi-square statistic and p-value\n",
    "print(\"Chi-Square Statistic:\", chi_square)\n",
    "print(\"P-Value:\", p_value)\n"
   ]
  },
  {
   "cell_type": "code",
   "execution_count": null,
   "id": "87ac3d1f-f988-4b85-b04c-244f9b425cef",
   "metadata": {},
   "outputs": [],
   "source": [
    "\n"
   ]
  },
  {
   "cell_type": "markdown",
   "id": "31526cc4-a32a-4d02-8696-8c880f4a20ec",
   "metadata": {},
   "source": [
    "Q.4.Answer"
   ]
  },
  {
   "cell_type": "code",
   "execution_count": 3,
   "id": "c3cd2fa7-3154-4f32-a1f2-5500b53f2cbf",
   "metadata": {},
   "outputs": [
    {
     "name": "stdout",
     "output_type": "stream",
     "text": [
      "95% Confidence Interval for Proportion of Smokers: (0.09151638887130707, 0.1484836111286929)\n"
     ]
    }
   ],
   "source": [
    "import scipy.stats as stats\n",
    "\n",
    "# Sample statistics\n",
    "sample_proportion = 60 / 500  # Number of smokers divided by total sample size\n",
    "sample_size = 500\n",
    "\n",
    "# Set the confidence level and calculate Z (for 95% confidence, Z is approximately 1.96)\n",
    "confidence_level = 0.95\n",
    "alpha = 1 - confidence_level\n",
    "Z = stats.norm.ppf(1 - alpha / 2)\n",
    "\n",
    "# Calculate the margin of error\n",
    "margin_of_error = Z * ((sample_proportion * (1 - sample_proportion)) / sample_size) ** 0.5\n",
    "\n",
    "# Calculate the confidence interval\n",
    "confidence_interval = (sample_proportion - margin_of_error, sample_proportion + margin_of_error)\n",
    "\n",
    "print(\"95% Confidence Interval for Proportion of Smokers:\", confidence_interval)\n"
   ]
  },
  {
   "cell_type": "code",
   "execution_count": null,
   "id": "113a5d7b-ca67-4f2b-9777-29e021a81bb1",
   "metadata": {},
   "outputs": [],
   "source": []
  },
  {
   "cell_type": "markdown",
   "id": "7efa106b-5a30-46ac-ada3-ad94807e8a4f",
   "metadata": {},
   "source": [
    "Q.5.Answer"
   ]
  },
  {
   "cell_type": "code",
   "execution_count": 4,
   "id": "ac2eb4cd-0d23-41d1-b6eb-e06a8269e61c",
   "metadata": {},
   "outputs": [
    {
     "name": "stdout",
     "output_type": "stream",
     "text": [
      "90% Confidence Interval: (73.02617564765823, 76.97382435234177)\n"
     ]
    }
   ],
   "source": [
    "import scipy.stats as stats\n",
    "\n",
    "# Sample statistics\n",
    "sample_mean = 75\n",
    "sample_std_dev = 12\n",
    "\n",
    "sample_size = 100  # You need to specify the sample size\n",
    "\n",
    "# Calculate the margin of error\n",
    "margin_of_error = stats.norm.ppf(0.95) * (sample_std_dev / (sample_size ** 0.5))\n",
    "\n",
    "# Calculate the confidence interval\n",
    "confidence_interval = (sample_mean - margin_of_error, sample_mean + margin_of_error)\n",
    "\n",
    "print(\"90% Confidence Interval:\", confidence_interval)\n"
   ]
  },
  {
   "cell_type": "code",
   "execution_count": null,
   "id": "b85549c5-ce0d-4b47-9478-b9688ffe8307",
   "metadata": {},
   "outputs": [],
   "source": []
  },
  {
   "cell_type": "markdown",
   "id": "6b320b75-d528-4d66-9654-69c70738c29d",
   "metadata": {},
   "source": [
    "Q.6.Answer"
   ]
  },
  {
   "cell_type": "code",
   "execution_count": 7,
   "id": "16828632-4143-4272-8327-f5b5b7b67272",
   "metadata": {},
   "outputs": [
    {
     "data": {
      "image/png": "[encoded data removed]",
      "text/plain": [
       "<Figure size 640x480 with 1 Axes>"
      ]
     },
     "metadata": {},
     "output_type": "display_data"
    }
   ],
   "source": [
    "import numpy as np\n",
    "import matplotlib.pyplot as plt\n",
    "import scipy.stats as stats\n",
    "\n",
    "# Define the degrees of freedom\n",
    "df = 10\n",
    "\n",
    "# Generate values for the chi-square distribution\n",
    "x = np.linspace(0, 30, 1000)\n",
    "y = stats.chi2.pdf(x, df)\n",
    "\n",
    "# Create the chi-square distribution plot\n",
    "plt.plot(x, y, label='Chi-square PDF (df=10)')\n",
    "\n",
    "# Shade the area for chi-square statistic of 15\n",
    "x_shaded = np.linspace(15, 30)\n"
   ]
  },
  {
   "cell_type": "code",
   "execution_count": null,
   "id": "8b19c21f-6c66-4e3a-ae9e-e46fb7289195",
   "metadata": {},
   "outputs": [],
   "source": []
  },
  {
   "cell_type": "markdown",
   "id": "17bd29cd-54c3-4f0d-a9bf-08789e647e4e",
   "metadata": {},
   "source": [
    "Q.7.Answer\n"
   ]
  },
  {
   "cell_type": "code",
   "execution_count": 10,
   "id": "d94dbc82-deb4-461a-a637-b489bfd6d929",
   "metadata": {},
   "outputs": [
    {
     "name": "stdout",
     "output_type": "stream",
     "text": [
      "99% Confidence Interval for Proportion Who Prefer Coke:\n",
      "Lower Bound: 0.4793\n",
      "Upper Bound: 0.5607\n"
     ]
    }
   ],
   "source": [
    "import scipy.stats as stats\n",
    "import math\n",
    "\n",
    "# Sample data\n",
    "sample_size = 1000\n",
    "sample_proportion = 520 / sample_size  # Proportion who prefer Coke\n",
    "\n",
    "# Desired confidence level (99%)\n",
    "confidence_level = 0.99\n",
    "\n",
    "# Calculate the Z-score for the desired confidence level\n",
    "z_score = stats.norm.ppf((1 + confidence_level) / 2)\n",
    "\n",
    "# Calculate the margin of error\n",
    "margin_of_error = z_score * math.sqrt((sample_proportion * (1 - sample_proportion)) / sample_size)\n",
    "\n",
    "# Calculate the confidence interval\n",
    "lower_bound = sample_proportion - margin_of_error\n",
    "upper_bound = sample_proportion + margin_of_error\n",
    "\n",
    "print(\"99% Confidence Interval for Proportion Who Prefer Coke:\")\n",
    "print(f\"Lower Bound: {lower_bound:.4f}\")\n",
    "print(f\"Upper Bound: {upper_bound:.4f}\")\n"
   ]
  },
  {
   "cell_type": "code",
   "execution_count": null,
   "id": "e868d458-c37f-4c10-ac3e-df906b5d8bb1",
   "metadata": {},
   "outputs": [],
   "source": []
  },
  {
   "cell_type": "markdown",
   "id": "0842b93c-6e19-4b4b-8297-0a4970883e8c",
   "metadata": {},
   "source": [
    "Q.8.Answer"
   ]
  },
  {
   "cell_type": "code",
   "execution_count": 11,
   "id": "2f751323-9db3-40c6-8734-6db58e2ec06c",
   "metadata": {},
   "outputs": [
    {
     "name": "stdout",
     "output_type": "stream",
     "text": [
      "Fail to reject the null hypothesis: The observed frequencies match the expected frequencies of a fair coin.\n",
      "Chi-Square Statistic: 1.0\n",
      "P-Value: 0.31731050786291115\n"
     ]
    }
   ],
   "source": [
    "import scipy.stats as stats\n",
    "\n",
    "# Observed frequencies\n",
    "observed_frequencies = [45, 55]  # 45 tails, 55 heads\n",
    "\n",
    "# Expected frequencies for a fair coin\n",
    "expected_frequencies = [50, 50]  # 50 tails, 50 heads\n",
    "\n",
    "# Perform the chi-square goodness of fit test\n",
    "chi_square, p_value = stats.chisquare(observed_frequencies, expected_frequencies)\n",
    "\n",
    "# Set the significance level\n",
    "alpha = 0.05\n",
    "\n",
    "# Check if the p-value is less than the significance level\n",
    "if p_value < alpha:\n",
    "    print(\"Reject the null hypothesis: The observed frequencies do not match the expected frequencies of a fair coin.\")\n",
    "else:\n",
    "    print(\"Fail to reject the null hypothesis: The observed frequencies match the expected frequencies of a fair coin.\")\n",
    "\n",
    "# Print the chi-square statistic and p-value\n",
    "print(\"Chi-Square Statistic:\", chi_square)\n",
    "print(\"P-Value:\", p_value)\n"
   ]
  },
  {
   "cell_type": "code",
   "execution_count": null,
   "id": "afd8fa06-67cd-447c-becc-af4c86f767a3",
   "metadata": {},
   "outputs": [],
   "source": []
  },
  {
   "cell_type": "markdown",
   "id": "842424ea-4658-48bc-8fb1-26bb5bb24b0c",
   "metadata": {},
   "source": [
    "Q.9.Answer"
   ]
  },
  {
   "cell_type": "code",
   "execution_count": 12,
   "id": "8ee0e506-42e4-46af-9103-7460b7711eea",
   "metadata": {},
   "outputs": [
    {
     "name": "stdout",
     "output_type": "stream",
     "text": [
      "Reject the null hypothesis: There is a significant association between smoking status and lung cancer diagnosis.\n"
     ]
    }
   ],
   "source": [
    "import scipy.stats as stats\n",
    "\n",
    "# Create the contingency table\n",
    "contingency_table = [[60, 140],   # Smoker and diagnosed with lung cancer (yes)\n",
    "                     [30, 170]]   # Non-smoker and diagnosed with lung cancer (yes)\n",
    "\n",
    "# Perform the chi-square test for independence\n",
    "chi_square, p_value, _, _ = stats.chi2_contingency(contingency_table)\n",
    "\n",
    "# Set the significance level\n",
    "alpha = 0.05\n",
    "\n",
    "# Check if the p-value is less than the significance level\n",
    "if p_value < alpha:\n",
    "    print(\"Reject the null hypothesis: There is a significant association between smoking status and lung cancer diagnosis.\")\n",
    "else:\n",
    "    print(\"Fail to reject the null hypothesis: There is no significant association between smoking status and lung cancer diagnosis.\")\n"
   ]
  },
  {
   "cell_type": "code",
   "execution_count": null,
   "id": "2bffd755-c271-452d-a67a-181e4f7843e7",
   "metadata": {},
   "outputs": [],
   "source": []
  },
  {
   "cell_type": "markdown",
   "id": "3be41b6f-e65c-4449-a2a0-8607741bb233",
   "metadata": {},
   "source": [
    "Q.10.Answer"
   ]
  },
  {
   "cell_type": "code",
   "execution_count": 13,
   "id": "7a7f618b-7ad3-44ed-9cd2-4275efdbc5a0",
   "metadata": {},
   "outputs": [
    {
     "name": "stdout",
     "output_type": "stream",
     "text": [
      "Reject the null hypothesis: There is a significant association between chocolate preference and country of origin.\n"
     ]
    }
   ],
   "source": [
    "import scipy.stats as stats\n",
    "\n",
    "# Create the updated contingency table\n",
    "contingency_table = [[200, 150, 150],  # Milk Chocolate, Dark Chocolate, White Chocolate (U.S.)\n",
    "                     [225, 175, 100]]  # Milk Chocolate, Dark Chocolate, White Chocolate (U.K.)\n",
    "\n",
    "# Perform the chi-square test for independence\n",
    "chi_square, p_value, _, _ = stats.chi2_contingency(contingency_table)\n",
    "\n",
    "# Set the significance level\n",
    "alpha = 0.05\n",
    "\n",
    "# Check if the p-value is less than the significance level\n",
    "if p_value < alpha:\n",
    "    print(\"Reject the null hypothesis: There is a significant association between chocolate preference and country of origin.\")\n",
    "else:\n",
    "    print(\"Fail to reject the null hypothesis: There is no significant association between chocolate preference and country of origin.\")\n"
   ]
  },
  {
   "cell_type": "code",
   "execution_count": null,
   "id": "39b851ce-8ac8-4672-a2e8-fb723fda4510",
   "metadata": {},
   "outputs": [],
   "source": []
  },
  {
   "cell_type": "markdown",
   "id": "c9839266-e253-4e24-8622-fb321a44ccd0",
   "metadata": {},
   "source": [
    "\n",
    "Q.11.Answer"
   ]
  },
  {
   "cell_type": "code",
   "execution_count": 14,
   "id": "d0ea13e0-8d36-4cd3-8e67-8e18c229e1fa",
   "metadata": {},
   "outputs": [
    {
     "name": "stdout",
     "output_type": "stream",
     "text": [
      "Fail to reject the null hypothesis: No significant difference from 70.\n",
      "Calculated t-statistic: 1.0954451150103321\n",
      "Critical Values (Left and Right): -2.045229642132703 2.045229642132703\n"
     ]
    }
   ],
   "source": [
    "import numpy as np\n",
    "from scipy import stats\n",
    "\n",
    "# Sample data\n",
    "sample_mean = 72\n",
    "sample_stddev = 10\n",
    "sample_size = 30\n",
    "\n",
    "# Population mean under the null hypothesis\n",
    "population_mean_null = 70\n",
    "\n",
    "# Calculate the t-statistic\n",
    "t_statistic = (sample_mean - population_mean_null) / (sample_stddev / np.sqrt(sample_size))\n",
    "\n",
    "# Set the significance level\n",
    "alpha = 0.05\n",
    "\n",
    "# Degrees of freedom\n",
    "degrees_of_freedom = sample_size - 1\n",
    "\n",
    "# Calculate the critical t-values for a two-tailed test\n",
    "critical_value_left = stats.t.ppf(alpha / 2, df=degrees_of_freedom)\n",
    "critical_value_right = stats.t.ppf(1 - alpha / 2, df=degrees_of_freedom)\n",
    "\n",
    "# Make a decision\n",
    "if t_statistic < -critical_value_right or t_statistic > critical_value_right:\n",
    "    # Reject the null hypothesis\n",
    "    print(\"Reject the null hypothesis: Population mean is significantly different from 70.\")\n",
    "else:\n",
    "    # Fail to reject the null hypothesis\n",
    "    print(\"Fail to reject the null hypothesis: No significant difference from 70.\")\n",
    "\n",
    "# Print the calculated t-statistic and critical values\n",
    "print(\"Calculated t-statistic:\", t_statistic)\n",
    "print(\"Critical Values (Left and Right):\", -critical_value_right, critical_value_right)\n"
   ]
  },
  {
   "cell_type": "code",
   "execution_count": null,
   "id": "e8e6824a-5f57-4a70-b6d7-50cc371f2252",
   "metadata": {},
   "outputs": [],
   "source": []
  }
 ],
 "metadata": {
  "kernelspec": {
   "display_name": "Python 3 (ipykernel)",
   "language": "python",
   "name": "python3"
  },
  "language_info": {
   "codemirror_mode": {
    "name": "ipython",
    "version": 3
   },
   "file_extension": ".py",
   "mimetype": "text/x-python",
   "name": "python",
   "nbconvert_exporter": "python",
   "pygments_lexer": "ipython3",
   "version": "3.10.8"
  }
 },
 "nbformat": 4,
 "nbformat_minor": 5
}
