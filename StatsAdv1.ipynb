{
 "cells": [
  {
   "cell_type": "markdown",
   "id": "e9224d0e-e200-40c1-9c09-0826b5a70223",
   "metadata": {},
   "source": [
    "Q.1.Answer"
   ]
  },
  {
   "cell_type": "markdown",
   "id": "74940dc7-3e33-4c7b-b81f-5f334050368a",
   "metadata": {},
   "source": [
    "The Probability Density Function (PDF) is a statistical function that describes the likelihood of a continuous random variable taking on a specific value. It provides the probability density or relative likelihood of a random variable within a certain range of values."
   ]
  },
  {
   "cell_type": "code",
   "execution_count": null,
   "id": "71912cf0-aa07-444b-b184-6d03ae050692",
   "metadata": {},
   "outputs": [],
   "source": []
  },
  {
   "cell_type": "markdown",
   "id": "f486efd9-794d-4384-9057-b0735182af84",
   "metadata": {},
   "source": [
    "Q.2.Answer"
   ]
  },
  {
   "cell_type": "markdown",
   "id": "4e11657c-3562-402e-af43-6089485e4742",
   "metadata": {},
   "source": [
    "There are several types of probability distributions, including:\n",
    "\n",
    "Normal Distribution\n",
    "\n",
    "Binomial Distribution\n",
    "\n",
    "Poisson Distribution\n",
    "\n",
    "Exponential Distribution\n",
    "\n",
    "Uniform Distribution\n",
    "\n",
    "Bernoulli Distribution\n",
    "\n",
    "Geometric Distribution"
   ]
  },
  {
   "cell_type": "code",
   "execution_count": null,
   "id": "b33beafc-5d4f-42d8-b42c-085e416efdca",
   "metadata": {},
   "outputs": [],
   "source": []
  },
  {
   "cell_type": "markdown",
   "id": "f838bea6-8655-4e79-9c1b-c5c016a0a908",
   "metadata": {},
   "source": [
    "Q.3.Answer"
   ]
  },
  {
   "cell_type": "code",
   "execution_count": 9,
   "id": "865eff7a-f6dc-43b7-abe7-b4408ea45bd1",
   "metadata": {},
   "outputs": [],
   "source": [
    "import numpy as np\n",
    "import scipy.stats as stats\n",
    "\n",
    "def calculate_normal_pdf(x, mu, sigma):\n",
    "    pdf = stats.norm.pdf(x, mu, sigma)\n",
    "    return pdf\n"
   ]
  },
  {
   "cell_type": "code",
   "execution_count": null,
   "id": "889d7416-ab1c-44cd-b87c-7e9d27561a48",
   "metadata": {},
   "outputs": [],
   "source": []
  },
  {
   "cell_type": "markdown",
   "id": "0ecf676c-7e60-4379-801a-8f5e67b1a662",
   "metadata": {},
   "source": [
    "Q.4.Answer"
   ]
  },
  {
   "cell_type": "markdown",
   "id": "2eefdd6b-629a-4cd3-8e68-9226177b25a6",
   "metadata": {},
   "source": [
    " Properties of the Binomial Distribution:\n",
    "\n",
    "It models the number of successes in a fixed number of independent trials.\n",
    "Each trial has two possible outcomes: success (usually denoted as \"1\") or failure (usually denoted as \"0\").\n",
    "The probability of success (denoted as \"p\") remains constant for each trial.\n",
    "Trials are independent, meaning the outcome of one trial does not affect the outcome of the others.\n",
    "\n",
    "Examples where the Binomial distribution can be applied:\n",
    "\n",
    "Modeling the number of successful free throws a basketball player makes in a fixed number of attempts.\n",
    "Predicting the number of defective products in a batch of manufactured items."
   ]
  },
  {
   "cell_type": "code",
   "execution_count": null,
   "id": "9e84a809-41c3-45f0-a220-d990b33b4667",
   "metadata": {},
   "outputs": [],
   "source": []
  },
  {
   "cell_type": "markdown",
   "id": "f0e3653d-b518-4fc3-9d13-b5b19e7fc70f",
   "metadata": {},
   "source": [
    "Q.5.Answer"
   ]
  },
  {
   "cell_type": "code",
   "execution_count": 10,
   "id": "c88fbcc4-b05b-40ff-b37f-c9d376f6aa97",
   "metadata": {},
   "outputs": [
    {
     "data": {
      "image/png": "[encoded data removed]",
      "text/plain": [
       "<Figure size 640x480 with 1 Axes>"
      ]
     },
     "metadata": {},
     "output_type": "display_data"
    }
   ],
   "source": [
    "import numpy as np\n",
    "import matplotlib.pyplot as plt\n",
    "\n",
    "# Generate the random sample\n",
    "sample = np.random.binomial(n=1, p=0.4, size=1000)\n",
    "\n",
    "# Plot a histogram\n",
    "plt.hist(sample, bins=2, edgecolor='k')\n",
    "plt.xlabel('Number of Successes')\n",
    "plt.ylabel('Frequency')\n",
    "plt.title('Binomial Distribution (n=1, p=0.4)')\n",
    "plt.show()\n"
   ]
  },
  {
   "cell_type": "code",
   "execution_count": null,
   "id": "654a8ac6-b0e0-42ef-bd8d-c1a15516fc5c",
   "metadata": {},
   "outputs": [],
   "source": []
  },
  {
   "cell_type": "markdown",
   "id": "16a3bf28-6c49-475d-8def-d2cafd1477a6",
   "metadata": {},
   "source": [
    "Q.6.Answer"
   ]
  },
  {
   "cell_type": "code",
   "execution_count": 14,
   "id": "2482157c-355b-4e6a-9285-b0e82bf84eda",
   "metadata": {},
   "outputs": [],
   "source": [
    "import scipy.stats as stats\n",
    "\n",
    "def calculate_poisson_cdf(k, mu):\n",
    "    cdf = stats.poisson.cdf(k, mu)\n",
    "    return cdf\n"
   ]
  },
  {
   "cell_type": "code",
   "execution_count": null,
   "id": "4c7d20db-8a03-428e-8eef-7484847baedd",
   "metadata": {},
   "outputs": [],
   "source": []
  },
  {
   "cell_type": "markdown",
   "id": "1873bcd0-7915-4d3c-b70d-2dd6fcd07021",
   "metadata": {},
   "source": [
    "Q.7.Answer"
   ]
  },
  {
   "cell_type": "markdown",
   "id": "126596f6-b31f-434e-855f-5a0008eec4e9",
   "metadata": {},
   "source": [
    " The key difference between Binomial and Poisson distributions is that the Binomial distribution models the number of successes in a fixed number of trials, while the Poisson distribution models the number of events occurring in a fixed interval of time or space. Additionally, the Poisson distribution assumes that the events are rare and independent, while the Binomial distribution does not have the rarity assumption."
   ]
  },
  {
   "cell_type": "code",
   "execution_count": null,
   "id": "6ff9666b-ca3f-4090-bea3-85b138b9382b",
   "metadata": {},
   "outputs": [],
   "source": []
  },
  {
   "cell_type": "markdown",
   "id": "321722c9-09fb-41d8-b5a7-11d506177bc0",
   "metadata": {},
   "source": [
    "Q.8.Answer"
   ]
  },
  {
   "cell_type": "code",
   "execution_count": 13,
   "id": "ec09a69c-d3f6-43a3-837b-d5128c9fccfd",
   "metadata": {},
   "outputs": [
    {
     "name": "stdout",
     "output_type": "stream",
     "text": [
      "Sample Mean: 5.022\n",
      "Sample Variance: 5.233516\n"
     ]
    }
   ],
   "source": [
    "import numpy as np\n",
    "\n",
    "# Generate the random sample\n",
    "sample = np.random.poisson(lam=5, size=1000)\n",
    "\n",
    "# Calculate the sample mean and variance\n",
    "sample_mean = np.mean(sample)\n",
    "sample_variance = np.var(sample)\n",
    "\n",
    "print(f\"Sample Mean: {sample_mean}\")\n",
    "print(f\"Sample Variance: {sample_variance}\")\n"
   ]
  },
  {
   "cell_type": "code",
   "execution_count": null,
   "id": "270655ff-0b83-4a8f-9eef-f2349474c28e",
   "metadata": {},
   "outputs": [],
   "source": []
  },
  {
   "cell_type": "markdown",
   "id": "dddf6fd4-bb7d-4d59-9634-a6837587161d",
   "metadata": {},
   "source": [
    "Q.9.Answer"
   ]
  },
  {
   "cell_type": "markdown",
   "id": "e07f6a2e-966b-4190-9100-39f621595d1f",
   "metadata": {},
   "source": [
    "In both the Binomial and Poisson distributions, the mean and variance are related as follows:\n",
    "\n",
    "For a Binomial distribution: Mean (μ) = n * p and Variance (σ^2) = n * p * (1 - p)\n",
    "For a Poisson distribution: Mean (μ) = Variance (σ^2)"
   ]
  },
  {
   "cell_type": "code",
   "execution_count": null,
   "id": "a8b108d5-5da8-4fa7-b905-e3bc02f4abc0",
   "metadata": {},
   "outputs": [],
   "source": []
  },
  {
   "cell_type": "markdown",
   "id": "72492981-8e45-4cd2-a902-932ca33ebeb3",
   "metadata": {},
   "source": [
    "Q.10.Answer"
   ]
  },
  {
   "cell_type": "markdown",
   "id": "835d8102-e6cd-459f-870b-9feabc04888e",
   "metadata": {},
   "source": [
    "In a normal distribution, the least frequent data appears at the extreme tails of the distribution, far away from the mean. These data points have low probability density."
   ]
  },
  {
   "cell_type": "code",
   "execution_count": null,
   "id": "8038986d-6e59-4dc9-815c-cfe4ce57d522",
   "metadata": {},
   "outputs": [],
   "source": []
  }
 ],
 "metadata": {
  "kernelspec": {
   "display_name": "Python 3 (ipykernel)",
   "language": "python",
   "name": "python3"
  },
  "language_info": {
   "codemirror_mode": {
    "name": "ipython",
    "version": 3
   },
   "file_extension": ".py",
   "mimetype": "text/x-python",
   "name": "python",
   "nbconvert_exporter": "python",
   "pygments_lexer": "ipython3",
   "version": "3.10.8"
  }
 },
 "nbformat": 4,
 "nbformat_minor": 5
}
