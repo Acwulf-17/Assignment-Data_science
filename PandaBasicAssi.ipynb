{
 "cells": [
  {
   "cell_type": "markdown",
   "id": "a200a383-187b-4019-8fee-bc8dee8167fc",
   "metadata": {},
   "source": [
    "Q.1. Answer"
   ]
  },
  {
   "cell_type": "code",
   "execution_count": 1,
   "id": "a81b4050-a85d-4827-979d-b99a269cf768",
   "metadata": {},
   "outputs": [
    {
     "name": "stdout",
     "output_type": "stream",
     "text": [
      "0     4\n",
      "1     8\n",
      "2    15\n",
      "3    16\n",
      "4    23\n",
      "5    42\n",
      "dtype: int64\n"
     ]
    }
   ],
   "source": [
    "import pandas as pd\n",
    "\n",
    "# Create a Pandas Series with the given data\n",
    "data = [4, 8, 15, 16, 23, 42]\n",
    "series = pd.Series(data)\n",
    "\n",
    "# Print the Series\n",
    "print(series)\n"
   ]
  },
  {
   "cell_type": "code",
   "execution_count": null,
   "id": "00bae0c8-3a1a-47af-8dc3-88948e4f328c",
   "metadata": {},
   "outputs": [],
   "source": []
  },
  {
   "cell_type": "markdown",
   "id": "574317e3-655d-428c-b351-1ddaeb2a406b",
   "metadata": {},
   "source": [
    "Q.2.Answer"
   ]
  },
  {
   "cell_type": "code",
   "execution_count": 2,
   "id": "fda35eff-b1f4-442f-89ce-98a2a318ea4d",
   "metadata": {},
   "outputs": [
    {
     "name": "stdout",
     "output_type": "stream",
     "text": [
      "0     10\n",
      "1     20\n",
      "2     30\n",
      "3     40\n",
      "4     50\n",
      "5     60\n",
      "6     70\n",
      "7     80\n",
      "8     90\n",
      "9    100\n",
      "dtype: int64\n"
     ]
    }
   ],
   "source": [
    "import pandas as pd\n",
    "\n",
    "# Create a list with 10 elements\n",
    "my_list = [10, 20, 30, 40, 50, 60, 70, 80, 90, 100]\n",
    "\n",
    "# Convert the list to a Pandas Series\n",
    "my_series = pd.Series(my_list)\n",
    "\n",
    "# Print the Series\n",
    "print(my_series)\n"
   ]
  },
  {
   "cell_type": "code",
   "execution_count": null,
   "id": "a568f5b0-13fe-43e0-9bec-0886f862e641",
   "metadata": {},
   "outputs": [],
   "source": []
  },
  {
   "cell_type": "markdown",
   "id": "4999218e-505e-498c-b3d7-777d894a3082",
   "metadata": {},
   "source": [
    "Q.3.Answer"
   ]
  },
  {
   "cell_type": "code",
   "execution_count": 3,
   "id": "63cdb543-7af8-46a7-870d-2d8b73391d49",
   "metadata": {},
   "outputs": [
    {
     "name": "stdout",
     "output_type": "stream",
     "text": [
      "     Name  Age  Gender\n",
      "0   Alice   25  Female\n",
      "1     Bob   30    Male\n",
      "2  Claire   27  Female\n"
     ]
    }
   ],
   "source": [
    "import pandas as pd\n",
    "\n",
    "data = {\n",
    "    'Name': ['Alice', 'Bob', 'Claire'],\n",
    "    'Age': [25, 30, 27],\n",
    "    'Gender': ['Female', 'Male', 'Female']\n",
    "}\n",
    "\n",
    "df = pd.DataFrame(data)\n",
    "\n",
    "# Print the DataFrame\n",
    "print(df)\n"
   ]
  },
  {
   "cell_type": "code",
   "execution_count": null,
   "id": "93c1e8b1-38b0-4863-8d9e-0fd980bda582",
   "metadata": {},
   "outputs": [],
   "source": []
  },
  {
   "cell_type": "markdown",
   "id": "7e410832-2df4-4687-bf1c-b445b45ecfcd",
   "metadata": {},
   "source": [
    "Q.4. Answer"
   ]
  },
  {
   "cell_type": "markdown",
   "id": "017201ab-e1ba-44b6-b258-fb1d6257f536",
   "metadata": {},
   "source": [
    "A DataFrame in Pandas is a two-dimensional, size-mutable, and tabular data structure. It can be thought of as a spreadsheet or a SQL table where data is organized into rows and columns. Each column can have a different data type.\n",
    "\n",
    "A Series, on the other hand, is a one-dimensional array-like object that can hold data of various types. It is essentially a single column of data in a DataFrame."
   ]
  },
  {
   "cell_type": "code",
   "execution_count": 4,
   "id": "724a9d40-650d-4997-bef9-ba963dd06b93",
   "metadata": {},
   "outputs": [
    {
     "name": "stdout",
     "output_type": "stream",
     "text": [
      "Series:\n",
      "0    10\n",
      "1    20\n",
      "2    30\n",
      "3    40\n",
      "4    50\n",
      "Name: Numbers, dtype: int64\n",
      "\n",
      "DataFrame:\n",
      "   Numbers\n",
      "0       10\n",
      "1       20\n",
      "2       30\n",
      "3       40\n",
      "4       50\n"
     ]
    }
   ],
   "source": [
    "import pandas as pd\n",
    "\n",
    "# Creating a Series\n",
    "series = pd.Series([10, 20, 30, 40, 50], name='Numbers')\n",
    "\n",
    "# Creating a DataFrame with a single column\n",
    "df = pd.DataFrame({'Numbers': [10, 20, 30, 40, 50]})\n",
    "\n",
    "# Print the Series and DataFrame\n",
    "print(\"Series:\")\n",
    "print(series)\n",
    "print(\"\\nDataFrame:\")\n",
    "print(df)\n"
   ]
  },
  {
   "cell_type": "code",
   "execution_count": null,
   "id": "7af58d1e-b295-460e-afc9-1e90bf40fa50",
   "metadata": {},
   "outputs": [],
   "source": []
  },
  {
   "cell_type": "markdown",
   "id": "b7eb8582-439b-4f64-9d68-842d4c9f40e2",
   "metadata": {},
   "source": [
    "Q.5. Answer"
   ]
  },
  {
   "cell_type": "markdown",
   "id": "5dfbd45f-06b5-439d-b934-344148e64547",
   "metadata": {},
   "source": [
    "Common functions to manipulate data in a Pandas DataFrame include:\n",
    "\n",
    "head() and tail(): To view the first or last n rows of the DataFrame.\n",
    "\n",
    "describe(): To generate summary statistics of the data.\n",
    "\n",
    "sort_values(): To sort the DataFrame by one or more columns.\n",
    "\n",
    "groupby(): To group data based on a column and apply aggregation functions.\n",
    "\n",
    "pivot_table(): To create pivot tables from the data.\n",
    "\n",
    "drop(): To remove rows or columns from the DataFrame.\n",
    "\n",
    "merge(): To combine DataFrames similar to SQL JOIN operations.\n"
   ]
  },
  {
   "cell_type": "code",
   "execution_count": 5,
   "id": "55b40673-0c04-40c3-ae48-2f67ec57a76d",
   "metadata": {},
   "outputs": [
    {
     "name": "stdout",
     "output_type": "stream",
     "text": [
      "Gender\n",
      "Female    26.666667\n",
      "Male      26.000000\n",
      "Name: Age, dtype: float64\n"
     ]
    }
   ],
   "source": [
    "import pandas as pd\n",
    "\n",
    "data = {\n",
    "    'Name': ['Alice', 'Bob', 'Claire', 'David', 'Eva'],\n",
    "    'Age': [25, 30, 27, 22, 28],\n",
    "    'Gender': ['Female', 'Male', 'Female', 'Male', 'Female']\n",
    "}\n",
    "\n",
    "df = pd.DataFrame(data)\n",
    "\n",
    "# Group data by 'Gender' and calculate the average age\n",
    "grouped = df.groupby('Gender')['Age'].mean()\n",
    "\n",
    "# Print the result\n",
    "print(grouped)\n"
   ]
  },
  {
   "cell_type": "code",
   "execution_count": null,
   "id": "306dd3c9-f3b0-4450-a165-8f4a4c4cd640",
   "metadata": {},
   "outputs": [],
   "source": []
  },
  {
   "cell_type": "markdown",
   "id": "84333996-5bf1-4e58-82fd-d0a7bcdaa0cb",
   "metadata": {},
   "source": [
    "Q.6. Answer"
   ]
  },
  {
   "cell_type": "markdown",
   "id": "3dbae7e5-ac4c-4ba9-b5e1-35f3f89b5320",
   "metadata": {},
   "source": [
    "In Pandas, both Series and DataFrame are mutable, meaning you can modify their contents. You can add, update, or delete data in both Series and DataFrames. Panel, on the other hand, has been removed from Pandas starting from version 0.25.0 and is not part of recent Pandas releases.\n"
   ]
  },
  {
   "cell_type": "code",
   "execution_count": null,
   "id": "4e33bf1d-2435-404d-aca2-87821592c9e5",
   "metadata": {},
   "outputs": [],
   "source": []
  },
  {
   "cell_type": "markdown",
   "id": "cd448175-36ef-40a3-8e6d-9d158b2df4d3",
   "metadata": {},
   "source": [
    "Q.7. ANswer"
   ]
  },
  {
   "cell_type": "code",
   "execution_count": 6,
   "id": "68786cf7-3f4d-4219-b9f0-ce33afda70a5",
   "metadata": {},
   "outputs": [
    {
     "name": "stdout",
     "output_type": "stream",
     "text": [
      "     Name  Age  Gender\n",
      "0   Alice   25  Female\n",
      "1     Bob   30    Male\n",
      "2  Claire   27  Female\n"
     ]
    }
   ],
   "source": [
    "import pandas as pd\n",
    "\n",
    "# Creating three Series\n",
    "names = pd.Series(['Alice', 'Bob', 'Claire'])\n",
    "ages = pd.Series([25, 30, 27])\n",
    "genders = pd.Series(['Female', 'Male', 'Female'])\n",
    "\n",
    "# Creating a DataFrame using the Series\n",
    "data = {'Name': names, 'Age': ages, 'Gender': genders}\n",
    "df = pd.DataFrame(data)\n",
    "\n",
    "# Print the DataFrame\n",
    "print(df)\n"
   ]
  },
  {
   "cell_type": "code",
   "execution_count": null,
   "id": "c1f4cca9-c1d3-41d6-adbd-9f18cb36337a",
   "metadata": {},
   "outputs": [],
   "source": []
  }
 ],
 "metadata": {
  "kernelspec": {
   "display_name": "Python 3 (ipykernel)",
   "language": "python",
   "name": "python3"
  },
  "language_info": {
   "codemirror_mode": {
    "name": "ipython",
    "version": 3
   },
   "file_extension": ".py",
   "mimetype": "text/x-python",
   "name": "python",
   "nbconvert_exporter": "python",
   "pygments_lexer": "ipython3",
   "version": "3.10.8"
  }
 },
 "nbformat": 4,
 "nbformat_minor": 5
}
