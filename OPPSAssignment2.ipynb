{
 "cells": [
  {
   "cell_type": "markdown",
   "id": "b78b8ba3-3a37-41f5-9925-1a8486532e4d",
   "metadata": {},
   "source": [
    "Q.1 Answer"
   ]
  },
  {
   "cell_type": "markdown",
   "id": "31504b33-1ced-4572-a3d8-3f24518689f9",
   "metadata": {},
   "source": [
    "Abstraction is one of the four fundamental principles of object-oriented programming (OOP). It is a concept that involves simplifying complex reality by modeling classes based on the essential properties and behaviors relevant to the problem domain while hiding irrelevant details. "
   ]
  },
  {
   "cell_type": "code",
   "execution_count": 1,
   "id": "54843e96-a9aa-4399-aa3f-ae902f653c7a",
   "metadata": {},
   "outputs": [
    {
     "name": "stdout",
     "output_type": "stream",
     "text": [
      "Shape: Circle, Color: Red\n",
      "Shape: Rectangle, Color: Blue\n",
      "Circle Area: 78.5, Perimeter: 31.400000000000002\n",
      "Rectangle Area: 24, Perimeter: 20\n"
     ]
    }
   ],
   "source": [
    "# Abstract base class 'Shape' representing a geometric shape\n",
    "class Shape:\n",
    "    def __init__(self, color):\n",
    "        self.color = color\n",
    "\n",
    "    def area(self):\n",
    "        pass\n",
    "\n",
    "    def perimeter(self):\n",
    "        pass\n",
    "\n",
    "    def display_info(self):\n",
    "        print(f\"Shape: {self.__class__.__name__}, Color: {self.color}\")\n",
    "\n",
    "# Concrete subclass 'Circle' inheriting from 'Shape'\n",
    "class Circle(Shape):\n",
    "    def __init__(self, color, radius):\n",
    "        super().__init__(color)\n",
    "        self.radius = radius\n",
    "\n",
    "    def area(self):\n",
    "        return 3.14 * self.radius * self.radius\n",
    "\n",
    "    def perimeter(self):\n",
    "        return 2 * 3.14 * self.radius\n",
    "\n",
    "# Concrete subclass 'Rectangle' inheriting from 'Shape'\n",
    "class Rectangle(Shape):\n",
    "    def __init__(self, color, length, width):\n",
    "        super().__init__(color)\n",
    "        self.length = length\n",
    "        self.width = width\n",
    "\n",
    "    def area(self):\n",
    "        return self.length * self.width\n",
    "\n",
    "    def perimeter(self):\n",
    "        return 2 * (self.length + self.width)\n",
    "\n",
    "# Create instances of concrete shape classes\n",
    "circle = Circle(\"Red\", 5)\n",
    "rectangle = Rectangle(\"Blue\", 4, 6)\n",
    "\n",
    "# Display information about the shapes\n",
    "circle.display_info()    # Output: Shape: Circle, Color: Red\n",
    "rectangle.display_info() # Output: Shape: Rectangle, Color: Blue\n",
    "\n",
    "# Calculate and display areas and perimeters\n",
    "print(f\"Circle Area: {circle.area()}, Perimeter: {circle.perimeter()}\")\n",
    "print(f\"Rectangle Area: {rectangle.area()}, Perimeter: {rectangle.perimeter()}\")\n"
   ]
  },
  {
   "cell_type": "code",
   "execution_count": null,
   "id": "37c3c0f2-19e1-4289-9d55-109fba0ed59a",
   "metadata": {},
   "outputs": [],
   "source": []
  },
  {
   "cell_type": "markdown",
   "id": "035dc9df-0b01-454b-af18-a0be89a1669b",
   "metadata": {},
   "source": [
    "Q. 2Answer"
   ]
  },
  {
   "cell_type": "markdown",
   "id": "0d71ac10-a72a-492f-9622-fc7d95e748c3",
   "metadata": {},
   "source": [
    "Abstraction is the process of simplifying complex reality by modeling classes based on the essential properties and behaviors relevant to the problem domain while hiding irrelevant details\n",
    "Encapsulation is the concept of bundling data (attributes or properties) and methods (functions) that operate on that data into a single unit called a class."
   ]
  },
  {
   "cell_type": "code",
   "execution_count": 2,
   "id": "35d548ec-818c-4775-9321-5e78e463f313",
   "metadata": {},
   "outputs": [],
   "source": [
    "#Eg of abstraction\n",
    "\n",
    "# Abstract base class 'Shape' representing a geometric shape\n",
    "class Shape:\n",
    "    def area(self):\n",
    "        pass\n",
    "\n",
    "    def perimeter(self):\n",
    "        pass\n",
    "\n",
    "# Concrete subclass 'Circle' inheriting from 'Shape'\n",
    "class Circle(Shape):\n",
    "    def __init__(self, radius):\n",
    "        self.radius = radius\n",
    "\n",
    "    def area(self):\n",
    "        return 3.14 * self.radius * self.radius\n",
    "\n",
    "    def perimeter(self):\n",
    "        return 2 * 3.14 * self.radius\n"
   ]
  },
  {
   "cell_type": "code",
   "execution_count": 3,
   "id": "949638c5-de72-4dbd-8327-047c6647ab92",
   "metadata": {},
   "outputs": [],
   "source": [
    "#eg of Encapsulation\n",
    "\n",
    "class BankAccount:\n",
    "    def __init__(self, account_number, balance):\n",
    "        self.__account_number = account_number  # Private attribute\n",
    "        self.__balance = balance                # Private attribute\n",
    "\n",
    "    # Getter methods to access private attributes\n",
    "    def get_account_number(self):\n",
    "        return self.__account_number\n",
    "\n",
    "    def get_balance(self):\n",
    "        return self.__balance\n",
    "\n",
    "    # Setter method to modify private attribute\n",
    "    def deposit(self, amount):\n",
    "        if amount > 0:\n",
    "            self.__balance += amount\n",
    "\n",
    "    def withdraw(self, amount):\n",
    "        if amount > 0 and amount <= self.__balance:\n",
    "            self.__balance -= amount\n",
    "\n",
    "# Create a BankAccount object\n",
    "account = BankAccount(\"12345\", 1000)\n",
    "\n",
    "# Access and modify attributes using methods\n",
    "account.deposit(500)\n",
    "account.withdraw(200)\n",
    "balance = account.get_balance()\n"
   ]
  },
  {
   "cell_type": "code",
   "execution_count": null,
   "id": "f1d99409-6231-4d0c-9b7a-3ff5a0baeaf8",
   "metadata": {},
   "outputs": [],
   "source": []
  },
  {
   "cell_type": "markdown",
   "id": "feeb988f-6134-40f3-916e-e564d5f03efa",
   "metadata": {},
   "source": [
    "Q.3 answer"
   ]
  },
  {
   "cell_type": "markdown",
   "id": "01e8a708-54a7-4ce1-b592-073a7b03d53f",
   "metadata": {},
   "source": [
    "In Python, the abc module stands for \"Abstract Base Classes.\" It is a module that provides a framework for defining and working with abstract classes and abstract methods. Abstract classes are classes that cannot be instantiated directly but serve as blueprints for other classes.\n",
    "\n",
    "Uses of abc module:\n",
    "1.Defining Abstract Base Classes (ABCs)\n",
    "2.Enforcing method implementation\n",
    "3.Providing a common interface"
   ]
  },
  {
   "cell_type": "code",
   "execution_count": null,
   "id": "0b86fd0a-089f-40ff-b482-bcefd1f9ca46",
   "metadata": {},
   "outputs": [],
   "source": []
  },
  {
   "cell_type": "markdown",
   "id": "ebc5f470-e225-4d99-a626-3416ee0b4ff1",
   "metadata": {},
   "source": [
    "Q.4 Answers"
   ]
  },
  {
   "cell_type": "markdown",
   "id": "950ce05b-29b4-4d1d-94d1-e7939119ef3e",
   "metadata": {},
   "source": [
    "\n",
    "Data abstraction in programming is achieved by creating abstract data types (ADTs) and using encapsulation to hide the underlying implementation details of the data structure. Here's how you can achieve data abstraction:\n",
    "\n",
    "Define Abstract Data Types (ADTs)\n",
    "2.Implement the ADT Interface\n",
    "3.Hide Implementation Details\n",
    "4.Provide Well-Defined Interfaces"
   ]
  },
  {
   "cell_type": "code",
   "execution_count": null,
   "id": "69c15377-8d28-42ff-bc77-de1a33c33add",
   "metadata": {},
   "outputs": [],
   "source": []
  }
 ],
 "metadata": {
  "kernelspec": {
   "display_name": "Python 3 (ipykernel)",
   "language": "python",
   "name": "python3"
  },
  "language_info": {
   "codemirror_mode": {
    "name": "ipython",
    "version": 3
   },
   "file_extension": ".py",
   "mimetype": "text/x-python",
   "name": "python",
   "nbconvert_exporter": "python",
   "pygments_lexer": "ipython3",
   "version": "3.10.8"
  }
 },
 "nbformat": 4,
 "nbformat_minor": 5
}
