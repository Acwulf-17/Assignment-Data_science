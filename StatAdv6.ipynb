{
 "cells": [
  {
   "cell_type": "markdown",
   "id": "07b7d823-eb7f-4d9f-9fdc-7e1621fca106",
   "metadata": {},
   "source": [
    "Q.1.Answer"
   ]
  },
  {
   "cell_type": "markdown",
   "id": "ce4dba21-2532-4be7-887a-36de03cb9f5e",
   "metadata": {},
   "source": [
    "Assumptions for using ANOVA and examples of violations:\n",
    "\n",
    "Assumption: Homogeneity of variances (variances are equal across groups).\n",
    "\n",
    "Violation Example: If you have three groups, and the variances of their data are significantly different, it could impact the validity of ANOVA results.\n",
    "\n",
    "Assumption: Independence of observations (observations are not influenced by each other).\n",
    "\n",
    "Violation Example: In a repeated measures ANOVA, if data points within the same group are correlated, violating independence.\n",
    "\n",
    "Assumption: Normally distributed residuals (residuals follow a normal distribution).\n",
    "\n",
    "Violation Example: If the residuals exhibit a skewed or non-normal distribution, ANOVA results may not be accurate."
   ]
  },
  {
   "cell_type": "code",
   "execution_count": null,
   "id": "d2ef507d-6983-41ac-9cf8-3388214f18e5",
   "metadata": {},
   "outputs": [],
   "source": []
  },
  {
   "cell_type": "markdown",
   "id": "2a84c1e9-2bb4-406c-9566-8068950505d8",
   "metadata": {},
   "source": [
    "Q.2.Answer"
   ]
  },
  {
   "cell_type": "markdown",
   "id": "e917c2e4-4e0b-47ee-9de8-ebeec8f5acc1",
   "metadata": {},
   "source": [
    "Three tupes of ANOVA are:\n",
    "    \n",
    "    1. One Way Anova: One factor with atleaast 2 levels, where these levels are independent.\n",
    "    \n",
    "    2. Repeated measure ANOVA: One factor with atleast 2 levels are dependent.\n",
    "    \n",
    "    3. Factorial ANOVA: Two or more factors each of which with atleast 2 levels can be either independent and dependent."
   ]
  },
  {
   "cell_type": "markdown",
   "id": "025b523a-ae71-4bc3-8a37-d137a385c181",
   "metadata": {},
   "source": [
    "\n",
    "Q.3.Answer"
   ]
  },
  {
   "cell_type": "markdown",
   "id": "ac3ed02b-f109-4a59-9bb6-5ddaad56e2a4",
   "metadata": {},
   "source": [
    " Partitioning of variance in ANOVA:\n",
    "\n",
    "ANOVA partitions the total variance into components due to different sources, such as group differences and random variability.\n",
    "\n",
    "Understanding this concept is important because it helps identify whether group differences are statistically significant."
   ]
  },
  {
   "cell_type": "code",
   "execution_count": null,
   "id": "ed9d6465-96ba-41d1-8cc0-93081d1664ac",
   "metadata": {},
   "outputs": [],
   "source": []
  },
  {
   "cell_type": "markdown",
   "id": "4fe41082-0768-4370-aac2-5f7a1b8f1e94",
   "metadata": {},
   "source": [
    "Q.4.Answer"
   ]
  },
  {
   "cell_type": "code",
   "execution_count": 2,
   "id": "391b67ed-544e-405e-81c9-e144148ecbb0",
   "metadata": {},
   "outputs": [
    {
     "ename": "NameError",
     "evalue": "name 'group1_data' is not defined",
     "output_type": "error",
     "traceback": [
      "\u001b[0;31m---------------------------------------------------------------------------\u001b[0m",
      "\u001b[0;31mNameError\u001b[0m                                 Traceback (most recent call last)",
      "Cell \u001b[0;32mIn[2], line 3\u001b[0m\n\u001b[1;32m      1\u001b[0m \u001b[38;5;28;01mimport\u001b[39;00m \u001b[38;5;21;01mscipy\u001b[39;00m\u001b[38;5;21;01m.\u001b[39;00m\u001b[38;5;21;01mstats\u001b[39;00m \u001b[38;5;28;01mas\u001b[39;00m \u001b[38;5;21;01mstats\u001b[39;00m\n\u001b[0;32m----> 3\u001b[0m f_statistic, p_value \u001b[38;5;241m=\u001b[39m stats\u001b[38;5;241m.\u001b[39mf_oneway(\u001b[43mgroup1_data\u001b[49m, group2_data, group3_data)\n\u001b[1;32m      4\u001b[0m sst \u001b[38;5;241m=\u001b[39m np\u001b[38;5;241m.\u001b[39msum((data \u001b[38;5;241m-\u001b[39m np\u001b[38;5;241m.\u001b[39mmean(data)) \u001b[38;5;241m*\u001b[39m\u001b[38;5;241m*\u001b[39m \u001b[38;5;241m2\u001b[39m)\n\u001b[1;32m      5\u001b[0m sse \u001b[38;5;241m=\u001b[39m np\u001b[38;5;241m.\u001b[39msum((group_means \u001b[38;5;241m-\u001b[39m np\u001b[38;5;241m.\u001b[39mmean(data)) \u001b[38;5;241m*\u001b[39m\u001b[38;5;241m*\u001b[39m \u001b[38;5;241m2\u001b[39m)\n",
      "\u001b[0;31mNameError\u001b[0m: name 'group1_data' is not defined"
     ]
    }
   ],
   "source": [
    "import scipy.stats as stats\n",
    "\n",
    "f_statistic, p_value = stats.f_oneway(group1_data, group2_data, group3_data)\n",
    "sst = np.sum((data - np.mean(data)) ** 2)\n",
    "sse = np.sum((group_means - np.mean(data)) ** 2)\n",
    "ssr = sst - sse\n"
   ]
  },
  {
   "cell_type": "code",
   "execution_count": null,
   "id": "d9f4a48d-11f2-4792-bb12-b93e3af44120",
   "metadata": {},
   "outputs": [],
   "source": []
  },
  {
   "cell_type": "markdown",
   "id": "4a7c646a-584c-4625-bcf5-439d4618adc7",
   "metadata": {},
   "source": [
    "Q.5.Answer"
   ]
  },
  {
   "cell_type": "markdown",
   "id": "11db79ff-f402-4005-9012-553701a8cccb",
   "metadata": {},
   "source": [
    "Main effects: The effect of each independent variable on the dependent variable.\n",
    "Interaction effects: How the combined effect of two independent variables differs from their individual effects.\n",
    "You can use libraries like statsmodels or scipy to perform the analysis.\n"
   ]
  },
  {
   "cell_type": "code",
   "execution_count": null,
   "id": "e45ddee1-712d-4df1-910a-6711205e1c1b",
   "metadata": {},
   "outputs": [],
   "source": []
  },
  {
   "cell_type": "markdown",
   "id": "2708266f-ba23-4ecb-a4fa-324222997f90",
   "metadata": {},
   "source": [
    "Q.6.Answer"
   ]
  },
  {
   "cell_type": "raw",
   "id": "0fa2e1ca-0952-4794-aeaa-ca4b67841c26",
   "metadata": {},
   "source": [
    "Interpreting one-way ANOVA results with F-statistic and p-value:\n",
    "\n",
    "If F-statistic is significant (p < 0.05), you can conclude that there are significant differences between at least two groups.\n",
    "Interpretation depends on post-hoc tests or additional analyses to identify which specific groups differ."
   ]
  },
  {
   "cell_type": "code",
   "execution_count": null,
   "id": "8f1868d0-65a3-4f4d-9880-a52821afce4b",
   "metadata": {},
   "outputs": [],
   "source": []
  },
  {
   "cell_type": "markdown",
   "id": "34175bab-bd8a-4628-baa4-42242b6f650e",
   "metadata": {},
   "source": [
    "Q.7.Answer"
   ]
  },
  {
   "cell_type": "markdown",
   "id": "eec82d4c-d755-4a74-9ac6-7883cdcebc8e",
   "metadata": {},
   "source": [
    "Handling missing data in repeated measures ANOVA:\n",
    "\n",
    "Different methods include imputation, exclusion, or using advanced techniques like mixed-effects models.\n",
    "\n",
    "Consequences can include biased results or reduced statistical power, depending on the method chosen.\n"
   ]
  },
  {
   "cell_type": "code",
   "execution_count": null,
   "id": "40f417fb-e63a-4408-bc9b-5f7aeef00a4f",
   "metadata": {},
   "outputs": [],
   "source": []
  },
  {
   "cell_type": "markdown",
   "id": "9b6d7900-8250-45d2-a762-9dcafbfeda10",
   "metadata": {},
   "source": [
    "\n",
    "Q.8.Answer"
   ]
  },
  {
   "cell_type": "markdown",
   "id": "a8175d4c-c300-4be3-be0a-cf8909c6b341",
   "metadata": {},
   "source": [
    "Common post-hoc tests after ANOVA and their usage:\n",
    "\n",
    "Examples include Tukey's HSD, Bonferroni, and Scheffé tests.\n",
    "Use them to identify specific group differences when ANOVA indicates overall significance.\n"
   ]
  },
  {
   "cell_type": "code",
   "execution_count": null,
   "id": "21db7bad-1e63-40da-9635-7afcb8070617",
   "metadata": {},
   "outputs": [],
   "source": []
  },
  {
   "cell_type": "markdown",
   "id": "e9aee581-2541-44a9-a64d-655226d91c76",
   "metadata": {},
   "source": [
    "Q.9.Answer"
   ]
  },
  {
   "cell_type": "markdown",
   "id": "aa729977-be64-4d50-b2ae-ada269100e46",
   "metadata": {},
   "source": [
    " Performing a one-way ANOVA in Python to compare mean weight loss:\n",
    "\n",
    "Use scipy.stats.f_oneway to calculate F-statistic and p-value.\n",
    "\n",
    "Interpret the results based on significance (p-value) to determine if there are significant differences between diets."
   ]
  },
  {
   "cell_type": "code",
   "execution_count": null,
   "id": "f9e0b153-405c-486c-a5b0-72063bd28aa7",
   "metadata": {},
   "outputs": [],
   "source": []
  },
  {
   "cell_type": "markdown",
   "id": "39db06b8-72a4-4390-aafc-4114739ab0dc",
   "metadata": {},
   "source": [
    "\n",
    "Q.10.Answer"
   ]
  },
  {
   "cell_type": "markdown",
   "id": "9902cfd0-0117-4492-a4ad-a4b0b418315f",
   "metadata": {},
   "source": [
    "Performing a two-way ANOVA in Python for software programs and experience level:\n",
    "    \n",
    "- Use appropriate Python libraries (e.g., statsmodels or scipy) to perform the analysis.\n",
    "\n",
    "- Interpret the results by examining F-statistics and p-values for main and interaction effects.\n",
    "\n"
   ]
  },
  {
   "cell_type": "code",
   "execution_count": null,
   "id": "e6da7267-104c-4c12-88a4-3e31480aeca1",
   "metadata": {},
   "outputs": [],
   "source": []
  },
  {
   "cell_type": "markdown",
   "id": "5210f25c-56bd-4402-9e5c-2b6ec0c8f0ad",
   "metadata": {},
   "source": [
    "Q.11.Answer"
   ]
  },
  {
   "cell_type": "markdown",
   "id": "f5e7c4bd-4f46-4d9c-9490-b4fd87029390",
   "metadata": {},
   "source": [
    "Conducting a two-sample t-test in Python for test scores:\n",
    "    \n",
    "- Use scipy.stats.ttest_ind to perform the t-test.\n",
    "\n",
    "- If the p-value is less than your chosen significance level (e.g., 0.05), you can conclude whether there are significant differences in test scores between the two groups."
   ]
  },
  {
   "cell_type": "code",
   "execution_count": null,
   "id": "3a61f9e2-e121-4300-9a9e-3749ee54a5e0",
   "metadata": {},
   "outputs": [],
   "source": []
  },
  {
   "cell_type": "markdown",
   "id": "3751ccbb-1fc7-4f9a-a250-f12de45bd738",
   "metadata": {},
   "source": [
    "Q.12.Answer"
   ]
  },
  {
   "cell_type": "markdown",
   "id": "2695f735-ae70-4782-ac99-dd1587a8ac16",
   "metadata": {},
   "source": [
    "Performing a repeated measures ANOVA in Python for daily sales:\n",
    "    \n",
    "- Use appropriate Python libraries (e.g., statsmodels or scipy) for repeated measures ANOVA.\n",
    "\n",
    "- Follow up with post-hoc tests to identify specific store differences if the overall test is significant.\n",
    "\n",
    "Ensure you have the necessary data and libraries to conduct these analyses in Python for practical implementation."
   ]
  },
  {
   "cell_type": "code",
   "execution_count": null,
   "id": "19b69b70-f863-42d8-a353-cef38458b5ef",
   "metadata": {},
   "outputs": [],
   "source": []
  }
 ],
 "metadata": {
  "kernelspec": {
   "display_name": "Python 3 (ipykernel)",
   "language": "python",
   "name": "python3"
  },
  "language_info": {
   "codemirror_mode": {
    "name": "ipython",
    "version": 3
   },
   "file_extension": ".py",
   "mimetype": "text/x-python",
   "name": "python",
   "nbconvert_exporter": "python",
   "pygments_lexer": "ipython3",
   "version": "3.10.8"
  }
 },
 "nbformat": 4,
 "nbformat_minor": 5
}
