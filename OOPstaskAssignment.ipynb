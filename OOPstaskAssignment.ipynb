{
 "cells": [
  {
   "cell_type": "markdown",
   "id": "da7112b2-e98b-4856-8d57-83856257af2b",
   "metadata": {},
   "source": [
    "Q.1 Answer"
   ]
  },
  {
   "cell_type": "code",
   "execution_count": 1,
   "id": "4ef01aae-ecc9-425f-9587-76c4a5217899",
   "metadata": {},
   "outputs": [
    {
     "name": "stdout",
     "output_type": "stream",
     "text": [
      "Name of Vehicle: Car\n",
      "Maximum Speed: 200\n",
      "Average Speed: 60\n"
     ]
    }
   ],
   "source": [
    "class Vehicle:\n",
    "    def __init__(self, name_of_vehicle, max_speed, average_speed):\n",
    "        self.name_of_vehicle = name_of_vehicle\n",
    "        self.max_speed = max_speed\n",
    "        self.average_speed = average_speed\n",
    "\n",
    "# Creating an instance of the Vehicle class\n",
    "my_vehicle = Vehicle(\"Car\", 200, 60)\n",
    "\n",
    "# Accessing the instance variables\n",
    "print(\"Name of Vehicle:\", my_vehicle.name_of_vehicle)\n",
    "print(\"Maximum Speed:\", my_vehicle.max_speed)\n",
    "print(\"Average Speed:\", my_vehicle.average_speed)\n"
   ]
  },
  {
   "cell_type": "code",
   "execution_count": null,
   "id": "b39f01f8-a2d8-4b85-85e3-de4f10a850b4",
   "metadata": {},
   "outputs": [],
   "source": []
  },
  {
   "cell_type": "markdown",
   "id": "ce3a74a4-c898-4a61-93f8-171b634dd71a",
   "metadata": {},
   "source": [
    "Q.2 Answer"
   ]
  },
  {
   "cell_type": "code",
   "execution_count": 2,
   "id": "d41c2824-ed03-4cca-bb65-11ec67a4113f",
   "metadata": {},
   "outputs": [
    {
     "name": "stdout",
     "output_type": "stream",
     "text": [
      "Name of Vehicle: Sedan\n",
      "Maximum Speed: 150\n",
      "Average Speed: 45\n",
      "Sedan has a seating capacity of 5 passengers.\n"
     ]
    }
   ],
   "source": [
    "class Car(Vehicle):\n",
    "    def __init__(self, name_of_vehicle, max_speed, average_speed):\n",
    "        super().__init__(name_of_vehicle, max_speed, average_speed)\n",
    "\n",
    "    def seating_capacity(self, capacity):\n",
    "        return f\"{self.name_of_vehicle} has a seating capacity of {capacity} passengers.\"\n",
    "\n",
    "# Creating an instance of the Car class\n",
    "my_car = Car(\"Sedan\", 150, 45)\n",
    "\n",
    "# Accessing the instance variables from the parent class\n",
    "print(\"Name of Vehicle:\", my_car.name_of_vehicle)\n",
    "print(\"Maximum Speed:\", my_car.max_speed)\n",
    "print(\"Average Speed:\", my_car.average_speed)\n",
    "\n",
    "# Using the seating_capacity method\n",
    "capacity = 5\n",
    "print(my_car.seating_capacity(capacity))\n"
   ]
  },
  {
   "cell_type": "code",
   "execution_count": null,
   "id": "dfdb3f63-f212-4027-8893-399c2c2c53ec",
   "metadata": {},
   "outputs": [],
   "source": []
  },
  {
   "cell_type": "markdown",
   "id": "c77dda93-92f5-4340-b8b7-cc09847cb574",
   "metadata": {},
   "source": [
    "Q.3 Answer\n"
   ]
  },
  {
   "cell_type": "markdown",
   "id": "07563b6d-3ba3-435a-a697-30408a29a6cb",
   "metadata": {},
   "source": [
    "Multiple inheritance is a feature in object-oriented programming (OOP) where a class can inherit attributes and methods from more than one parent class or superclass. This means that a derived class can inherit properties and behaviors from multiple base classes. "
   ]
  },
  {
   "cell_type": "code",
   "execution_count": 3,
   "id": "10d2167b-e285-4409-af5e-1c15637e96f7",
   "metadata": {},
   "outputs": [
    {
     "name": "stdout",
     "output_type": "stream",
     "text": [
      "Flying Fox - Can fly and Can run\n"
     ]
    }
   ],
   "source": [
    "#eg Of multiple Inheritance\n",
    "\n",
    "\n",
    "# Define two parent classes: 'Bird' and 'Mammal'\n",
    "class Bird:\n",
    "    def fly(self):\n",
    "        return \"Can fly\"\n",
    "\n",
    "class Mammal:\n",
    "    def run(self):\n",
    "        return \"Can run\"\n",
    "\n",
    "# Define a child class 'Bat' that inherits from both 'Bird' and 'Mammal'\n",
    "class Bat(Bird, Mammal):\n",
    "    def __init__(self, name):\n",
    "        self.name = name\n",
    "\n",
    "# Create an instance of 'Bat'\n",
    "bat = Bat(\"Flying Fox\")\n",
    "\n",
    "# Access and use methods from both parent classes\n",
    "print(f\"{bat.name} - {bat.fly()} and {bat.run()}\")\n"
   ]
  },
  {
   "cell_type": "code",
   "execution_count": null,
   "id": "dde9a0cd-6f92-42f0-8acc-33b3312ab704",
   "metadata": {},
   "outputs": [],
   "source": []
  },
  {
   "cell_type": "markdown",
   "id": "f9ffaa5f-d091-4598-b385-56ae2e75822a",
   "metadata": {},
   "source": [
    "Q.4 Answer"
   ]
  },
  {
   "cell_type": "markdown",
   "id": "67d73667-d2c7-4b10-a4aa-6a94611825d0",
   "metadata": {},
   "source": [
    "A getter method is used to retrieve the current value of an attribute.\n",
    "\n",
    "\n",
    "A setter method is used to modify the value of an attribute while performing any necessary validation or processing."
   ]
  },
  {
   "cell_type": "code",
   "execution_count": 4,
   "id": "d70c2047-8b88-4b6b-92c2-2757b2311a00",
   "metadata": {},
   "outputs": [
    {
     "name": "stdout",
     "output_type": "stream",
     "text": [
      "Name: Alice\n",
      "Age: 20\n",
      "Updated Name: Bob\n",
      "Updated Age: 22\n"
     ]
    }
   ],
   "source": [
    "class Student:\n",
    "    def __init__(self, name, age):\n",
    "        self._name = name  # Private attribute\n",
    "        self._age = age    # Private attribute\n",
    "\n",
    "    # Getter method for 'name' attribute\n",
    "    def get_name(self):\n",
    "        return self._name\n",
    "\n",
    "    # Setter method for 'name' attribute\n",
    "    def set_name(self, name):\n",
    "        if isinstance(name, str):\n",
    "            self._name = name\n",
    "        else:\n",
    "            print(\"Name should be a string.\")\n",
    "\n",
    "    # Getter method for 'age' attribute\n",
    "    def get_age(self):\n",
    "        return self._age\n",
    "\n",
    "    # Setter method for 'age' attribute\n",
    "    def set_age(self, age):\n",
    "        if age >= 0:\n",
    "            self._age = age\n",
    "        else:\n",
    "            print(\"Age should be a positive number.\")\n",
    "\n",
    "# Create an instance of the Student class\n",
    "student = Student(\"Alice\", 20)\n",
    "\n",
    "# Use getter methods to access attribute values\n",
    "print(\"Name:\", student.get_name())  # Output: Name: Alice\n",
    "print(\"Age:\", student.get_age())    # Output: Age: 20\n",
    "\n",
    "# Use setter methods to modify attribute values\n",
    "student.set_name(\"Bob\")\n",
    "student.set_age(22)\n",
    "\n",
    "# Access updated attribute values using getter methods\n",
    "print(\"Updated Name:\", student.get_name())  # Output: Updated Name: Bob\n",
    "print(\"Updated Age:\", student.get_age())    # Output: Updated Age: 22\n"
   ]
  },
  {
   "cell_type": "code",
   "execution_count": null,
   "id": "4fcb7c30-241f-4e3d-864b-2be7bddc7c3a",
   "metadata": {},
   "outputs": [],
   "source": []
  },
  {
   "cell_type": "markdown",
   "id": "15f1acdb-aad5-4bc5-abcc-cfa1b4602ea4",
   "metadata": {},
   "source": [
    "Q.5 Answer"
   ]
  },
  {
   "cell_type": "code",
   "execution_count": null,
   "id": "0cdde90e-512c-4631-b08b-c203225aa5f4",
   "metadata": {},
   "outputs": [],
   "source": []
  }
 ],
 "metadata": {
  "kernelspec": {
   "display_name": "Python 3 (ipykernel)",
   "language": "python",
   "name": "python3"
  },
  "language_info": {
   "codemirror_mode": {
    "name": "ipython",
    "version": 3
   },
   "file_extension": ".py",
   "mimetype": "text/x-python",
   "name": "python",
   "nbconvert_exporter": "python",
   "pygments_lexer": "ipython3",
   "version": "3.10.8"
  }
 },
 "nbformat": 4,
 "nbformat_minor": 5
}
