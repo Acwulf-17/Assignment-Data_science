{
 "cells": [
  {
   "cell_type": "markdown",
   "id": "50f69d17-285b-423e-b797-645863310bf5",
   "metadata": {},
   "source": [
    "Q.1. Answer"
   ]
  },
  {
   "cell_type": "markdown",
   "id": "4bb55f55-24fc-47db-9b91-ba62f2c0d790",
   "metadata": {},
   "source": [
    "Matplotlib is a popular Python library used for data visualization. It provides a wide range of tools for creating various types of plots and charts. Matplotlib is commonly used for creating static, animated, or interactive visualizations of data.\n",
    "\n",
    "Five types of plots that can be created using the Pyplot module of Matplotlib include:\n",
    "\n",
    "Line plot\n",
    "\n",
    "Scatter plot\n",
    "\n",
    "Bar plot\n",
    "\n",
    "Histogram\n",
    "\n",
    "Pie chart"
   ]
  },
  {
   "cell_type": "code",
   "execution_count": null,
   "id": "67642240-8ab8-40a0-a1d5-4b61260d0776",
   "metadata": {},
   "outputs": [],
   "source": []
  },
  {
   "cell_type": "markdown",
   "id": "2915d74f-134e-43f3-8ced-f560b11b6c72",
   "metadata": {},
   "source": [
    "Q.2. Answer"
   ]
  },
  {
   "cell_type": "markdown",
   "id": "37954965-e241-4ae7-84d6-6713ae2fe94b",
   "metadata": {},
   "source": [
    "A scatter plot is a type of plot that displays individual data points on a two-dimensional plane, where each point represents the values of two variables. Scatter plots are often used to visualize the relationship or correlation between two variables."
   ]
  },
  {
   "cell_type": "code",
   "execution_count": 1,
   "id": "c071b3ad-88de-411d-9590-fb380f600493",
   "metadata": {},
   "outputs": [
    {
     "data": {
      "image/png": "[encoded data removed]",
      "text/plain": [
       "<Figure size 640x480 with 1 Axes>"
      ]
     },
     "metadata": {},
     "output_type": "display_data"
    }
   ],
   "source": [
    "import numpy as np\n",
    "import matplotlib.pyplot as plt\n",
    "\n",
    "np.random.seed(3)\n",
    "x = 3 + np.random.normal(0, 2, 50)\n",
    "y = 3 + np.random.normal(0, 2, len(x))\n",
    "\n",
    "# Create a scatter plot\n",
    "plt.scatter(x, y)\n",
    "\n",
    "# Add title, xlabel, and ylabel\n",
    "plt.title(\"Scatter Plot\")\n",
    "plt.xlabel(\"X-axis\")\n",
    "plt.ylabel(\"Y-axis\")\n",
    "\n",
    "# Show the plot\n",
    "plt.show()\n"
   ]
  },
  {
   "cell_type": "code",
   "execution_count": null,
   "id": "7e970e12-4f92-4d78-a1e2-4248caa484cb",
   "metadata": {},
   "outputs": [],
   "source": []
  },
  {
   "cell_type": "markdown",
   "id": "9a7a8bd8-3d0c-4c43-b7cc-d931e8403826",
   "metadata": {},
   "source": [
    "Q.3. Answer"
   ]
  },
  {
   "cell_type": "markdown",
   "id": "587aa82b-a495-4a62-8a7b-7ad8628deb27",
   "metadata": {},
   "source": [
    "The subplot() function in Matplotlib is used to create multiple subplots within the same figure. It allows you to arrange and display multiple plots in a grid-like structure."
   ]
  },
  {
   "cell_type": "code",
   "execution_count": null,
   "id": "f28b4a77-f1f8-4aa6-982f-e40c67b19c17",
   "metadata": {},
   "outputs": [],
   "source": [
    "import matplotlib.pyplot as plt\n",
    "import numpy as np\n",
    "\n",
    "# Data for line plots\n",
    "x = np.array([0, 1, 2, 3, 4, 5])\n",
    "\n",
    "# Create subplots\n",
    "plt.subplot(2, 2, 1)\n",
    "plt.plot(x, np.array([0, 100, 200, 300, 400, 500]))\n",
    "plt.title(\"Line Plot 1\")\n",
    "\n",
    "plt.subplot(2, 2, 2)\n",
    "plt.plot(x, np.array([50, 20, 40, 20, 60, 70]))\n",
    "plt.title(\"Line Plot 2\")\n",
    "\n",
    "plt.subplot(2, 2, 3)\n",
    "plt.plot(x, np.array([10, 20, 30, 40, 50, 60]))\n",
    "plt.title(\"Line Plot 3\")\n",
    "\n",
    "plt.subplot(2, 2, 4)\n",
    "plt.plot(x, np.array([200, 350, 250, 550, 450, 150]))\n",
    "plt.title(\"Line Plot 4\")\n",
    "\n",
    "# Adjust layout\n",
    "plt.tight_layout()\n",
    "\n",
    "# Show the plots\n",
    "plt.show()\n"
   ]
  },
  {
   "cell_type": "code",
   "execution_count": null,
   "id": "74ddbda2-679e-4855-8520-8b79657b4b34",
   "metadata": {},
   "outputs": [],
   "source": []
  },
  {
   "cell_type": "markdown",
   "id": "53fe6ed1-1095-487a-a44f-e668b7fffeb3",
   "metadata": {},
   "source": [
    "Q.4.Answer"
   ]
  },
  {
   "cell_type": "markdown",
   "id": "3e3b7a09-7483-4da9-b7ad-5182d127510b",
   "metadata": {},
   "source": [
    "A bar plot, also known as a bar chart or bar graph, is a graphical representation of categorical data using rectangular bars. It is used to compare and visualize the values of different categories or groups. Bar plots are commonly used for displaying data that can be divided into discrete categories.\n"
   ]
  },
  {
   "cell_type": "code",
   "execution_count": null,
   "id": "14d62387-fe16-42c7-8087-ff5733fecaf6",
   "metadata": {},
   "outputs": [],
   "source": [
    "import matplotlib.pyplot as plt\n",
    "import numpy as np\n",
    "\n",
    "company = np.array([\"Apple\", \"Microsoft\", \"Google\", \"AMD\"])\n",
    "profit = np.array([3000, 8000, 1000, 10000])\n",
    "\n",
    "# Create a bar plot\n",
    "plt.figure(figsize=(8, 4))\n",
    "plt.bar(company, profit, color='skyblue')\n",
    "plt.title(\"Bar Plot\")\n",
    "plt.xlabel(\"Company\")\n",
    "plt.ylabel(\"Profit (in millions)\")\n",
    "\n",
    "# Show the bar plot\n",
    "plt.show()\n",
    "\n",
    "# Create a horizontal bar plot\n",
    "plt.figure(figsize=(8, 4))\n",
    "plt.barh(company, profit, color='salmon')\n",
    "plt.title(\"Horizontal Bar Plot\")\n",
    "plt.xlabel(\"Profit (in millions)\")\n",
    "plt.ylabel(\"Company\")\n",
    "\n",
    "# Show the horizontal bar plot\n",
    "plt.show()\n"
   ]
  },
  {
   "cell_type": "code",
   "execution_count": null,
   "id": "bb854314-303f-4a55-809f-66c32eb81785",
   "metadata": {},
   "outputs": [],
   "source": []
  },
  {
   "cell_type": "markdown",
   "id": "e8d76d5f-15ab-4ebe-8a8b-d51edd5408f4",
   "metadata": {},
   "source": [
    "Q.5.Answer"
   ]
  },
  {
   "cell_type": "markdown",
   "id": "257b8bd2-78fd-494f-9d74-ab179de67b5c",
   "metadata": {},
   "source": [
    "A box plot, also known as a box-and-whisker plot, is a graphical representation of the distribution and spread of a dataset. It displays the median, quartiles, and potential outliers in the data. Box plots are used to identify the central tendency and variability of a dataset and to detect skewness and outliers."
   ]
  },
  {
   "cell_type": "code",
   "execution_count": null,
   "id": "5a3185ed-f1eb-4b9f-b0ea-43783b959d6d",
   "metadata": {},
   "outputs": [],
   "source": [
    "import matplotlib.pyplot as plt\n",
    "import numpy as np\n",
    "\n",
    "# Generate data for box plots\n",
    "box1 = np.random.normal(100, 10, 200)\n",
    "box2 = np.random.normal(90, 20, 200)\n",
    "\n",
    "# Create a box plot\n",
    "plt.boxplot([box1, box2], labels=['Box 1', 'Box 2'])\n",
    "plt.title(\"Box Plot\")\n",
    "plt.xlabel(\"Box\")\n",
    "plt.ylabel(\"Values\")\n",
    "\n",
    "# Show the box plot\n",
    "plt.show()\n"
   ]
  },
  {
   "cell_type": "code",
   "execution_count": null,
   "id": "bc031d32-c0c7-4a0d-b5d0-6507ccf5f0a2",
   "metadata": {},
   "outputs": [],
   "source": []
  }
 ],
 "metadata": {
  "kernelspec": {
   "display_name": "Python 3 (ipykernel)",
   "language": "python",
   "name": "python3"
  },
  "language_info": {
   "codemirror_mode": {
    "name": "ipython",
    "version": 3
   },
   "file_extension": ".py",
   "mimetype": "text/x-python",
   "name": "python",
   "nbconvert_exporter": "python",
   "pygments_lexer": "ipython3",
   "version": "3.10.8"
  }
 },
 "nbformat": 4,
 "nbformat_minor": 5
}
