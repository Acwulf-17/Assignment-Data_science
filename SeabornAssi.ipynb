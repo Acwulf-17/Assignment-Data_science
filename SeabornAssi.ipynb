{
 "cells": [
  {
   "cell_type": "markdown",
   "id": "d5a02ff2-a874-45c7-9684-45e200c5ef2c",
   "metadata": {},
   "source": [
    "Q.1. Ans"
   ]
  },
  {
   "cell_type": "markdown",
   "id": "57754a34-e25e-4b78-9c26-da2fa2fc071a",
   "metadata": {},
   "source": [
    "Seaborn is a powerful Python data visualization library that offers a variety of plots for exploring and visualizing data. Here are five common plots and their uses in Seaborn:\n",
    "\n",
    "\n",
    "Scatter Plot:\n",
    "Use: Scatter plots are used to visualize the relationship between two continuous variables. They help in identifying patterns, clusters, or trends in data points.\n",
    "\n",
    "Bar Plot:\n",
    "Use: Bar plots are useful for comparing the values of different categories or groups. They display categorical data with rectangular bars, making it easy to visualize and compare quantities.\n",
    "\n",
    "Box Plot:\n",
    "Use: Box plots are used to display the distribution and spread of a dataset. They show the median, quartiles, and potential outliers, making it ideal for detecting skewness and outliers.\n",
    "\n",
    "Histogram:\n",
    "Use: Histograms are used to visualize the distribution of a single continuous variable. They divide the data into bins and display the frequency of data points within each bin.\n",
    "\n",
    "Pair Plot:\n",
    "Use: Pair plots are used to visualize pairwise relationships between multiple variables in a dataset. They display scatter plots for pairs of variables and histograms for individual variables, helping to identify correlations and patterns."
   ]
  },
  {
   "cell_type": "code",
   "execution_count": null,
   "id": "a6876ce5-de7b-48b2-b8d0-f522b489d74d",
   "metadata": {},
   "outputs": [],
   "source": []
  },
  {
   "cell_type": "markdown",
   "id": "698d7f6d-4f2c-43c9-935b-de8214d8aded",
   "metadata": {},
   "source": [
    "Q.2.Answer"
   ]
  },
  {
   "cell_type": "code",
   "execution_count": null,
   "id": "2fca8dc0-6035-4063-ab1c-4418af31a5a0",
   "metadata": {},
   "outputs": [],
   "source": [
    "import seaborn as sns\n",
    "import matplotlib.pyplot as plt\n",
    "\n",
    "# Load the fmri dataset\n",
    "fmri_data = sns.load_dataset(\"fmri\")\n",
    "\n",
    "# Create a line plot\n",
    "sns.lineplot(x=\"timepoint\", y=\"signal\", hue=\"event\", style=\"region\", data=fmri_data)\n",
    "\n",
    "# Add title and labels\n",
    "plt.title(\"FMRI Data: Line Plot\")\n",
    "plt.xlabel(\"Timepoint\")\n",
    "plt.ylabel(\"Signal\")\n",
    "\n",
    "# Show the plot\n",
    "plt.show()\n"
   ]
  },
  {
   "cell_type": "code",
   "execution_count": null,
   "id": "402616c2-4e5d-4bf8-ace8-1e8c8775ce69",
   "metadata": {},
   "outputs": [],
   "source": [
    "\n"
   ]
  },
  {
   "cell_type": "markdown",
   "id": "2d72016a-cc0c-495c-aef5-c836e7144eae",
   "metadata": {},
   "source": [
    "Q.3.Answer"
   ]
  },
  {
   "cell_type": "code",
   "execution_count": null,
   "id": "75ef1d4d-413f-4c0d-8fb7-9589b550eea7",
   "metadata": {},
   "outputs": [],
   "source": []
  },
  {
   "cell_type": "code",
   "execution_count": null,
   "id": "f60b7902-8460-46c2-b667-c5bdadcb1103",
   "metadata": {},
   "outputs": [],
   "source": []
  },
  {
   "cell_type": "markdown",
   "id": "38cedc75-1d6e-41dd-aa97-0d0ed9a4f0a4",
   "metadata": {},
   "source": [
    "Q.4.Answer"
   ]
  },
  {
   "cell_type": "code",
   "execution_count": null,
   "id": "60aac33f-5762-4816-804c-f38d421e42b6",
   "metadata": {},
   "outputs": [],
   "source": []
  },
  {
   "cell_type": "code",
   "execution_count": null,
   "id": "14c3358f-2987-4330-9f49-4f8fc2eaef40",
   "metadata": {},
   "outputs": [],
   "source": []
  },
  {
   "cell_type": "markdown",
   "id": "2023f867-0ec3-4594-acc1-9b9f28029bf1",
   "metadata": {},
   "source": [
    "Q.5.Answer"
   ]
  },
  {
   "cell_type": "code",
   "execution_count": null,
   "id": "2b32f8c2-b238-44e3-b84b-5026dcd755a3",
   "metadata": {},
   "outputs": [],
   "source": []
  }
 ],
 "metadata": {
  "kernelspec": {
   "display_name": "Python 3 (ipykernel)",
   "language": "python",
   "name": "python3"
  },
  "language_info": {
   "codemirror_mode": {
    "name": "ipython",
    "version": 3
   },
   "file_extension": ".py",
   "mimetype": "text/x-python",
   "name": "python",
   "nbconvert_exporter": "python",
   "pygments_lexer": "ipython3",
   "version": "3.10.8"
  }
 },
 "nbformat": 4,
 "nbformat_minor": 5
}
