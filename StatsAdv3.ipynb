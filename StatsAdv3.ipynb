{
 "cells": [
  {
   "cell_type": "markdown",
   "id": "e8491288-ca2d-4dba-a3a8-96723f3d2d4f",
   "metadata": {},
   "source": [
    "Q.1.Answer"
   ]
  },
  {
   "cell_type": "markdown",
   "id": "d56c96b4-968d-4f23-b7ef-9d3eaf334612",
   "metadata": {},
   "source": [
    "Estimation statistics involves the process of using sample data to make inferences or estimates about population parameters. Two common types of estimation are:\n",
    "\n",
    "Point Estimate: A single value that is used to estimate a population parameter. It provides a best guess or approximation. For example, using the sample mean to estimate the population mean.\n",
    "\n",
    "Interval Estimate: An estimate that provides a range or interval within which the population parameter is likely to fall. It includes both a point estimate and a margin of error. For example, a confidence interval for the population mean.\n",
    "\n"
   ]
  },
  {
   "cell_type": "code",
   "execution_count": null,
   "id": "2014e4ba-97f5-4827-9711-19ddfc44ed3a",
   "metadata": {},
   "outputs": [],
   "source": []
  },
  {
   "cell_type": "markdown",
   "id": "ee2fd246-71b2-4ac6-af11-9d256dee3d90",
   "metadata": {},
   "source": [
    "Q.2.Answer"
   ]
  },
  {
   "cell_type": "code",
   "execution_count": 1,
   "id": "a36bf312-919c-41b6-882b-66b2f49ca6fa",
   "metadata": {},
   "outputs": [
    {
     "name": "stdout",
     "output_type": "stream",
     "text": [
      "95% Confidence Interval: (94.63231893644937, 105.36768106355063)\n"
     ]
    }
   ],
   "source": [
    "import math\n",
    "\n",
    "def estimate_population_mean(sample_mean, sample_stddev, sample_size):\n",
    "    margin_of_error = 1.96 * (sample_stddev / math.sqrt(sample_size))  # For a 95% confidence interval\n",
    "    lower_limit = sample_mean - margin_of_error\n",
    "    upper_limit = sample_mean + margin_of_error\n",
    "    return lower_limit, upper_limit\n",
    "\n",
    "# Example usage:\n",
    "sample_mean = 100  # Replace with your sample mean\n",
    "sample_stddev = 15  # Replace with your sample standard deviation\n",
    "sample_size = 30  # Replace with your sample size\n",
    "\n",
    "confidence_interval = estimate_population_mean(sample_mean, sample_stddev, sample_size)\n",
    "print(\"95% Confidence Interval:\", confidence_interval)\n"
   ]
  },
  {
   "cell_type": "code",
   "execution_count": null,
   "id": "184fece7-8311-4a88-8309-f8c10e0bb375",
   "metadata": {},
   "outputs": [],
   "source": []
  },
  {
   "cell_type": "markdown",
   "id": "8e54957a-cb67-4eb8-9008-dec8b9ed07bc",
   "metadata": {},
   "source": [
    "Q.3.Answer"
   ]
  },
  {
   "cell_type": "markdown",
   "id": "a604070b-b87f-4281-a4dc-4dc7e2a2fd1a",
   "metadata": {},
   "source": [
    "Hypothesis testing is a statistical method used to make decisions about population parameters based on sample data. It is used to determine if there is enough evidence to support a specific claim or hypothesis about the population. Hypothesis testing is essential for making data-driven decisions and drawing conclusions from data.\n",
    "\n",
    "Importance of Hypothesis Testing:\n",
    "\n",
    "It helps validate or reject claims or hypotheses about population parameters.\n",
    "It provides a systematic way to assess whether observed differences or effects are statistically significant.\n",
    "It forms the basis for making informed decisions in various fields, including science, medicine, business, and social sciences.\n"
   ]
  },
  {
   "cell_type": "code",
   "execution_count": null,
   "id": "f3c8dbbf-05a1-4c07-a4e2-10e68c9bd909",
   "metadata": {},
   "outputs": [],
   "source": []
  },
  {
   "cell_type": "markdown",
   "id": "fd460c9a-6c53-406c-bec8-50202af81c36",
   "metadata": {},
   "source": [
    "Q.4.Answer"
   ]
  },
  {
   "cell_type": "markdown",
   "id": "bec15ee4-e362-477c-b6b9-78a76fb01bda",
   "metadata": {},
   "source": [
    " Hypothesis: The average weight of male college students is greater than the average weight of female college students.\n",
    "\n"
   ]
  },
  {
   "cell_type": "code",
   "execution_count": null,
   "id": "5ec10395-62ac-49a9-a3d6-872eac7a392a",
   "metadata": {},
   "outputs": [],
   "source": []
  },
  {
   "cell_type": "markdown",
   "id": "8fb34d61-95af-4c85-a4fa-7b4464ff3f31",
   "metadata": {},
   "source": [
    "Q.5.Answer"
   ]
  },
  {
   "cell_type": "markdown",
   "id": "fb78ca27-292d-4f6c-b49e-f51e99ca9ace",
   "metadata": {},
   "source": [
    "Conducting a hypothesis test on the difference between two population means, given two samples, requires the following steps:\n",
    "\n",
    "Formulate the null hypothesis (H0) and the alternative hypothesis (H1).\n",
    "\n",
    "Collect data from the two samples and calculate the sample means (𝑥̄1 and 𝑥̄2) and sample standard deviations (𝑠1 and 𝑠2).\n",
    "\n",
    "Decide on the significance level (α), which represents the probability of making a Type I error (rejecting a true null hypothesis).\n",
    "\n",
    "Choose the appropriate statistical test based on the data and hypotheses (e.g., t-test for independent samples).\n",
    "\n",
    "Calculate the test statistic (e.g., t-statistic) using the sample statistics.\n",
    "\n",
    "Determine the critical value or p-value based on the chosen significance level and the test statistic.\n",
    "\n",
    "Make a decision to either reject the null hypothesis or fail to reject it based on the critical value or p-value.\n",
    "\n",
    "Interpret the results and draw conclusions based on the decision."
   ]
  },
  {
   "cell_type": "code",
   "execution_count": null,
   "id": "b2371136-08a6-4eab-8660-642b839124b8",
   "metadata": {},
   "outputs": [],
   "source": []
  },
  {
   "cell_type": "markdown",
   "id": "a4770adb-64d2-468d-bec3-61a8c191ebb0",
   "metadata": {},
   "source": [
    "Q.6.Answer"
   ]
  },
  {
   "cell_type": "markdown",
   "id": "dfde5fe4-f0ec-4a79-be5b-ed19397c794b",
   "metadata": {},
   "source": [
    "Null Hypothesis (H0): A statement that there is no significant difference or effect. It represents the status quo or the absence of an effect.\n",
    "\n",
    "Alternative Hypothesis (H1): A statement that contradicts the null hypothesis and suggests a significant difference or effect.\n",
    "\n",
    "Examples:\n",
    "\n",
    "H0: The new drug has no effect on blood pressure. H1: The new drug decreases blood pressure.\n",
    "\n",
    "H0: The mean test scores of Group A and Group B are equal. H1: The mean test scores of Group A and Group B are not equal."
   ]
  },
  {
   "cell_type": "code",
   "execution_count": null,
   "id": "51b897cd-8e4a-412d-ad86-b9352c58ee7f",
   "metadata": {},
   "outputs": [],
   "source": []
  },
  {
   "cell_type": "markdown",
   "id": "d18c17f8-6b24-441f-9dc0-864fce4ebbdb",
   "metadata": {},
   "source": [
    "Q.7.Answer"
   ]
  },
  {
   "cell_type": "markdown",
   "id": "8f83a37f-629c-49d8-b29c-be829cee59ae",
   "metadata": {},
   "source": [
    "Steps involved in hypothesis testing:\n",
    "\n",
    "Formulate the null hypothesis (H0) and the alternative hypothesis (H1).\n",
    "\n",
    "Collect sample data.\n",
    "\n",
    "Choose a significance level (α), typically set at 0.05 or 0.01.\n",
    "\n",
    "Select an appropriate statistical test based on the data and hypotheses.\n",
    "\n",
    "Calculate the test statistic.\n",
    "\n",
    "Determine the critical value or p-value associated with the test statistic.\n",
    "\n",
    "Make a decision to either reject the null hypothesis or fail to reject it based on the critical value or p-value.\n",
    "\n",
    "Interpret the results and draw conclusions.\n"
   ]
  },
  {
   "cell_type": "code",
   "execution_count": null,
   "id": "9bb6563b-fcff-4981-9fca-ebf119e33d3b",
   "metadata": {},
   "outputs": [],
   "source": []
  },
  {
   "cell_type": "markdown",
   "id": "8f70a77a-5df6-4456-bb53-b67080eb9fe0",
   "metadata": {},
   "source": [
    "Q.8.Answer"
   ]
  },
  {
   "cell_type": "markdown",
   "id": "ae34ff70-5f4b-49d6-9207-92a68a6484c9",
   "metadata": {},
   "source": [
    "p-value is a measure that quantifies the evidence against the null hypothesis in hypothesis testing. It represents the probability of obtaining sample data as extreme as, or more extreme than, the observed data, assuming the null hypothesis is true. The significance of the p-value is as follows:\n",
    "\n",
    "A small p-value (typically ≤ α, where α is the chosen significance level) suggests strong evidence against the null hypothesis. In this case, you may reject the null hypothesis.\n",
    "\n",
    "A large p-value suggests weak evidence against the null hypothesis. In this case, you may fail to reject the null hypothesis.\n",
    "\n",
    "A p-value is not a probability of the null hypothesis being true or false; it measures the strength of evidence against it."
   ]
  },
  {
   "cell_type": "code",
   "execution_count": null,
   "id": "4cd93a39-009c-478e-bd30-062931b66d52",
   "metadata": {},
   "outputs": [],
   "source": []
  },
  {
   "cell_type": "markdown",
   "id": "c6ab2b33-ba1f-4ec6-b613-c1fe62bf003e",
   "metadata": {},
   "source": [
    "Q.9.Answer"
   ]
  },
  {
   "cell_type": "code",
   "execution_count": 4,
   "id": "cf8bd418-1151-4a99-b0f0-4a4bd5c04aa7",
   "metadata": {},
   "outputs": [
    {
     "data": {
      "image/png": "[encoded data removed]",
      "text/plain": [
       "<Figure size 640x480 with 1 Axes>"
      ]
     },
     "metadata": {},
     "output_type": "display_data"
    }
   ],
   "source": [
    "import numpy as np\n",
    "import matplotlib.pyplot as plt\n",
    "from scipy.stats import t\n",
    "\n",
    "# Degrees of freedom\n",
    "df = 10\n",
    "\n",
    "# Generate data points\n",
    "x = np.linspace(-4, 4, 1000)\n",
    "\n",
    "# Calculate the probability density function (PDF) for the t-distribution\n",
    "pdf = t.pdf(x, df)\n",
    "\n",
    "# Create a plot\n",
    "plt.plot(x, pdf, label=f't-distribution (df={df})', color='blue')\n",
    "\n",
    "# Add labels and a legend\n",
    "plt.xlabel('x')\n",
    "plt.ylabel('PDF')\n",
    "plt.legend()\n",
    "\n",
    "# Show the plot\n",
    "plt.title(\"Student's t-Distribution\")\n",
    "plt.grid(True)\n",
    "plt.show()\n"
   ]
  },
  {
   "cell_type": "code",
   "execution_count": null,
   "id": "5cad6e7a-a6cc-46b5-a01d-d13b81e1a263",
   "metadata": {},
   "outputs": [],
   "source": []
  },
  {
   "cell_type": "markdown",
   "id": "767b6bd8-431f-47c3-a3c7-cdc5e7b4be3d",
   "metadata": {},
   "source": [
    "Q.10.Answer"
   ]
  },
  {
   "cell_type": "code",
   "execution_count": 5,
   "id": "58bfae1f-0591-4931-a156-c414616aa9f8",
   "metadata": {},
   "outputs": [
    {
     "name": "stdout",
     "output_type": "stream",
     "text": [
      "t-statistic: -0.45831436425220795\n",
      "P-value: 0.6484392701428092\n",
      "Fail to reject the null hypothesis: Population means are equal.\n"
     ]
    }
   ],
   "source": [
    "import numpy as np\n",
    "from scipy import stats\n",
    "\n",
    "# Generate two random samples\n",
    "sample1 = np.random.normal(loc=50, scale=10, size=30)  # Sample 1\n",
    "sample2 = np.random.normal(loc=50, scale=10, size=30)  # Sample 2\n",
    "\n",
    "# Perform a two-sample t-test\n",
    "t_statistic, p_value = stats.ttest_ind(sample1, sample2)\n",
    "\n",
    "# Set the significance level\n",
    "alpha = 0.05\n",
    "\n",
    "# Print the results\n",
    "print(f\"t-statistic: {t_statistic}\")\n",
    "print(f\"P-value: {p_value}\")\n",
    "\n",
    "# Compare p-value to the significance level\n",
    "if p_value < alpha:\n",
    "    print(\"Reject the null hypothesis: Population means are not equal.\")\n",
    "else:\n",
    "    print(\"Fail to reject the null hypothesis: Population means are equal.\")\n"
   ]
  },
  {
   "cell_type": "code",
   "execution_count": null,
   "id": "27d8c1ef-8351-43d1-bbbf-5dd1ab13f92b",
   "metadata": {},
   "outputs": [],
   "source": []
  },
  {
   "cell_type": "markdown",
   "id": "48f4c037-b800-472b-bed6-e4b4903175ae",
   "metadata": {},
   "source": [
    "Q.11.Answer"
   ]
  },
  {
   "cell_type": "markdown",
   "id": "ad8a8a9b-e125-49d1-81ea-3aff43cd0c79",
   "metadata": {},
   "source": [
    "Student's t-distribution is a probability distribution used for making inferences about population means when the sample size is small (typically n < 30) and the population standard deviation is unknown. It is a family of distributions, and the specific distribution is determined by the degrees of freedom (df).\n",
    "\n",
    "When to use the t-Distribution:\n",
    "\n",
    "Use the t-distribution when dealing with small sample sizes or when the population standard deviation is unknown.\n",
    "\n",
    "It is commonly used for hypothesis testing and confidence interval estimation for the population mean."
   ]
  },
  {
   "cell_type": "code",
   "execution_count": null,
   "id": "bf0ecb24-c726-49ba-9f5b-0895e0b3de2e",
   "metadata": {},
   "outputs": [],
   "source": []
  },
  {
   "cell_type": "markdown",
   "id": "fbed8954-1f1e-4818-8431-66452a98d81a",
   "metadata": {},
   "source": [
    "Q.12.Answer"
   ]
  },
  {
   "cell_type": "markdown",
   "id": "0830ab55-6513-4637-b59e-8bc408f00d20",
   "metadata": {},
   "source": [
    "The t-statistic is a measure used in hypothesis testing to determine whether there is a significant difference between the means of two groups or whether a sample mean is significantly different from a known population mean. The formula for the t-statistic when comparing a sample mean to a population mean is:\n",
    "\n",
    "t=(x-mean)/(s/root of n)\n",
    "\n"
   ]
  },
  {
   "cell_type": "code",
   "execution_count": null,
   "id": "288bfb60-b021-4cb4-a124-bc368be4ee0d",
   "metadata": {},
   "outputs": [],
   "source": []
  },
  {
   "cell_type": "markdown",
   "id": "b1c579aa-003b-471c-8402-6f97cfcfd8ee",
   "metadata": {},
   "source": [
    "Q.13.Answer"
   ]
  },
  {
   "cell_type": "markdown",
   "id": "2d547acd-110d-4a67-9462-2959ca916361",
   "metadata": {},
   "source": [
    "To estimate the population mean revenue with a 95% confidence interval, you can use the following formula:\n",
    "\n",
    "Confidence Interval = bar x +- Z. (s/root of n)\n",
    "​\n",
    " \n",
    "\n"
   ]
  },
  {
   "cell_type": "code",
   "execution_count": null,
   "id": "18b2e5b1-b4a6-4886-8994-576b65d047d3",
   "metadata": {},
   "outputs": [],
   "source": []
  },
  {
   "cell_type": "markdown",
   "id": "29beda4b-78c4-41e6-80d8-44d09a6fa8f3",
   "metadata": {},
   "source": [
    "Q.14.Answer"
   ]
  },
  {
   "cell_type": "markdown",
   "id": "d83d68f0-c841-4e30-9bef-f8d01f78d5f7",
   "metadata": {},
   "source": [
    "To test the hypothesis about the new drug's effect on blood pressure, you can perform a one-sample t-test. The null and alternative hypotheses are as follows:\n",
    "\n",
    "Null Hypothesis (H0): The new drug has no effect on blood pressure (\\muμ = 10 mmHg).\n",
    "Alternative Hypothesis (H1): The new drug decreases blood pressure (\\muμ < 10 mmHg).\n",
    "You can calculate the t-statistic and p-value using the provided sample mean, standard deviation, sample size, and a significance level of 0.05. Then, compare the p-value to the significance level to make a decision."
   ]
  },
  {
   "cell_type": "code",
   "execution_count": null,
   "id": "c5b743bb-15c9-4817-96d9-06813469d133",
   "metadata": {},
   "outputs": [],
   "source": []
  },
  {
   "cell_type": "markdown",
   "id": "7c39ac7d-d2e7-485d-9edd-24e7538bbd14",
   "metadata": {},
   "source": [
    "Q.15.Answer"
   ]
  },
  {
   "cell_type": "markdown",
   "id": "e59815d8-2ca6-4ea0-93cf-f079ce603198",
   "metadata": {},
   "source": [
    "To test the hypothesis that the true mean weight of the products is less than 5 pounds with a significance level of 0.01, you can perform a one-sample t-test. The null and alternative hypotheses are as follows:\n",
    "\n",
    "Null Hypothesis (H0): The true mean weight (\\muμ) is 5 pounds or more.\n",
    "\n",
    "Alternative Hypothesis (H1): The true mean weight (\\muμ) is less than"
   ]
  },
  {
   "cell_type": "code",
   "execution_count": null,
   "id": "a39115bf-153e-4895-8086-353b2dfbd76c",
   "metadata": {},
   "outputs": [],
   "source": []
  },
  {
   "cell_type": "markdown",
   "id": "2b078db8-141e-434c-a5b1-e00c79b6bd26",
   "metadata": {},
   "source": [
    "Q.16.Answer"
   ]
  },
  {
   "cell_type": "markdown",
   "id": "09d033e5-280b-4c1d-8fc4-61d179d7a8a2",
   "metadata": {},
   "source": [
    "To test the hypothesis that the population means for the two groups are equal with a significance level of 0.01, you can perform a two-sample t-test for independent samples. Here are the details:\n",
    "\n",
    "Group 1:\n",
    "\n",
    "Sample size (n1) = 30\n",
    "Sample mean (bar x)= 80\n",
    "Sample standard deviation (s1) = 10\n",
    "\n",
    "Group 2:\n",
    "\n",
    "Sample size (n2) = 40\n",
    "Sample mean (bar x2) = 75\n",
    "Sample standard deviation (s2) = 8\n",
    "\n",
    "Null Hypothesis (H0): The population means of the two groups are equal (mean1=mean2)\n",
    "\n",
    "Alternative Hypothesis (H1): The population means of the two groups are not equal (mean1 is not = mean2)\n",
    "\n",
    "Significance level (\\alphaα): 0.01\n",
    "\n",
    "Perform the two-sample t-test using Python or a statistical software package to calculate the t-statistic and p-value. The t-statistic measures the difference between the sample means relative to the variability within the samples. Then, compare the p-value to the significance level to make a decision.\n",
    "\n"
   ]
  },
  {
   "cell_type": "code",
   "execution_count": null,
   "id": "8fdf8c33-ceed-43db-b946-4050a5686f94",
   "metadata": {},
   "outputs": [],
   "source": []
  },
  {
   "cell_type": "markdown",
   "id": "dd7ecde2-02cf-44f8-9ebd-ac1b2dbaff48",
   "metadata": {},
   "source": [
    "Q.17.Answer"
   ]
  },
  {
   "cell_type": "markdown",
   "id": "7d949d26-4af8-4bf7-bf82-6af0b8dd4634",
   "metadata": {},
   "source": [
    "To estimate the population mean number of ads watched by viewers during a TV program with a 99% confidence interval, you can use the following formula:\n",
    "\n",
    "Confidence Interval = bar x +- Z.()"
   ]
  },
  {
   "cell_type": "code",
   "execution_count": null,
   "id": "fbf101d0-7f75-458a-8bc2-96549f6ffb44",
   "metadata": {},
   "outputs": [],
   "source": []
  },
  {
   "cell_type": "code",
   "execution_count": null,
   "id": "48be9a65-807a-4f4f-8320-5ae8a20348a9",
   "metadata": {},
   "outputs": [],
   "source": []
  }
 ],
 "metadata": {
  "kernelspec": {
   "display_name": "Python 3 (ipykernel)",
   "language": "python",
   "name": "python3"
  },
  "language_info": {
   "codemirror_mode": {
    "name": "ipython",
    "version": 3
   },
   "file_extension": ".py",
   "mimetype": "text/x-python",
   "name": "python",
   "nbconvert_exporter": "python",
   "pygments_lexer": "ipython3",
   "version": "3.10.8"
  }
 },
 "nbformat": 4,
 "nbformat_minor": 5
}
