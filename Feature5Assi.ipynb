{
 "cells": [
  {
   "cell_type": "markdown",
   "id": "6a07e372-644c-44b4-b616-ae2467485daa",
   "metadata": {},
   "source": [
    "Q.1.Answer"
   ]
  },
  {
   "cell_type": "markdown",
   "id": "d2271bf5-8e54-4eb5-9e98-1da41c145b9b",
   "metadata": {},
   "source": [
    "The Pearson correlation coefficient is a measure of the linear relationship between two variables. Let's calculate the Pearson correlation coefficient between the amount of time students spend studying for an exam and their final exam scores. The result will help us understand the strength and direction of this linear relationship.\n",
    "\n"
   ]
  },
  {
   "cell_type": "markdown",
   "id": "5eeb8382-a5c4-4e9e-be2a-f8f2eaae6dee",
   "metadata": {},
   "source": [
    "\n",
    "Q,2,Answer"
   ]
  },
  {
   "cell_type": "markdown",
   "id": "c787f94b-7357-4ba9-9279-780b854d68b0",
   "metadata": {},
   "source": [
    "Spearman's rank correlation is used to measure the monotonic relationship between two variables. Monotonicity refers to whether, as one variable increases, the other tends to increase (or decrease), but not necessarily at a constant rate. "
   ]
  },
  {
   "cell_type": "code",
   "execution_count": null,
   "id": "3ccda8f1-ef6d-4953-b670-1fc213b28ff5",
   "metadata": {},
   "outputs": [],
   "source": []
  },
  {
   "cell_type": "markdown",
   "id": "60a0e406-748c-469b-be46-4318bf99d342",
   "metadata": {},
   "source": [
    "Q.3.Answer"
   ]
  },
  {
   "cell_type": "markdown",
   "id": "91820880-6f38-489f-a858-10c65c694fc7",
   "metadata": {},
   "source": [
    "For the relationship between the number of hours of exercise per week and body mass index (BMI) in a sample of adults, you can calculate both the Pearson correlation coefficient and the Spearman's rank correlation. The comparison will help you understand the type of relationship (linear or monotonic) and the strength.\n",
    "\n",
    "Pearson correlation measures the linear relationship, while Spearman's rank correlation measures the monotonic relationship. A significant difference in the results may indicate that the relationship is nonlinear but still monotonic."
   ]
  },
  {
   "cell_type": "code",
   "execution_count": null,
   "id": "f1e9c0cd-7cce-4225-9147-80145ef974cc",
   "metadata": {},
   "outputs": [],
   "source": []
  },
  {
   "cell_type": "markdown",
   "id": "b3c1d612-5355-417a-bb8e-36af5a17748c",
   "metadata": {},
   "source": [
    "Q.4.Answer"
   ]
  },
  {
   "cell_type": "markdown",
   "id": "a7679882-098d-42c3-8091-19880890afa7",
   "metadata": {},
   "source": [
    "To calculate the Pearson correlation coefficient between the number of hours individuals spend watching television per day and their level of physical activity, you w\n",
    "ould use the Pearson correlation formula as mentioned in Question 1. The result will help you understand the direction and strength of the linear relationship between these two variables."
   ]
  },
  {
   "cell_type": "code",
   "execution_count": null,
   "id": "cf3bed80-f5b8-4b35-9f9a-a1b97268132a",
   "metadata": {},
   "outputs": [],
   "source": []
  },
  {
   "cell_type": "markdown",
   "id": "272e4dde-f872-4737-b308-a9abee7fb223",
   "metadata": {},
   "source": [
    "Q.5.Answer"
   ]
  },
  {
   "cell_type": "code",
   "execution_count": 2,
   "id": "eabef55c-4de3-4587-9235-32693397edc8",
   "metadata": {},
   "outputs": [],
   "source": [
    "import pandas as pd\n",
    "import numpy as np\n"
   ]
  },
  {
   "cell_type": "code",
   "execution_count": 3,
   "id": "16cd8058-51b2-4668-b1d7-3511c022dab9",
   "metadata": {},
   "outputs": [],
   "source": [
    "data = pd.DataFrame({\n",
    "    'Age (Years)': [25, 42, 37, 19, 31, 28],\n",
    "    'Soft Drink Preference': ['Coke', 'Pepsi', 'Mountain Dew', 'Coke', 'Pepsi', 'Coke']\n",
    "})\n"
   ]
  },
  {
   "cell_type": "code",
   "execution_count": 4,
   "id": "e59873c9-cca4-4aca-991b-1c9bfbdbb7f3",
   "metadata": {},
   "outputs": [],
   "source": [
    "data['Soft Drink Preference'] = data['Soft Drink Preference'].astype('category')\n",
    "data['Soft Drink Preference'] = data['Soft Drink Preference'].cat.codes\n"
   ]
  },
  {
   "cell_type": "code",
   "execution_count": 5,
   "id": "01817071-2804-4c5a-99e1-b43f67a3e9ee",
   "metadata": {},
   "outputs": [
    {
     "name": "stdout",
     "output_type": "stream",
     "text": [
      "Pearson Correlation Coefficient: 0.7691751415594736\n"
     ]
    }
   ],
   "source": [
    "pearson_correlation = data['Age (Years)'].corr(data['Soft Drink Preference'])\n",
    "print(f\"Pearson Correlation Coefficient: {pearson_correlation}\")\n"
   ]
  },
  {
   "cell_type": "code",
   "execution_count": null,
   "id": "9307a600-5a03-48b3-87f7-3214fa7a39b9",
   "metadata": {},
   "outputs": [],
   "source": []
  },
  {
   "cell_type": "markdown",
   "id": "72cc2e93-d79d-43b1-9656-fdef0f457aa2",
   "metadata": {},
   "source": [
    "Q.6.Answer"
   ]
  },
  {
   "cell_type": "code",
   "execution_count": null,
   "id": "660c3714-d1f7-4bd6-afde-ea473ebc868f",
   "metadata": {},
   "outputs": [],
   "source": []
  }
 ],
 "metadata": {
  "kernelspec": {
   "display_name": "Python 3 (ipykernel)",
   "language": "python",
   "name": "python3"
  },
  "language_info": {
   "codemirror_mode": {
    "name": "ipython",
    "version": 3
   },
   "file_extension": ".py",
   "mimetype": "text/x-python",
   "name": "python",
   "nbconvert_exporter": "python",
   "pygments_lexer": "ipython3",
   "version": "3.10.8"
  }
 },
 "nbformat": 4,
 "nbformat_minor": 5
}
