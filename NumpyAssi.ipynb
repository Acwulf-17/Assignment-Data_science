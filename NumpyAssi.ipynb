{
 "cells": [
  {
   "cell_type": "markdown",
   "id": "74fd9ba5-fc79-4464-b732-ddf853d4ae94",
   "metadata": {},
   "source": [
    "Q.1.Answer"
   ]
  },
  {
   "cell_type": "markdown",
   "id": "e2c3d8f9-6bc9-43fa-9d4c-2f5e87865a80",
   "metadata": {},
   "source": [
    "Yes, there is a difference in data types. The list_ variable contains strings, while the array_list variable contains elements of data type numpy.str_. Here's how you can print the data types of both variables:"
   ]
  },
  {
   "cell_type": "code",
   "execution_count": 2,
   "id": "fc78286d-994e-4239-bc1b-7a18db28a609",
   "metadata": {},
   "outputs": [
    {
     "name": "stdout",
     "output_type": "stream",
     "text": [
      "Data type of list_: <class 'str'>\n",
      "Data type of array_list: <class 'numpy.str_'>\n"
     ]
    }
   ],
   "source": [
    "import numpy as np\n",
    "\n",
    "list_ = ['1', '2', '3', '4', '5']\n",
    "array_list = np.array(object=list_)\n",
    "\n",
    "# Print data types\n",
    "print(\"Data type of list_:\", type(list_[0]))\n",
    "print(\"Data type of array_list:\", type(array_list[0]))\n"
   ]
  },
  {
   "cell_type": "code",
   "execution_count": null,
   "id": "10a64572-4dbb-45b6-be37-9b2897621174",
   "metadata": {},
   "outputs": [],
   "source": []
  },
  {
   "cell_type": "markdown",
   "id": "9a1db12c-5ed1-4e0a-b3a9-4504174bac4a",
   "metadata": {},
   "source": [
    "Q.2.Answer"
   ]
  },
  {
   "cell_type": "code",
   "execution_count": 3,
   "id": "c3170f30-8fa0-4478-aa28-358c5057084a",
   "metadata": {},
   "outputs": [
    {
     "name": "stdout",
     "output_type": "stream",
     "text": [
      "Data type of element in list_: <class 'str'>\n",
      "Data type of element in list_: <class 'str'>\n",
      "Data type of element in list_: <class 'str'>\n",
      "Data type of element in list_: <class 'str'>\n",
      "Data type of element in list_: <class 'str'>\n",
      "Data type of element in array_list: <class 'numpy.str_'>\n",
      "Data type of element in array_list: <class 'numpy.str_'>\n",
      "Data type of element in array_list: <class 'numpy.str_'>\n",
      "Data type of element in array_list: <class 'numpy.str_'>\n",
      "Data type of element in array_list: <class 'numpy.str_'>\n"
     ]
    }
   ],
   "source": [
    "import numpy as np\n",
    "\n",
    "list_ = ['1', '2', '3', '4', '5']\n",
    "array_list = np.array(object=list_)\n",
    "\n",
    "# Print data types of elements in list_\n",
    "for item in list_:\n",
    "    print(\"Data type of element in list_:\", type(item))\n",
    "\n",
    "# Print data types of elements in array_list\n",
    "for item in array_list:\n",
    "    print(\"Data type of element in array_list:\", type(item))\n"
   ]
  },
  {
   "cell_type": "code",
   "execution_count": null,
   "id": "35cd7ab1-ec75-4471-88a7-546f8d324577",
   "metadata": {},
   "outputs": [],
   "source": []
  },
  {
   "cell_type": "markdown",
   "id": "cbdafbcc-2d54-4b09-8594-436c4e03efae",
   "metadata": {},
   "source": [
    "Q.3. Answer"
   ]
  },
  {
   "cell_type": "markdown",
   "id": "a322a8a3-7105-4089-a150-1bd8b1a74bfa",
   "metadata": {},
   "source": [
    "Yes, there will be a difference in data types after converting array_list to integers using the dtype parameter. Here's how you can print the data types of elements in both variables:"
   ]
  },
  {
   "cell_type": "code",
   "execution_count": 4,
   "id": "d2c43296-699c-4ef9-bf4f-57f2ac683c33",
   "metadata": {},
   "outputs": [
    {
     "name": "stdout",
     "output_type": "stream",
     "text": [
      "Data type of element in list_: <class 'str'>\n",
      "Data type of element in list_: <class 'str'>\n",
      "Data type of element in list_: <class 'str'>\n",
      "Data type of element in list_: <class 'str'>\n",
      "Data type of element in list_: <class 'str'>\n",
      "Data type of element in array_list: <class 'numpy.int64'>\n",
      "Data type of element in array_list: <class 'numpy.int64'>\n",
      "Data type of element in array_list: <class 'numpy.int64'>\n",
      "Data type of element in array_list: <class 'numpy.int64'>\n",
      "Data type of element in array_list: <class 'numpy.int64'>\n"
     ]
    }
   ],
   "source": [
    "import numpy as np\n",
    "\n",
    "list_ = ['1', '2', '3', '4', '5']\n",
    "array_list = np.array(object=list_, dtype=int)\n",
    "\n",
    "# Print data types of elements in list_\n",
    "for item in list_:\n",
    "    print(\"Data type of element in list_:\", type(item))\n",
    "\n",
    "# Print data types of elements in array_list\n",
    "for item in array_list:\n",
    "    print(\"Data type of element in array_list:\", type(item))\n"
   ]
  },
  {
   "cell_type": "code",
   "execution_count": null,
   "id": "da7d49b3-0d53-43a9-89dd-cda8ef30a2d6",
   "metadata": {},
   "outputs": [],
   "source": []
  },
  {
   "cell_type": "markdown",
   "id": "93bf1b31-6c79-45a9-917c-cbe6f853d0dd",
   "metadata": {},
   "source": [
    "Q.4. Answer"
   ]
  },
  {
   "cell_type": "code",
   "execution_count": 5,
   "id": "4103e1be-384f-4c28-9bb3-7929c543cb7b",
   "metadata": {},
   "outputs": [
    {
     "name": "stdout",
     "output_type": "stream",
     "text": [
      "(i) Shape of num_array: (2, 3)\n",
      "(ii) Size of num_array: 6\n"
     ]
    }
   ],
   "source": [
    "import numpy as np\n",
    "\n",
    "num_list = [[1, 2, 3], [4, 5, 6]]\n",
    "num_array = np.array(object=num_list)\n",
    "\n",
    "# (i) Find the shape of num_array\n",
    "shape = num_array.shape\n",
    "\n",
    "# (ii) Find the size of num_array\n",
    "size = num_array.size\n",
    "\n",
    "# Print the results\n",
    "print(\"(i) Shape of num_array:\", shape)\n",
    "print(\"(ii) Size of num_array:\", size)\n"
   ]
  },
  {
   "cell_type": "code",
   "execution_count": null,
   "id": "264a5f7d-f02d-4fa3-98bc-35338770214b",
   "metadata": {},
   "outputs": [],
   "source": []
  },
  {
   "cell_type": "markdown",
   "id": "80816a0a-869a-43db-a662-fe7b8f2ef6d8",
   "metadata": {},
   "source": [
    "Q.5. Answer"
   ]
  },
  {
   "cell_type": "code",
   "execution_count": 6,
   "id": "ad7241ef-576c-473b-b7be-789ed27e9405",
   "metadata": {},
   "outputs": [
    {
     "name": "stdout",
     "output_type": "stream",
     "text": [
      "[[0. 0. 0.]\n",
      " [0. 0. 0.]\n",
      " [0. 0. 0.]]\n"
     ]
    }
   ],
   "source": [
    "import numpy as np\n",
    "\n",
    "# Create a 3x3 matrix of zeros\n",
    "zeros_matrix = np.zeros((3, 3))\n",
    "\n",
    "# Print the zeros_matrix\n",
    "print(zeros_matrix)\n"
   ]
  },
  {
   "cell_type": "code",
   "execution_count": null,
   "id": "2a9be798-ca9e-4dcc-a7b2-d4c65d6cb03c",
   "metadata": {},
   "outputs": [],
   "source": []
  },
  {
   "cell_type": "markdown",
   "id": "39ccab1a-3058-4760-99e5-08be6f8b0905",
   "metadata": {},
   "source": [
    "Q.6.Answer"
   ]
  },
  {
   "cell_type": "code",
   "execution_count": null,
   "id": "3d8092cb-7f90-4cdb-9881-113982d78584",
   "metadata": {},
   "outputs": [],
   "source": []
  }
 ],
 "metadata": {
  "kernelspec": {
   "display_name": "Python 3 (ipykernel)",
   "language": "python",
   "name": "python3"
  },
  "language_info": {
   "codemirror_mode": {
    "name": "ipython",
    "version": 3
   },
   "file_extension": ".py",
   "mimetype": "text/x-python",
   "name": "python",
   "nbconvert_exporter": "python",
   "pygments_lexer": "ipython3",
   "version": "3.10.8"
  }
 },
 "nbformat": 4,
 "nbformat_minor": 5
}
