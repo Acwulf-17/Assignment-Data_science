{
 "cells": [
  {
   "cell_type": "markdown",
   "id": "5f071825-f879-42e3-a160-df3a30587491",
   "metadata": {},
   "source": [
    "Ans Q.1"
   ]
  },
  {
   "cell_type": "markdown",
   "id": "ab14b8e1-7f40-4920-b4cc-c83f209a8283",
   "metadata": {},
   "source": [
    "The keyword used to create a function in Python is def. You use def followed by the function name and parentheses to define a function."
   ]
  },
  {
   "cell_type": "code",
   "execution_count": 2,
   "id": "55981758-a8fc-484d-9a90-6ee8c4d0d75d",
   "metadata": {},
   "outputs": [
    {
     "name": "stdout",
     "output_type": "stream",
     "text": [
      "[1, 3, 5, 7, 9, 11, 13, 15, 17, 19, 21, 23]\n"
     ]
    }
   ],
   "source": [
    "def odd():\n",
    "    oddno=[]\n",
    "    for i in range(1,25):\n",
    "        if i%2!=0:\n",
    "            oddno.append(i)\n",
    "            \n",
    "    return oddno    \n",
    "\n",
    "num=odd()\n",
    "print(num)"
   ]
  },
  {
   "cell_type": "code",
   "execution_count": null,
   "id": "54fe3664-9f6c-45dc-87e8-a3ffeb26a285",
   "metadata": {},
   "outputs": [],
   "source": []
  },
  {
   "cell_type": "markdown",
   "id": "54d58c67-ef3f-45d2-b782-ce91672ee817",
   "metadata": {},
   "source": [
    "Ans Q.2"
   ]
  },
  {
   "cell_type": "markdown",
   "id": "b21948ca-7f78-47eb-9c6d-e97a96d48bd0",
   "metadata": {},
   "source": [
    "TO MAKE PARAMETERS DYNAMIC MEANS WHEN THE CODER DOENST KNOW ABOU THE NUMBER OF PARAMETERS TO BE ENTERED HERE * IS USED. WHEN * IS USED THE FUNCTION CAN HAVE MANY PARAMETERS.WE CAN USE ANY VARIABLE NAME WITH *.\n",
    "kwargs means keyword arguments."
   ]
  },
  {
   "cell_type": "code",
   "execution_count": 5,
   "id": "e127b8e1-f42b-4ae4-8885-eaa45b080ea0",
   "metadata": {},
   "outputs": [
    {
     "data": {
      "text/plain": [
       "(1, 2, 3, 4)"
      ]
     },
     "execution_count": 5,
     "metadata": {},
     "output_type": "execute_result"
    }
   ],
   "source": [
    "#demonstrating the use of *args.\n",
    "\n",
    "def dy(*args): \n",
    "    return args\n",
    "\n",
    "dy(1,2,3,4)"
   ]
  },
  {
   "cell_type": "code",
   "execution_count": 7,
   "id": "bd6a2eb3-b8fb-433f-a587-0db14275d6f2",
   "metadata": {},
   "outputs": [
    {
     "data": {
      "text/plain": [
       "{'a': [1, 45, 'abcd'], 'b': 'xyz', 'c': '123', 'd': 90.78}"
      ]
     },
     "execution_count": 7,
     "metadata": {},
     "output_type": "execute_result"
    }
   ],
   "source": [
    "# demonstrating the use of **kwargs.\n",
    "\n",
    "def ry(**kwargs): \n",
    "    return kwargs\n",
    "\n",
    "ry(a=[1,45,\"abcd\"], b=\"xyz\", c=\"123\", d=90.78)"
   ]
  },
  {
   "cell_type": "code",
   "execution_count": null,
   "id": "5bda2abd-3017-4239-b8a6-c87894f66440",
   "metadata": {},
   "outputs": [],
   "source": []
  },
  {
   "cell_type": "markdown",
   "id": "e1947f66-65b7-4496-9d99-462b42a010d3",
   "metadata": {},
   "source": [
    "Ans Q.3"
   ]
  },
  {
   "cell_type": "markdown",
   "id": "9564d397-c34a-4edf-8cd7-d7ef0a8efd16",
   "metadata": {},
   "source": [
    "The primary purpose of an iterator is to provide a common interface for iterating over different data structures.\n",
    "Iterators are used to access elements from containers such as lists, tuples, dictionaries, and sets sequentially. \n"
   ]
  },
  {
   "cell_type": "code",
   "execution_count": 8,
   "id": "d76a47f7-4a2a-4e3d-9850-425477a38214",
   "metadata": {},
   "outputs": [
    {
     "name": "stdout",
     "output_type": "stream",
     "text": [
      "2\n",
      "4\n",
      "6\n",
      "8\n",
      "10\n"
     ]
    }
   ],
   "source": [
    "l=[2, 4, 6, 8, 10, 12, 14, 16, 18, 20]\n",
    "iterator= iter(l)\n",
    "for i in range(5):\n",
    "    element=next(iterator)\n",
    "    print(element)"
   ]
  },
  {
   "cell_type": "code",
   "execution_count": null,
   "id": "362ea158-aefe-4092-b367-2fef04ab1a08",
   "metadata": {},
   "outputs": [],
   "source": []
  },
  {
   "cell_type": "markdown",
   "id": "0597fb2b-13bb-4ccd-abec-c58ce473adbf",
   "metadata": {},
   "source": [
    "Ans Q.4"
   ]
  },
  {
   "cell_type": "markdown",
   "id": "e88ffc1d-c9a5-43f8-9b3d-1f67143fdcb0",
   "metadata": {},
   "source": [
    "GENERATOR FUNCTION IS A FUNCTION WHERE THE DATA IS READ ONE BY ONE AND NOT STORED AS A LIST AS WHOLE.\n",
    "\n"
   ]
  },
  {
   "cell_type": "code",
   "execution_count": 9,
   "id": "6a3f815d-1e54-407a-b932-d0f1768c2011",
   "metadata": {},
   "outputs": [
    {
     "name": "stdout",
     "output_type": "stream",
     "text": [
      "0\n",
      "1\n",
      "1\n",
      "2\n",
      "3\n",
      "5\n",
      "8\n",
      "13\n",
      "21\n",
      "34\n"
     ]
    }
   ],
   "source": [
    "def fibonaci(n):\n",
    "    a,b=0,1\n",
    "    for i in range(n):\n",
    "        yield a   # yi.eld is keyword used in generator function\n",
    "        a,b=b,a+b  #yield throws the data just like return.\n",
    "            \n",
    "for i in fibonaci(10):\n",
    "    print(i)        "
   ]
  },
  {
   "cell_type": "markdown",
   "id": "787f2b10-ebc1-4e62-b431-611347905a46",
   "metadata": {},
   "source": [
    "Ans Q.5"
   ]
  },
  {
   "cell_type": "code",
   "execution_count": 11,
   "id": "567af93a-ec9d-4a2e-88ed-8d2c54f88ba9",
   "metadata": {},
   "outputs": [
    {
     "name": "stdout",
     "output_type": "stream",
     "text": [
      "2\n",
      "3\n",
      "5\n",
      "7\n",
      "11\n",
      "13\n",
      "17\n",
      "19\n",
      "23\n",
      "29\n",
      "31\n",
      "37\n",
      "41\n",
      "43\n",
      "47\n",
      "53\n",
      "59\n",
      "61\n",
      "67\n",
      "71\n"
     ]
    }
   ],
   "source": [
    "def primes():\n",
    "    pri=[True] *1000\n",
    "    pri[0]=pri[1]=False\n",
    "    \n",
    "    for num in range(2,int(1000**0.5)+1):\n",
    "        if pri[num]:\n",
    "            for multiple in range (num*num,1000,num):\n",
    "                pri[multiple]=False\n",
    "                \n",
    "    for num in range(1000):\n",
    "        if pri[num]:\n",
    "            yield num\n",
    "            \n",
    "prime=primes()  \n",
    "\n",
    "for i in range(20):\n",
    "    pri=next(prime)\n",
    "    print(pri)"
   ]
  },
  {
   "cell_type": "code",
   "execution_count": null,
   "id": "c7ec43f8-c1d7-4782-9ce7-15040dea0766",
   "metadata": {},
   "outputs": [],
   "source": []
  },
  {
   "cell_type": "markdown",
   "id": "47c1b191-dd31-4780-82c1-b5a4e706629f",
   "metadata": {},
   "source": [
    "Ans Q.6"
   ]
  },
  {
   "cell_type": "code",
   "execution_count": 12,
   "id": "53720bcc-3531-4105-b7cd-3c145b78a5a2",
   "metadata": {},
   "outputs": [
    {
     "name": "stdout",
     "output_type": "stream",
     "text": [
      "0\n",
      "1\n",
      "1\n",
      "2\n",
      "3\n",
      "5\n",
      "8\n",
      "13\n",
      "21\n",
      "34\n"
     ]
    }
   ],
   "source": [
    "#fibonnaci numbers using a prime number.\n",
    "def fibonaci1(n):\n",
    "    a,b=0,1\n",
    "    while True:\n",
    "        yield a   \n",
    "        a,b=b,a+b \n",
    "        \n",
    "fib= fibonaci1(10) \n",
    "for i in range (10):\n",
    "    print(next(fib))"
   ]
  },
  {
   "cell_type": "code",
   "execution_count": null,
   "id": "4eca2418-9671-45eb-9431-0973d2b1a7ab",
   "metadata": {},
   "outputs": [],
   "source": []
  },
  {
   "cell_type": "markdown",
   "id": "e18a08ed-cd19-45a5-bfff-6ed922faaabb",
   "metadata": {},
   "source": [
    "Ans Q.7"
   ]
  },
  {
   "cell_type": "markdown",
   "id": "85ead7fc-bc88-4517-ae53-18ea708a7c40",
   "metadata": {},
   "source": [
    "Ans Q.8"
   ]
  },
  {
   "cell_type": "code",
   "execution_count": null,
   "id": "0df40c20-4a15-4097-b034-c6322991288b",
   "metadata": {},
   "outputs": [],
   "source": []
  }
 ],
 "metadata": {
  "kernelspec": {
   "display_name": "Python 3 (ipykernel)",
   "language": "python",
   "name": "python3"
  },
  "language_info": {
   "codemirror_mode": {
    "name": "ipython",
    "version": 3
   },
   "file_extension": ".py",
   "mimetype": "text/x-python",
   "name": "python",
   "nbconvert_exporter": "python",
   "pygments_lexer": "ipython3",
   "version": "3.10.8"
  }
 },
 "nbformat": 4,
 "nbformat_minor": 5
}
