{
 "cells": [
  {
   "cell_type": "markdown",
   "id": "8c6b09bd-d934-43f2-bdad-0dac2deb3140",
   "metadata": {},
   "source": [
    "Q.1.Answer"
   ]
  },
  {
   "cell_type": "markdown",
   "id": "683b85f7-77b5-4a6d-8b3e-db7e1aff9277",
   "metadata": {},
   "source": [
    "The main difference between a t-test and a z-test lies in the circumstances and assumptions about the population that they are used for:\n",
    "\n",
    "Use a z-test when you have a large sample size (typically n > 30) and know the population standard deviation.\n",
    "Use a t-test when you have a small sample size (typically n < 30) or do not know the population standard deviation.\n",
    "Example scenarios:\n",
    "\n",
    "Z-test: You want to test if the average height of adult males in a city is significantly different from a known population mean height (e.g., 68 inches) and you have a sample of 50 adult males with known population standard deviation.\n",
    "T-test: You want to test if a new teaching method has a significant effect on student performance, and you randomly select 20 students to participate in the study, but you don't know the population standard deviation."
   ]
  },
  {
   "cell_type": "code",
   "execution_count": null,
   "id": "1fc8a1ef-25ed-4b1c-bad6-7651d91b5a89",
   "metadata": {},
   "outputs": [],
   "source": []
  },
  {
   "cell_type": "markdown",
   "id": "0ce93c9b-4177-4b8e-9d8c-3f5ec61ecca3",
   "metadata": {},
   "source": [
    "Q.2.Answer"
   ]
  },
  {
   "cell_type": "markdown",
   "id": "91d9a47f-8426-46f4-9722-e291ab9f6cc2",
   "metadata": {},
   "source": [
    "A one-tailed test is used when you are interested in whether a sample mean is significantly greater than or less than a hypothesized population mean in a specific direction (either higher or lower).\n",
    "\n",
    "A two-tailed test is used when you are interested in whether a sample mean is significantly different from a hypothesized population mean in any direction (either higher or lower).\n"
   ]
  },
  {
   "cell_type": "code",
   "execution_count": null,
   "id": "98986ea6-730c-4221-b6bb-79f1dc48c94d",
   "metadata": {},
   "outputs": [],
   "source": []
  },
  {
   "cell_type": "markdown",
   "id": "0e5ec0ba-5889-49cf-a00f-b6e1cb667a3e",
   "metadata": {},
   "source": [
    "Q.3.Answer"
   ]
  },
  {
   "cell_type": "markdown",
   "id": "393ae2c1-24d8-4c7c-a552-b86a96c90765",
   "metadata": {},
   "source": [
    "Type 1 error (False Positive): Rejecting a true null hypothesis. For example, incorrectly concluding that a new drug is effective when it is not.\n",
    "\n",
    "Type 2 error (False Negative): Failing to reject a false null hypothesis. For example, failing to conclude that a new drug is effective when it actually is.\n"
   ]
  },
  {
   "cell_type": "code",
   "execution_count": null,
   "id": "7f17cfaa-d2bd-47e0-a983-7f5957192acd",
   "metadata": {},
   "outputs": [],
   "source": []
  },
  {
   "cell_type": "markdown",
   "id": "70ad5b0a-a7c8-4c53-a141-fa45e164bd64",
   "metadata": {},
   "source": [
    "Q.4.Answer"
   ]
  },
  {
   "cell_type": "markdown",
   "id": "d409343a-2785-478a-bcb1-f8d69d4669dc",
   "metadata": {},
   "source": [
    "Bayes's Theorem is a mathematical formula that describes how to update the probability for a hypothesis as more evidence becomes available. It is particularly useful in conditional probability scenarios. The formula is:\n",
    "\n",
    "p(A|B)={[P(A).P(A|B)]/P(B)}\n",
    "\n",
    "Example: In medical testing, Bayes's Theorem can be used to calculate the probability of a person having a disease given a positive test result.\n"
   ]
  },
  {
   "cell_type": "markdown",
   "id": "86a22e3c-adb7-4ddf-8a36-07bc41be4ba5",
   "metadata": {},
   "source": []
  },
  {
   "cell_type": "markdown",
   "id": "ca55b022-8c25-4460-bb87-9ff8b640ba3d",
   "metadata": {},
   "source": [
    "Q.5.Answer"
   ]
  },
  {
   "cell_type": "markdown",
   "id": "231a9312-61f9-4f49-82dc-37d643b919f0",
   "metadata": {},
   "source": [
    " A confidence interval is a range of values that is likely to contain the true population parameter with a certain level of confidence. To calculate a confidence interval for a population mean, you typically use the formula:\n",
    "\n",
    "\n",
    "Confidence Interval=Sample Mean + - Margin of Error\n",
    "\n",
    "Example: You want to estimate the average height of students in a school with a 95% confidence interval. You take a sample of 100 students, calculate the sample mean height, and use the formula to find the interval within which the true population mean height is likely to fall."
   ]
  },
  {
   "cell_type": "code",
   "execution_count": null,
   "id": "0e9b98c6-3630-4279-8f76-dc2e2a7099c4",
   "metadata": {},
   "outputs": [],
   "source": []
  },
  {
   "cell_type": "markdown",
   "id": "28a9c085-e438-4f2b-890c-e7668eb0ef02",
   "metadata": {},
   "source": [
    "Q.6.Answer"
   ]
  },
  {
   "cell_type": "markdown",
   "id": "a5bf7d01-fcae-4b82-be58-2a91e6e0c24d",
   "metadata": {},
   "source": [
    "To use Bayes's Theorem, you need to know the prior probability of an event (P(A)), the likelihood of observing new evidence given that event (P(B|A)), and the overall likelihood of observing the evidence (P(B)). You can then calculate the posterior probability of the event given the new evidence (P(A|B)).\n",
    "\n",
    "Sample Problem: In a medical test, you want to find the probability that a patient has a certain disease (A) given a positive test result (B). You know the prior probability of having the disease (P(A)), the probability of a positive test result if the patient has the disease (P(B|A)), and the overall probability of a positive test result (P(B)). You can use Bayes's Theorem to calculate P(A|B), which is the updated probability of having the disease after the positive test result."
   ]
  },
  {
   "cell_type": "code",
   "execution_count": null,
   "id": "d6b1ca8f-3d81-492e-aa44-b5e536812ec0",
   "metadata": {},
   "outputs": [],
   "source": []
  },
  {
   "cell_type": "markdown",
   "id": "2d6c0b1f-70e2-4851-b15e-2d93c2db54b8",
   "metadata": {},
   "source": [
    "Q.7.Answer"
   ]
  },
  {
   "cell_type": "markdown",
   "id": "cc4b957e-f53d-4191-978d-b8aa5c9dd084",
   "metadata": {},
   "source": [
    "To calculate the 95% confidence interval for a sample with a mean of 50 and a standard deviation of 5, you would typically use the formula:\n",
    "\n",
    "Confidence Interval=Sample Mean +- {Critical Value * (Standard deviation / root of Sample size)}\n",
    "\n",
    "You would find the critical value for a 95% confidence interval (typically 1.96 for large samples), plug in the values, and calculate the interval. Interpretation: \"We are 95% confident that the true population mean falls within this interval.\"\n",
    "\n",
    "\n",
    "\n"
   ]
  },
  {
   "cell_type": "code",
   "execution_count": null,
   "id": "c154809d-007e-4e9b-a620-fbd7f98aa147",
   "metadata": {},
   "outputs": [],
   "source": []
  },
  {
   "cell_type": "markdown",
   "id": "ed64c021-bfdd-476f-b916-140ea32e6d92",
   "metadata": {},
   "source": [
    "Q.8.Answer"
   ]
  },
  {
   "cell_type": "markdown",
   "id": "29c8cf00-be4c-451b-9aaa-ed4eada79b0a",
   "metadata": {},
   "source": [
    " The margin of error in a confidence interval represents the range of values around the sample mean that is likely to contain the true population mean with a certain level of confidence. It is affected by the sample size and the desired level of confidence. A larger sample size generally results in a smaller margin of error, as it provides more precise estimates of the population parameter.\n",
    "\n",
    "Example: If you want to estimate the average salary of a profession with a 95% confidence interval and have two sample sizes (100 and 500), the margin of error for the larger sample (500) would be smaller compared to the smaller sample (100), indicating a more precise estimate.\n",
    "\n"
   ]
  },
  {
   "cell_type": "code",
   "execution_count": null,
   "id": "3726da67-ecf3-401c-8737-d2df4b47c14d",
   "metadata": {},
   "outputs": [],
   "source": []
  },
  {
   "cell_type": "markdown",
   "id": "8c28b64c-b172-496f-a8a9-c4b36f283605",
   "metadata": {},
   "source": [
    "Q.9.Answer"
   ]
  },
  {
   "cell_type": "markdown",
   "id": "569c764a-c777-4b5f-929f-ad73e8a78f90",
   "metadata": {},
   "source": [
    "The z-score measures how many standard deviations a data point is from the mean. To calculate the z-score for a data point with a value of 75, a population mean of 70, and a population standard deviation of 5, you would use the formula:\n",
    "\n",
    "Z= (x- mean)/ Standard deviation\n",
    "\n",
    "Plugging in the values:\n",
    "\n",
    "z= 75-70/ 5 = 1\n",
    "\n",
    "Interpretation: The data point with a value of 75 is 1 standard deviation above the mean in a normal distribution."
   ]
  },
  {
   "cell_type": "code",
   "execution_count": null,
   "id": "58dd7049-b1c4-47ca-b2c7-6a81813e3e2a",
   "metadata": {},
   "outputs": [],
   "source": []
  },
  {
   "cell_type": "markdown",
   "id": "1e295355-dadb-4e61-ab44-b235ff43b283",
   "metadata": {},
   "source": [
    "Q.10.Answer"
   ]
  },
  {
   "cell_type": "markdown",
   "id": "e6c6d7d7-779b-4d3b-b3d0-4923f812d1aa",
   "metadata": {},
   "source": [
    "To conduct a hypothesis test to determine if the new weight loss drug is significantly effective at a 95% confidence level, you can use a t-test. Here's how you would perform the test:\n",
    "\n",
    "Null Hypothesis (H0): The new drug has no significant effect on weight loss (mean=mean =0).\n",
    "Alternative Hypothesis (H1): The new drug has a significant effect on weight loss (mean is not equal to mean)\n",
    "\n",
    "You would calculate the t-statistic using the formula:\n",
    "\n",
    "t= {(sample mean - population mean)/ Standard error}\n",
    "\n",
    "\n"
   ]
  },
  {
   "cell_type": "code",
   "execution_count": null,
   "id": "2038d0cf-c19f-468c-83b0-7f1b016e8c29",
   "metadata": {},
   "outputs": [],
   "source": []
  },
  {
   "cell_type": "markdown",
   "id": "96f91094-c881-46be-b4f5-dac417fbc73f",
   "metadata": {},
   "source": [
    "Q.11.Answer"
   ]
  },
  {
   "cell_type": "markdown",
   "id": "0d391277-622c-419f-9713-68a728fbc0e3",
   "metadata": {},
   "source": [
    "To calculate the 95% confidence interval for the true proportion of people who are satisfied with their job, you can use the formula for the confidence interval of a proportion:\n",
    "\n",
    "\n"
   ]
  },
  {
   "cell_type": "code",
   "execution_count": null,
   "id": "5bfe8169-8b79-4a7e-9485-ed829949743b",
   "metadata": {},
   "outputs": [],
   "source": []
  },
  {
   "cell_type": "markdown",
   "id": "2d1f2af5-5032-4270-94a4-a4d5176559bb",
   "metadata": {},
   "source": [
    "Q.12.Answer"
   ]
  },
  {
   "cell_type": "markdown",
   "id": "ed9bb404-1d50-40ac-b0db-65ac98c820dd",
   "metadata": {},
   "source": [
    "To conduct a hypothesis test to determine if there is a significant difference in student performance between the two teaching methods, you can use a two-sample t-test. Here's how:\n",
    "\n",
    "Null Hypothesis (H0): There is no significant difference in student performance between the two teaching methods (mean1= mean2).\n",
    "Alternative Hypothesis (H1): There is a significant difference in student performance between the two teaching methods (mean1 is not equal to mean2).\n",
    "You would calculate the t-statistic using the formula for a two-sample t-test and compare it to the critical t-value for a 0.01 significance level to determine if there is a significant difference."
   ]
  },
  {
   "cell_type": "code",
   "execution_count": null,
   "id": "0a569647-04f7-4feb-9b7d-3c922f3690be",
   "metadata": {},
   "outputs": [],
   "source": []
  },
  {
   "cell_type": "markdown",
   "id": "88992aeb-d159-48b8-be53-bb1a6f380798",
   "metadata": {},
   "source": [
    "Q.13.Answer"
   ]
  },
  {
   "cell_type": "markdown",
   "id": "76e8252f-313f-4a73-a303-259f88164237",
   "metadata": {},
   "source": [
    "To calculate the 90% confidence interval for the true population mean, you can use the formula for a confidence interval of a population mean:\n",
    "\n",
    "Sample Mean = 65\n",
    "Population Mean (usually denoted as \\muμ) is not given, so it remains a parameter.\n",
    "Population Standard Deviation (\\sigmaσ) = 8\n",
    "Sample Size (nn) = 50\n",
    "ZZ is the critical z-value for a 90% confidence interval (you can find it in standard z-tables).\n",
    "You can calculate the lower and upper bounds of the confidence interval using these values."
   ]
  },
  {
   "cell_type": "code",
   "execution_count": null,
   "id": "b0eb34cc-5214-4771-86aa-d5543cfea63a",
   "metadata": {},
   "outputs": [],
   "source": []
  },
  {
   "cell_type": "markdown",
   "id": "deedaa18-51da-4205-8593-6a94c399aa8b",
   "metadata": {},
   "source": [
    "Q.14.Answer"
   ]
  },
  {
   "cell_type": "markdown",
   "id": "751c410e-e83a-4f9f-8c05-4bf2fb755cf1",
   "metadata": {},
   "source": [
    " To conduct a hypothesis test to determine if caffeine has a significant effect on reaction time at a 90% confidence level, you can use a t-test. Here's how:\n",
    "\n",
    "Null Hypothesis (H0): Caffeine has no significant effect on reaction time \n",
    "Alternative Hypothesis (H1): Caffeine has a significant effect on reaction time \n",
    "You would calculate the t-statistic using the formula for a t-test and compare it to the critical t-value for a 0.10 significance level (since it's a two-tailed test) to determine if caffeine has a significant effect on reaction time."
   ]
  },
  {
   "cell_type": "code",
   "execution_count": null,
   "id": "bab4c3a7-320f-4418-8dbc-2be390b803e8",
   "metadata": {},
   "outputs": [],
   "source": []
  },
  {
   "cell_type": "raw",
   "id": "f9413af5-0120-4aa4-9f27-f2fa878b5752",
   "metadata": {},
   "source": []
  }
 ],
 "metadata": {
  "kernelspec": {
   "display_name": "Python 3 (ipykernel)",
   "language": "python",
   "name": "python3"
  },
  "language_info": {
   "codemirror_mode": {
    "name": "ipython",
    "version": 3
   },
   "file_extension": ".py",
   "mimetype": "text/x-python",
   "name": "python",
   "nbconvert_exporter": "python",
   "pygments_lexer": "ipython3",
   "version": "3.10.8"
  }
 },
 "nbformat": 4,
 "nbformat_minor": 5
}
