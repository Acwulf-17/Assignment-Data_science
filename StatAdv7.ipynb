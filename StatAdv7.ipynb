{
 "cells": [
  {
   "cell_type": "markdown",
   "id": "6969ee96-4a85-436b-99c2-6da61a5902b9",
   "metadata": {},
   "source": [
    "Q.1.Answer"
   ]
  },
  {
   "cell_type": "code",
   "execution_count": 1,
   "id": "4ad2cc4a-554a-441d-837e-ab6e3e56a89c",
   "metadata": {},
   "outputs": [],
   "source": [
    "import scipy.stats as stats\n",
    "\n",
    "def variance_ratio_test(data1, data2):\n",
    "    f_value = np.var(data1, ddof=1) / np.var(data2, ddof=1)\n",
    "    df1 = len(data1) - 1\n",
    "    df2 = len(data2) - 1\n",
    "    p_value = 1 - stats.f.cdf(f_value, df1, df2)\n",
    "    return f_value, p_value\n"
   ]
  },
  {
   "cell_type": "code",
   "execution_count": null,
   "id": "d5c6b18c-e10d-46f2-8bf1-e359b1281a6a",
   "metadata": {},
   "outputs": [],
   "source": []
  },
  {
   "cell_type": "markdown",
   "id": "122978cd-824a-4813-a27b-9114d4d5cd7e",
   "metadata": {},
   "source": [
    "Q.2.Answer"
   ]
  },
  {
   "cell_type": "code",
   "execution_count": 2,
   "id": "c5f71938-79a2-4283-b1f9-b1fa7be777a5",
   "metadata": {},
   "outputs": [],
   "source": [
    "def critical_f_value(alpha, df1, df2):\n",
    "    return stats.f.ppf(1 - alpha / 2, df1, df2)\n"
   ]
  },
  {
   "cell_type": "code",
   "execution_count": null,
   "id": "9c559ab9-8541-4245-afc5-a6bc1ec20b2f",
   "metadata": {},
   "outputs": [],
   "source": []
  },
  {
   "cell_type": "markdown",
   "id": "5ad879b7-15c8-48c4-bad0-94b9cd8b1631",
   "metadata": {},
   "source": [
    "Q.3.Answer"
   ]
  },
  {
   "cell_type": "code",
   "execution_count": 3,
   "id": "7dbeb3e9-683f-40e0-9634-31496623b57c",
   "metadata": {},
   "outputs": [],
   "source": [
    "import numpy as np\n",
    "import scipy.stats as stats\n",
    "\n",
    "def variance_equality_test(data1, data2):\n",
    "    f_value = np.var(data1, ddof=1) / np.var(data2, ddof=1)\n",
    "    df1 = len(data1) - 1\n",
    "    df2 = len(data2) - 1\n",
    "    p_value = 2 * min(stats.f.cdf(f_value, df1, df2), 1 - stats.f.cdf(f_value, df1, df2))\n",
    "    return f_value, df1, df2, p_value\n"
   ]
  },
  {
   "cell_type": "code",
   "execution_count": null,
   "id": "2f27b112-df87-4318-93ba-4ba9780dffee",
   "metadata": {},
   "outputs": [],
   "source": []
  },
  {
   "cell_type": "markdown",
   "id": "e81d0515-0ebf-4877-8d97-260af24610f0",
   "metadata": {},
   "source": [
    "Q.4.ANswer"
   ]
  },
  {
   "cell_type": "code",
   "execution_count": 4,
   "id": "76a08559-b271-4125-867c-02d2574a0f83",
   "metadata": {},
   "outputs": [
    {
     "name": "stdout",
     "output_type": "stream",
     "text": [
      "Fail to reject the null hypothesis. Variances are not significantly different.\n"
     ]
    }
   ],
   "source": [
    "data1 = [12.3, 13.2, 11.8, 13.5, 14.1, 12.7, 13.9, 12.6, 11.7, 12.8, 14.3, 12.4]\n",
    "data2 = [15.8, 16.5, 14.9, 15.4, 16.2, 15.0, 16.1, 15.7, 16.3, 15.6, 15.2, 16.0]\n",
    "\n",
    "f_value, df1, df2, p_value = variance_equality_test(data1, data2)\n",
    "\n",
    "alpha = 0.05\n",
    "critical_f = critical_f_value(alpha, df1, df2)\n",
    "\n",
    "if f_value > critical_f:\n",
    "    print(\"Reject the null hypothesis. Variances are significantly different.\")\n",
    "else:\n",
    "    print(\"Fail to reject the null hypothesis. Variances are not significantly different.\")\n"
   ]
  },
  {
   "cell_type": "code",
   "execution_count": null,
   "id": "c7da969a-5461-4d61-9321-3fbf92d99d53",
   "metadata": {},
   "outputs": [],
   "source": []
  },
  {
   "cell_type": "markdown",
   "id": "e3b142fe-f05b-4172-a653-8556e8accacf",
   "metadata": {},
   "source": [
    "Q.5.Answer\n"
   ]
  },
  {
   "cell_type": "code",
   "execution_count": 5,
   "id": "d34de266-987c-433a-8e58-38fc7166238b",
   "metadata": {},
   "outputs": [
    {
     "name": "stdout",
     "output_type": "stream",
     "text": [
      "Fail to reject the manufacturer's claim. Variances are not significantly different.\n"
     ]
    }
   ],
   "source": [
    "sample_variance = 0.006\n",
    "population_variance = 0.005\n",
    "n = 25\n",
    "\n",
    "f_value = sample_variance / population_variance\n",
    "df1 = n - 1\n",
    "df2 = 0\n",
    "alpha = 0.01\n",
    "\n",
    "critical_f = critical_f_value(alpha, df1, df2)\n",
    "\n",
    "if f_value > critical_f:\n",
    "    print(\"Reject the manufacturer's claim. Variances are significantly different.\")\n",
    "else:\n",
    "    print(\"Fail to reject the manufacturer's claim. Variances are not significantly different.\")\n"
   ]
  },
  {
   "cell_type": "code",
   "execution_count": null,
   "id": "d523a15a-f0bf-4ba2-bf2e-97b98e368e66",
   "metadata": {},
   "outputs": [],
   "source": []
  },
  {
   "cell_type": "code",
   "execution_count": null,
   "id": "9b76ae7b-37f5-4fcd-b095-43db886b77d8",
   "metadata": {},
   "outputs": [],
   "source": [
    "Q.6.Answer"
   ]
  }
 ],
 "metadata": {
  "kernelspec": {
   "display_name": "Python 3 (ipykernel)",
   "language": "python",
   "name": "python3"
  },
  "language_info": {
   "codemirror_mode": {
    "name": "ipython",
    "version": 3
   },
   "file_extension": ".py",
   "mimetype": "text/x-python",
   "name": "python",
   "nbconvert_exporter": "python",
   "pygments_lexer": "ipython3",
   "version": "3.10.8"
  }
 },
 "nbformat": 4,
 "nbformat_minor": 5
}
