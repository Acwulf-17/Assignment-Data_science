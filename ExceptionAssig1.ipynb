{
 "cells": [
  {
   "cell_type": "markdown",
   "id": "bd1b4381-5fba-479d-b8f7-e418dd4c65c7",
   "metadata": {},
   "source": [
    "Q.1 Answer"
   ]
  },
  {
   "cell_type": "markdown",
   "id": "971fd152-8132-4496-8552-feffc149f6ab",
   "metadata": {},
   "source": [
    "An exception in Python is an event that occurs during the execution of a program and disrupts the normal flow of the program. \n",
    "\n",
    "Types of Exceptions:\n",
    "\n",
    "Python provides a wide range of built-in exception types to handle different types of errors. Common exceptions include TypeError, ValueError, IndexError, FileNotFoundError, and ZeroDivisionError, among others.\n",
    "You can also define custom exceptions by creating your own exception classes.\n",
    "\n",
    "Exception handling in Python is done using try, except, else, and finally blocks.\n",
    "Code that might raise an exception is placed inside the try block, and you can specify one or more except blocks to catch and handle specific exceptions.\n",
    "The else block is executed if no exceptions occur in the try block.\n",
    "The finally block is used for code that must be executed regardless of whether an exception was raised or not.\n",
    "\n",
    "\n",
    "Differences Between Exceptions and Syntax Errors:\n",
    "\n",
    "Exceptions and syntax errors are both types of errors in Python, but they occur at different stages of program execution:\n",
    "Exceptions occur during the runtime (when the program is executing) and are typically caused by unexpected situations or invalid data.\n",
    "Syntax errors occur during the parsing of the code (when the program is being compiled) and are caused by violations of Python's syntax rules. Syntax errors prevent the program from running at all."
   ]
  },
  {
   "cell_type": "code",
   "execution_count": null,
   "id": "4304f2fd-4701-4f83-9da4-59ac57ab3eb3",
   "metadata": {},
   "outputs": [],
   "source": []
  },
  {
   "cell_type": "markdown",
   "id": "57e63a6c-6e6c-4819-93ae-417e49674cb0",
   "metadata": {},
   "source": [
    "Q.2 Answer"
   ]
  },
  {
   "cell_type": "markdown",
   "id": "96f2d9ca-b343-4243-bfe4-b3612fe7f79b",
   "metadata": {},
   "source": [
    "When an exception is not handled in a Python program, it propagates up the call stack, looking for an appropriate exception handler. If no suitable exception handler is found anywhere in the program, the program terminates, and an error message with information about the unhandled exception is displayed. This can result in an abrupt and uncontrolled termination of the program."
   ]
  },
  {
   "cell_type": "code",
   "execution_count": 1,
   "id": "363b3648-b940-41c7-8025-2fb3b0a2893f",
   "metadata": {},
   "outputs": [
    {
     "name": "stdout",
     "output_type": "stream",
     "text": [
      "Exception: division by zero\n"
     ]
    },
    {
     "ename": "ZeroDivisionError",
     "evalue": "division by zero",
     "output_type": "error",
     "traceback": [
      "\u001b[0;31m---------------------------------------------------------------------------\u001b[0m",
      "\u001b[0;31mZeroDivisionError\u001b[0m                         Traceback (most recent call last)",
      "Cell \u001b[0;32mIn[1], line 12\u001b[0m\n\u001b[1;32m      9\u001b[0m     \u001b[38;5;28mprint\u001b[39m(\u001b[38;5;124mf\u001b[39m\u001b[38;5;124m\"\u001b[39m\u001b[38;5;124mException: \u001b[39m\u001b[38;5;132;01m{\u001b[39;00me\u001b[38;5;132;01m}\u001b[39;00m\u001b[38;5;124m\"\u001b[39m)\n\u001b[1;32m     11\u001b[0m \u001b[38;5;66;03m# The following code is outside the 'try' block and does not handle the exception\u001b[39;00m\n\u001b[0;32m---> 12\u001b[0m result \u001b[38;5;241m=\u001b[39m \u001b[43mdivide\u001b[49m\u001b[43m(\u001b[49m\u001b[38;5;241;43m20\u001b[39;49m\u001b[43m,\u001b[49m\u001b[43m \u001b[49m\u001b[38;5;241;43m0\u001b[39;49m\u001b[43m)\u001b[49m  \u001b[38;5;66;03m# Attempting to divide by zero again\u001b[39;00m\n\u001b[1;32m     14\u001b[0m \u001b[38;5;28mprint\u001b[39m(\u001b[38;5;124m\"\u001b[39m\u001b[38;5;124mThis line will not be reached because of the unhandled exception.\u001b[39m\u001b[38;5;124m\"\u001b[39m)\n",
      "Cell \u001b[0;32mIn[1], line 4\u001b[0m, in \u001b[0;36mdivide\u001b[0;34m(a, b)\u001b[0m\n\u001b[1;32m      3\u001b[0m \u001b[38;5;28;01mdef\u001b[39;00m \u001b[38;5;21mdivide\u001b[39m(a, b):\n\u001b[0;32m----> 4\u001b[0m     \u001b[38;5;28;01mreturn\u001b[39;00m \u001b[43ma\u001b[49m\u001b[43m \u001b[49m\u001b[38;5;241;43m/\u001b[39;49m\u001b[43m \u001b[49m\u001b[43mb\u001b[49m\n",
      "\u001b[0;31mZeroDivisionError\u001b[0m: division by zero"
     ]
    }
   ],
   "source": [
    "# Eg of exception handling.\n",
    "\n",
    "def divide(a, b):\n",
    "    return a / b\n",
    "\n",
    "try:\n",
    "    result = divide(10, 0)  # Attempting to divide by zero\n",
    "except ZeroDivisionError as e:\n",
    "    print(f\"Exception: {e}\")\n",
    "\n",
    "# The following code is outside the 'try' block and does not handle the exception\n",
    "result = divide(20, 0)  # Attempting to divide by zero again\n",
    "\n",
    "print(\"This line will not be reached because of the unhandled exception.\")\n"
   ]
  },
  {
   "cell_type": "code",
   "execution_count": null,
   "id": "340534e8-f9eb-428d-a902-4e7d9d52b0f2",
   "metadata": {},
   "outputs": [],
   "source": []
  },
  {
   "cell_type": "markdown",
   "id": "1fcc6775-b467-4f23-b943-6f10fd5442e3",
   "metadata": {},
   "source": [
    "Q.3 Answer"
   ]
  },
  {
   "cell_type": "markdown",
   "id": "a70a6221-f677-4e45-ad6e-03ae455a8ff5",
   "metadata": {},
   "source": [
    "In Python, two main statements are used to catch and handle exceptions: try and except.\n",
    "\n",
    "The try statement is used to enclose a block of code where you anticipate that an exception may occur.\n",
    "You place the code that might raise an exception inside the try block.\n",
    "If an exception occurs within the try block, the control flow is transferred to the corresponding except block.\n",
    "\n",
    "\n",
    "The except statement is used to define a block of code that will handle exceptions raised in the associated try block.\n",
    "You can have multiple except blocks to handle different types of exceptions.\n",
    "Each except block specifies the type of exception it can handle, and if an exception of that type occurs, the code in the corresponding except block is executed."
   ]
  },
  {
   "cell_type": "code",
   "execution_count": 2,
   "id": "049bb62b-a4a1-41b7-b067-194eb724e532",
   "metadata": {},
   "outputs": [
    {
     "name": "stdout",
     "output_type": "stream",
     "text": [
      "Division by zero is not allowed.\n",
      "Invalid data type.\n",
      "Result 1: 5.0\n",
      "Result 2 is None.\n",
      "Result 3 is None.\n"
     ]
    }
   ],
   "source": [
    "# Example\n",
    "\n",
    "def divide(a, b):\n",
    "    try:\n",
    "        result = a / b  # Code that may raise an exception\n",
    "        return result\n",
    "    except ZeroDivisionError:\n",
    "        print(\"Division by zero is not allowed.\")\n",
    "        return None\n",
    "    except TypeError:\n",
    "        print(\"Invalid data type.\")\n",
    "        return None\n",
    "\n",
    "# Test the divide function with potential exceptions\n",
    "result1 = divide(10, 2)      # No exception occurs\n",
    "result2 = divide(10, 0)      # ZeroDivisionError occurs\n",
    "result3 = divide(10, \"2\")    # TypeError occurs\n",
    "\n",
    "# Check and handle the results\n",
    "if result1 is not None:\n",
    "    print(f\"Result 1: {result1}\")\n",
    "else:\n",
    "    print(\"Result 1 is None.\")\n",
    "\n",
    "if result2 is not None:\n",
    "    print(f\"Result 2: {result2}\")\n",
    "else:\n",
    "    print(\"Result 2 is None.\")\n",
    "\n",
    "if result3 is not None:\n",
    "    print(f\"Result 3: {result3}\")\n",
    "else:\n",
    "    print(\"Result 3 is None.\")\n"
   ]
  },
  {
   "cell_type": "code",
   "execution_count": null,
   "id": "63e89740-d8dc-4069-ab4a-b5a0a69599f0",
   "metadata": {},
   "outputs": [],
   "source": []
  },
  {
   "cell_type": "markdown",
   "id": "c48d9ce3-4f61-49be-975a-9b8ef4c5f375",
   "metadata": {},
   "source": [
    "Q.4 Answer"
   ]
  },
  {
   "cell_type": "markdown",
   "id": "413201b5-7c23-4fb8-be85-00871e42b0f2",
   "metadata": {},
   "source": [
    "try: The try block contains the code that you anticipate might raise an exception.\n",
    "\n",
    "except: The except block defines how to handle specific exceptions that may occur within the try block. You can have multiple except blocks to handle different types of exceptions.\n",
    "\n",
    "else: The else block is executed when no exceptions occur in the try block. It provides a way to specify code that should run only when the try block completes without exceptions.\n",
    "\n",
    "finally: The finally block is used to define code that must be executed, regardless of whether an exception was raised or not. It is typically used for cleanup operations."
   ]
  },
  {
   "cell_type": "code",
   "execution_count": 3,
   "id": "0e036058-5f2f-4a82-bea2-83bacab79444",
   "metadata": {},
   "outputs": [
    {
     "name": "stdout",
     "output_type": "stream",
     "text": [
      "No exception occurred.\n",
      "Cleanup code always runs.\n",
      "Division by zero is not allowed.\n",
      "Cleanup code always runs.\n",
      "Result 1: 5.0\n"
     ]
    }
   ],
   "source": [
    "#example \n",
    "\n",
    "\n",
    "def divide(a, b):\n",
    "    try:\n",
    "        result = a / b  # Code that may raise an exception\n",
    "    except ZeroDivisionError:\n",
    "        print(\"Division by zero is not allowed.\")\n",
    "        return None\n",
    "    else:\n",
    "        print(\"No exception occurred.\")  # This line will only execute if no exception occurred\n",
    "        return result\n",
    "    finally:\n",
    "        print(\"Cleanup code always runs.\")  # This line always executes, regardless of exceptions\n",
    "\n",
    "# Test the divide function with potential exceptions\n",
    "result1 = divide(10, 2)      # No exception occurs\n",
    "result2 = divide(10, 0)      # ZeroDivisionError occurs\n",
    "\n",
    "# Check and handle the results\n",
    "if result1 is not None:\n",
    "    print(f\"Result 1: {result1}\")\n",
    "\n",
    "if result2 is not None:\n",
    "    print(f\"Result 2: {result2}\")\n",
    "\n",
    "\n",
    "\n"
   ]
  },
  {
   "cell_type": "code",
   "execution_count": null,
   "id": "8cd921aa-8810-4cd3-b77e-21a5040d128d",
   "metadata": {},
   "outputs": [],
   "source": []
  },
  {
   "cell_type": "markdown",
   "id": "dfb3a586-3cd3-4a48-b610-22af413b484b",
   "metadata": {},
   "source": [
    "Q.5 Answer"
   ]
  },
  {
   "cell_type": "markdown",
   "id": "cbb5b234-934b-405f-8873-5f0e560d51af",
   "metadata": {},
   "source": [
    "Custom exceptions, also known as user-defined exceptions, are exceptions that you create in Python to address specific error conditions or exceptional situations that are not adequately covered by built-in exceptions. \n",
    "\n",
    "\n",
    "\n",
    "Here are some reasons why you might need custom exceptions:\n",
    "\n",
    "1.Hierarchical Exception Handling\n",
    "2.Custom Error Messages\n",
    "3.Custom Behavior"
   ]
  },
  {
   "cell_type": "code",
   "execution_count": null,
   "id": "341e56c9-2394-47e6-8fa6-f458f7841930",
   "metadata": {},
   "outputs": [],
   "source": []
  },
  {
   "cell_type": "markdown",
   "id": "e8a154e8-3dab-4948-be8a-680ee389fef2",
   "metadata": {},
   "source": [
    "Q.5. Answer"
   ]
  }
 ],
 "metadata": {
  "kernelspec": {
   "display_name": "Python 3 (ipykernel)",
   "language": "python",
   "name": "python3"
  },
  "language_info": {
   "codemirror_mode": {
    "name": "ipython",
    "version": 3
   },
   "file_extension": ".py",
   "mimetype": "text/x-python",
   "name": "python",
   "nbconvert_exporter": "python",
   "pygments_lexer": "ipython3",
   "version": "3.10.8"
  }
 },
 "nbformat": 4,
 "nbformat_minor": 5
}
