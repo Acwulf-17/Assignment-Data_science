{
 "cells": [
  {
   "cell_type": "markdown",
   "id": "60a4dd83-5121-41dc-a913-3d9abc0c170f",
   "metadata": {},
   "source": [
    "Q.1.Answer"
   ]
  },
  {
   "cell_type": "markdown",
   "id": "4219f78b-3e84-4777-9f10-9c4787abe8f6",
   "metadata": {},
   "source": [
    "An API (Application Programming Interface) is a set of rules and protocols that allows different software applications to communicate with each other. It defines the methods and data formats that applications can use to request and exchange information or perform specific tasks. APIs serve as intermediaries that enable the integration of different software systems, allowing them to work together seamlessly.\n",
    "\n",
    "\n",
    "Example of an API used in real life is:\n",
    "\n",
    "Weather Forecast API\n",
    "\n"
   ]
  },
  {
   "cell_type": "code",
   "execution_count": null,
   "id": "fe3f1a94-2bd2-46e3-8125-88dd0589c5e9",
   "metadata": {},
   "outputs": [],
   "source": []
  },
  {
   "cell_type": "markdown",
   "id": "fc0c1224-497c-4786-b133-fd70dc647dfc",
   "metadata": {},
   "source": [
    "Q.2. Answer"
   ]
  },
  {
   "cell_type": "markdown",
   "id": "0b6b32a0-57b4-46d4-a7ea-114c6c8d1c58",
   "metadata": {},
   "source": [
    "Advantages of API Are: \n",
    "1. Interoperatability\n",
    "2. Resuablility\n",
    "3. Faster Development\n",
    "4. Scalability\n",
    "5. Security\n",
    "6. Innovation\n",
    "\n",
    "Disadvantages of API Are:\n",
    "1. Dependency\n",
    "2. limited control\n",
    "3. Cost are usually higher\n",
    "4. Documentattion and support"
   ]
  },
  {
   "cell_type": "code",
   "execution_count": null,
   "id": "207129a0-c9d3-4566-8485-d838e568483c",
   "metadata": {},
   "outputs": [],
   "source": []
  },
  {
   "cell_type": "markdown",
   "id": "75933c63-f23b-4bb0-b908-2bf05830879c",
   "metadata": {},
   "source": [
    "Q.3.Answer"
   ]
  },
  {
   "cell_type": "markdown",
   "id": "c7543878-5903-4836-a2fd-88ad5737e494",
   "metadata": {},
   "source": [
    "API (Application Programming Interface) and Web API are related concepts, but they have different scopes and purposes:\n",
    "\n",
    "API, in a general sense, refers to a set of rules, protocols, and tools that allows different software components or systems to communicate and interact with each other.\n",
    "\n",
    "A Web API specifically refers to an API that is designed to be accessed over the internet using HTTP (Hypertext Transfer Protocol). It allows remote clients, such as web browsers or mobile applications, to interact with a service or server hosted on the web.\n",
    "\n",
    "APIs can be used for various purposes, including interacting with a hardware device, accessing a database, or connecting different parts of a software application.\n",
    "\n",
    "Web APIs are used for enabling communication between different web services or applications. They are commonly used to access data, services, or functionality provided by web servers.\n"
   ]
  },
  {
   "cell_type": "code",
   "execution_count": null,
   "id": "de4d980c-0b4c-4a11-8df0-7d794c5ddbf5",
   "metadata": {},
   "outputs": [],
   "source": []
  },
  {
   "cell_type": "markdown",
   "id": "300e3366-b8cb-4e4e-b531-35f792bcd923",
   "metadata": {},
   "source": [
    "Q.4.Answer"
   ]
  },
  {
   "cell_type": "markdown",
   "id": "da1582be-87c3-4849-abba-d77dd9236848",
   "metadata": {},
   "source": [
    "REST (Representational State Transfer) and SOAP (Simple Object Access Protocol) are two different architectural styles for designing web services. They have distinct characteristics and are often used in different contexts. \n",
    "\n",
    "Architectural Style: REST is an architectural style that emphasizes the use of HTTP methods and the principles of simplicity and scalability. It is not a protocol but a set of constraints.\n",
    "\n",
    "Stateless: REST is stateless, meaning each HTTP request from a client to a server must contain all the information needed to understand and process the request. This allows for easy scalability and load balancing.\n",
    "\n",
    "Resources: In REST, resources are represented by URLs (Uniform Resource Locators). Resources can be anything that can be identified and manipulated, such as data objects, services, or even files.\n",
    "\n",
    "HTTP Methods: REST uses standard HTTP methods such as GET (retrieve data), POST (create data), PUT (update data), and DELETE (remove data) to perform operations on resources.\n",
    "\n",
    "Representation: Data is typically exchanged in the form of JSON or XML representations. RESTful APIs are often referred to as \"RESTful web services.\"\n",
    "\n",
    "\n",
    "SOAP (Simple Object Access Protocol):\n",
    "\n",
    "Protocol: SOAP is a protocol for exchanging structured information in the implementation of web services. It relies on XML for message formatting and can use various transport protocols, including HTTP, SMTP, and more.\n",
    "\n",
    "Complexity: SOAP messages can be more complex and verbose compared to RESTful representations, as they are often XML-based and require specific headers and envelopes.\n",
    "\n",
    "Standards: SOAP is designed with a focus on standards and is often used in enterprise environments where strict security and transactional support are required.\n",
    "\n",
    "Function-Centric: SOAP is more function-centric, where the focus is on invoking remote procedures or methods on a service.\n",
    "\n",
    "Interoperability: SOAP promotes high levels of interoperability between different platforms and languages, thanks to its standardized approach.\n",
    "\n",
    "Shortcomings of SOAP:\n",
    "\n",
    "Complexity: SOAP messages are typically larger and more complex due to XML formatting and the required headers. This can lead to increased bandwidth and processing overhead.\n",
    "\n",
    "Performance: SOAP is often considered less efficient in terms of performance compared to REST, mainly due to its XML-based messaging and additional parsing required.\n",
    "\n",
    "Limited Browser Support: SOAP is not as browser-friendly as REST. While RESTful services can be easily accessed via web browsers and URLs, SOAP services require specialized clients or tools.\n",
    "\n",
    "Tightly Coupled: SOAP services tend to be tightly coupled, which means changes to the service can impact clients. This can make evolving a SOAP-based API more challenging.\n",
    "\n",
    "Less Human-Readable: SOAP messages, being XML-based, are less human-readable than JSON, which is commonly used in RESTful APIs."
   ]
  },
  {
   "cell_type": "code",
   "execution_count": null,
   "id": "ec71b28f-e7b0-4dc4-8a94-f359ed7c1416",
   "metadata": {},
   "outputs": [],
   "source": []
  }
 ],
 "metadata": {
  "kernelspec": {
   "display_name": "Python 3 (ipykernel)",
   "language": "python",
   "name": "python3"
  },
  "language_info": {
   "codemirror_mode": {
    "name": "ipython",
    "version": 3
   },
   "file_extension": ".py",
   "mimetype": "text/x-python",
   "name": "python",
   "nbconvert_exporter": "python",
   "pygments_lexer": "ipython3",
   "version": "3.10.8"
  }
 },
 "nbformat": 4,
 "nbformat_minor": 5
}
