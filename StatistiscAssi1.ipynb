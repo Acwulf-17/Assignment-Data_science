{
 "cells": [
  {
   "cell_type": "markdown",
   "id": "0b2caa81-0cc8-43e2-9df1-9c044cb452f1",
   "metadata": {},
   "source": [
    "Q.1.Answer"
   ]
  },
  {
   "cell_type": "markdown",
   "id": "ea6d4726-d3ba-440f-8257-7e16761be30b",
   "metadata": {},
   "source": [
    "Statistics is a branch of mathematics and a scientific discipline that involves collecting, analyzing, interpreting, presenting, and organizing data. \n",
    "In essence, statistics is the science of dealing with uncertainty and variation in data, and it plays a crucial role in various fields."
   ]
  },
  {
   "cell_type": "code",
   "execution_count": null,
   "id": "9adffca2-d970-4285-a37d-172c2d5ef7cd",
   "metadata": {},
   "outputs": [],
   "source": []
  },
  {
   "cell_type": "markdown",
   "id": "d5e02c3a-7295-42f8-8448-f23a94e790ee",
   "metadata": {},
   "source": [
    "Q.2.Answer"
   ]
  },
  {
   "cell_type": "markdown",
   "id": "f8934035-0299-4f66-8ef9-6f3caadf7a4c",
   "metadata": {},
   "source": [
    "Statistics can be broadly categorized into two main types:\n",
    "\n",
    "Descriptive Statistics:\n",
    "\n",
    "Descriptive statistics involve methods for summarizing, organizing, and presenting data. It aims to provide a clear and concise overview of the data's main characteristics.\n",
    "Examples of descriptive statistics include measures such as mean (average), median (middle value), mode (most frequent value), standard deviation (measure of data dispersion), and various graphical representations like histograms and box plots.\n",
    "\n",
    "Inferential Statistics:\n",
    "\n",
    "Inferential statistics involve making predictions, generalizations, or inferences about a population based on a sample of data. It deals with drawing conclusions and making decisions when faced with uncertainty.\n",
    "Examples of inferential statistics include hypothesis testing (to test if a statement about a population is true), regression analysis (to predict relationships between variables), and confidence intervals (to estimate population parameters)."
   ]
  },
  {
   "cell_type": "code",
   "execution_count": null,
   "id": "9f5aacc8-4e7f-42c5-96c4-e32b60fb355f",
   "metadata": {},
   "outputs": [],
   "source": []
  },
  {
   "cell_type": "markdown",
   "id": "bcb46223-b79a-461c-b2f1-97833ad68fee",
   "metadata": {},
   "source": [
    "Q.3.Answer"
   ]
  },
  {
   "cell_type": "markdown",
   "id": "e6875d10-ff47-42c7-b40e-e48e1d3e2477",
   "metadata": {},
   "source": [
    "Data can be classified into several types, and the choice of data type influences the statistical methods that can be applied. The main types of data are:\n",
    "\n",
    "Nominal Data:\n",
    "\n",
    "Nominal data, also known as categorical data, represent categories or labels with no inherent order or ranking. These categories are typically non-numeric.\n",
    "Example: Colors (red, blue, green), gender (male, female), types of fruits (apple, banana, orange).\n",
    "Ordinal Data:\n",
    "\n",
    "Ordinal data represent categories with a meaningful order or ranking, but the intervals between them are not consistent or measurable.\n",
    "Example: Education levels (elementary, high school, bachelor's, master's, Ph.D.), customer satisfaction ratings (poor, fair, good, excellent).\n",
    "Interval Data:\n",
    "\n",
    "Interval data represent values with a consistent and measurable interval between them, but they lack a true zero point.\n",
    "Example: Temperature measured in degrees Celsius or Fahrenheit (0°C doesn't represent the absence of temperature).\n",
    "Ratio Data:\n",
    "\n",
    "Ratio data have a consistent interval between values and include a true zero point, which indicates the absence of the measured quantity.\n",
    "Example: Height in centimeters (0 cm represents the absence of height), income in dollars, age in years.\n"
   ]
  },
  {
   "cell_type": "code",
   "execution_count": null,
   "id": "2bddf32d-3949-4cfc-927f-af272725d930",
   "metadata": {},
   "outputs": [],
   "source": []
  },
  {
   "cell_type": "markdown",
   "id": "490fd063-58e4-400d-8521-7335923196c2",
   "metadata": {},
   "source": [
    "Q.4.Answer"
   ]
  },
  {
   "cell_type": "markdown",
   "id": "99af95c6-dae1-401d-b67a-9f0527c6880f",
   "metadata": {},
   "source": [
    "(i) Grading in exam: Qualitative Data\n",
    "\n",
    "(ii) Colour of mangoes: Qualitative Data\n",
    "\n",
    "(iii) Height data of a class: Quantitative Data\n",
    "\n",
    "(iv) Number of mangoes exported by a farm: Quantitative Data\n",
    "\n",
    "\n"
   ]
  },
  {
   "cell_type": "code",
   "execution_count": null,
   "id": "4f8da884-332a-4c78-83df-12b1f24d4a94",
   "metadata": {},
   "outputs": [],
   "source": []
  },
  {
   "cell_type": "markdown",
   "id": "a5bee083-485b-4419-be69-4e001c458c64",
   "metadata": {},
   "source": [
    "Q.5.Answer"
   ]
  },
  {
   "cell_type": "markdown",
   "id": "6c74281f-3ceb-44f1-9662-77d45e32b1fe",
   "metadata": {},
   "source": [
    "Levels of measurement, also known as scales of measurement, are a way of categorizing data based on the nature of the values assigned to variables. There are four main levels of measurement:\n",
    "\n",
    "Nominal Level (Categorical): At this level, data are categorized into distinct groups or classes with no inherent order or ranking. The values are labels or names. Examples include gender (male, female), types of fruits (apple, banana, orange), and car models (Toyota, Honda, Ford).\n",
    "\n",
    "Ordinal Level (Ordinal): Data at this level have categories with a meaningful order or ranking, but the intervals between values are not consistent or measurable. Examples include education levels (elementary, high school, bachelor's, master's, Ph.D.), customer satisfaction ratings (poor, fair, good, excellent), and movie ratings (1 star, 2 stars, 3 stars, 4 stars, 5 stars).\n",
    "\n",
    "Interval Level (Quantitative): Interval data have a consistent interval between values, but they lack a true zero point. Examples include temperature measured in degrees Celsius or Fahrenheit, IQ scores, and years (e.g., 2000, 2010, 2020).\n",
    "\n",
    "Ratio Level (Quantitative): Ratio data have a consistent interval between values and include a true zero point, which represents the absence of the measured quantity. Examples include height in centimeters, weight in kilograms, income in dollars, and number of items sold."
   ]
  },
  {
   "cell_type": "code",
   "execution_count": null,
   "id": "2d38936c-0dd0-4d83-abdb-f83e3ea7c51c",
   "metadata": {},
   "outputs": [],
   "source": []
  },
  {
   "cell_type": "markdown",
   "id": "e514e51a-7174-4536-8d4b-55c000f034ad",
   "metadata": {},
   "source": [
    "Q.6.Answer"
   ]
  },
  {
   "cell_type": "markdown",
   "id": "11d5f8c0-d3b5-4074-92f7-e5a309e791e2",
   "metadata": {},
   "source": [
    "Understanding the level of measurement is essential because it determines the types of statistical analyses and operations that can be performed on the data. Using inappropriate statistical methods for a given level of measurement can lead to misleading or incorrect conclusions.\n",
    "\n",
    "For example, if you have data on the educational attainment of individuals with levels such as \"elementary,\" \"high school,\" \"bachelor's,\" and \"Ph.D.\" (ordinal data), you can determine the order of educational levels but cannot calculate meaningful averages or perform mathematical operations on them. Attempting to calculate the mean educational level would not make sense."
   ]
  },
  {
   "cell_type": "code",
   "execution_count": null,
   "id": "09da162e-c480-43bc-bf94-06f7b46cf242",
   "metadata": {},
   "outputs": [],
   "source": []
  },
  {
   "cell_type": "markdown",
   "id": "8684851f-0b02-474f-a76a-876eda97a705",
   "metadata": {},
   "source": [
    "Q.7.Answer"
   ]
  },
  {
   "cell_type": "markdown",
   "id": "f5308aaa-35b4-4f7f-b67b-1b78b9194f21",
   "metadata": {},
   "source": [
    "Nominal Data:\n",
    "\n",
    "Nominal data are categorical and represent categories or labels with no inherent order or ranking.\n",
    "Categories are mutually exclusive.\n",
    "Examples: Colors (red, blue, green), gender (male, female), types of fruits (apple, banana, orange).\n",
    "No meaningful numerical operations can be performed on nominal data.\n",
    "Ordinal Data:\n",
    "\n",
    "Ordinal data are categorical and represent categories with a meaningful order or ranking.\n",
    "Categories have a relative order, but the intervals between them are not consistent or measurable.\n",
    "Examples: Education levels (elementary, high school, bachelor's, master's, Ph.D.), customer satisfaction ratings (poor, fair, good, excellent).\n",
    "Relative rankings can be determined, but arithmetic operations (e.g., averaging) are not meaningful.\n"
   ]
  },
  {
   "cell_type": "code",
   "execution_count": null,
   "id": "485cfdfc-54b5-48d4-aaba-41c81c7645a9",
   "metadata": {},
   "outputs": [],
   "source": []
  },
  {
   "cell_type": "markdown",
   "id": "58e708ed-0f30-4198-b955-d09d3a56bfed",
   "metadata": {},
   "source": [
    "Q.8.Answer"
   ]
  },
  {
   "cell_type": "markdown",
   "id": "f5ae1634-26dc-4da8-8ae9-3ba29b189029",
   "metadata": {},
   "source": [
    "A box plot (box-and-whisker plot) is commonly used to display data in terms of range. It provides a visual representation of the minimum, maximum, quartiles, and potential outliers in a dataset. Box plots are particularly useful for visualizing the spread and distribution of quantitative data.\n",
    "\n"
   ]
  },
  {
   "cell_type": "code",
   "execution_count": null,
   "id": "ed07014b-6a99-4418-bea0-d226e26aed67",
   "metadata": {},
   "outputs": [],
   "source": []
  },
  {
   "cell_type": "markdown",
   "id": "734a437e-6eec-4cfe-a02a-73cac8aed1dd",
   "metadata": {},
   "source": [
    "Q.9.Answer"
   ]
  },
  {
   "cell_type": "markdown",
   "id": "c7a8b01b-32d1-4383-88a7-ccec1a4ce626",
   "metadata": {},
   "source": [
    "Descriptive Statistics: Descriptive statistics involve methods for summarizing, organizing, and presenting data to provide insights into the main characteristics of a dataset. Descriptive statistics do not make inferences about a larger population but focus on describing the sample data.\n",
    "\n",
    "Example: Calculating the mean, median, and standard deviation of test scores for a class of students to understand the central tendency and spread of scores.\n",
    "\n",
    "Inferential Statistics: Inferential statistics involve making predictions, generalizations, or inferences about a population based on a sample of data. It aims to draw conclusions and make decisions when faced with uncertainty.\n",
    "\n",
    "Example: Conducting a hypothesis test to determine if a new teaching method improves student performance. The results are used to make inferences about the entire student population."
   ]
  },
  {
   "cell_type": "code",
   "execution_count": null,
   "id": "275f5bed-fb89-44aa-b00d-f4c0cdde858d",
   "metadata": {},
   "outputs": [],
   "source": []
  },
  {
   "cell_type": "markdown",
   "id": "64d85aa5-7545-4a1f-9da1-3f64d34835f1",
   "metadata": {},
   "source": [
    "Q.10.Answer"
   ]
  },
  {
   "cell_type": "markdown",
   "id": "6ebd3b1f-b551-4c94-9e99-75e89a6884c4",
   "metadata": {},
   "source": [
    "Measures of Central Tendency: These measures describe the center or average of a dataset.\n",
    "\n",
    "Mean: The arithmetic average of a set of values. It provides a measure of the dataset's central location.\n",
    "Median: The middle value of a dataset when values are sorted. It is less affected by outliers than the mean.\n",
    "Mode: The most frequently occurring value in a dataset. It identifies the value with the highest frequency.\n",
    "Measures of Variability (Dispersion): These measures describe the spread or variability of data points.\n",
    "\n",
    "Range: The difference between the maximum and minimum values in a dataset. It indicates the data's extent.\n",
    "Variance: A measure of how data points deviate from the mean. It quantifies the overall spread of data.\n",
    "Standard Deviation: The square root of the variance. It measures the average deviation from the mean."
   ]
  },
  {
   "cell_type": "code",
   "execution_count": null,
   "id": "a75f8694-5b49-484f-8584-16bd422b4be5",
   "metadata": {},
   "outputs": [],
   "source": []
  }
 ],
 "metadata": {
  "kernelspec": {
   "display_name": "Python 3 (ipykernel)",
   "language": "python",
   "name": "python3"
  },
  "language_info": {
   "codemirror_mode": {
    "name": "ipython",
    "version": 3
   },
   "file_extension": ".py",
   "mimetype": "text/x-python",
   "name": "python",
   "nbconvert_exporter": "python",
   "pygments_lexer": "ipython3",
   "version": "3.10.8"
  }
 },
 "nbformat": 4,
 "nbformat_minor": 5
}
