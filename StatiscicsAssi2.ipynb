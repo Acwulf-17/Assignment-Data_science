{
 "cells": [
  {
   "cell_type": "markdown",
   "id": "8acbb37f-648d-47c3-8ad5-e7d1dbf65d7a",
   "metadata": {},
   "source": [
    "Q.1.Answer"
   ]
  },
  {
   "cell_type": "markdown",
   "id": "92619107-486a-497a-97f7-3901a38df400",
   "metadata": {},
   "source": [
    "The three measures of central tendency are:\n",
    "\n",
    "Mean: The arithmetic average of a dataset, calculated by summing all values and dividing by the number of values.\n",
    "\n",
    "Median: The middle value of a dataset when values are arranged in ascending or descending order.\n",
    "\n",
    "Mode: The value that appears most frequently in a dataset.\n"
   ]
  },
  {
   "cell_type": "markdown",
   "id": "748988f8-6a35-4219-83fe-e73172c74907",
   "metadata": {},
   "source": [
    "Q.2.Answer"
   ]
  },
  {
   "cell_type": "markdown",
   "id": "f7715064-026b-4877-be2a-21648d8a1527",
   "metadata": {},
   "source": [
    "Mean: The mean is the arithmetic average of a dataset and is calculated by summing all values and dividing by the number of values. It is sensitive to extreme values (outliers) and provides a measure of the dataset's central location.\n",
    "\n",
    "Median: The median is the middle value of a dataset when values are sorted. It is less affected by outliers compared to the mean and is useful for datasets with skewed distributions.\n",
    "\n",
    "Mode: The mode is the value that appears most frequently in a dataset. It is relevant for identifying the most common value or category in a dataset, especially in categorical data."
   ]
  },
  {
   "cell_type": "code",
   "execution_count": null,
   "id": "2bfd5986-f39c-4463-b776-71714b9bf37a",
   "metadata": {},
   "outputs": [],
   "source": []
  },
  {
   "cell_type": "markdown",
   "id": "9c5aefbf-992c-48a2-9f41-399cd4788063",
   "metadata": {},
   "source": [
    "Q.3.Answer"
   ]
  },
  {
   "cell_type": "markdown",
   "id": "4460eabf-0804-4bab-8513-5ee6a6e21f9f",
   "metadata": {},
   "source": [
    "Mean: 177.9625\n",
    "\n",
    "Median: 177.5\n",
    "\n",
    "Mode: 177 (appears twice)\n"
   ]
  },
  {
   "cell_type": "code",
   "execution_count": null,
   "id": "1c8f27a2-b0b3-496a-b4ba-8a9629054810",
   "metadata": {},
   "outputs": [],
   "source": []
  },
  {
   "cell_type": "markdown",
   "id": "2eac5c56-987f-4f81-a41a-2ccc5353a656",
   "metadata": {},
   "source": [
    "Q.4. Answer"
   ]
  },
  {
   "cell_type": "markdown",
   "id": "635bcff0-05bc-4ce7-98a3-4b9544da44cd",
   "metadata": {},
   "source": [
    "The standard deviation is approximately 1.6086."
   ]
  },
  {
   "cell_type": "code",
   "execution_count": null,
   "id": "93d19db8-a3d7-4b32-b8dc-cb53c37253e8",
   "metadata": {},
   "outputs": [],
   "source": []
  },
  {
   "cell_type": "markdown",
   "id": "6a5c3298-0022-4e17-8a07-96ff8f59496e",
   "metadata": {},
   "source": [
    "Q.5.Answer"
   ]
  },
  {
   "cell_type": "markdown",
   "id": "4d1b5afd-c081-40fe-8425-ba0832722edc",
   "metadata": {},
   "source": [
    "Range: It indicates the difference between the maximum and minimum values in a dataset, providing an overall sense of the data's spread.\n",
    "\n",
    "Variance: It quantifies how data points deviate from the mean. A higher variance indicates greater dispersion.\n",
    "\n",
    "Standard Deviation: It is the square root of the variance and provides a measure of the average deviation from the mean.\n",
    "\n",
    "Example: Consider two datasets of exam scores:\n",
    "\n",
    "Dataset A: [90, 95, 88, 92, 87] (Low variance, low standard deviation)\n",
    "\n",
    "Dataset B: [60, 100, 50, 110, 40] (High variance, high standard deviation)\n",
    "\n",
    "Dataset B has a greater spread and dispersion compared to Dataset A."
   ]
  },
  {
   "cell_type": "code",
   "execution_count": null,
   "id": "239b86c9-f5ff-4160-bcbe-353053fbb837",
   "metadata": {},
   "outputs": [],
   "source": []
  },
  {
   "cell_type": "markdown",
   "id": "2c1efa68-90b7-4876-8d84-016260591295",
   "metadata": {},
   "source": [
    "Q.6.Answer"
   ]
  },
  {
   "cell_type": "markdown",
   "id": "f9778cfd-eafe-4c3d-80d5-082b3e350c19",
   "metadata": {},
   "source": [
    "A Venn diagram is a graphical representation used to show the relationships between sets or groups of data. It consists of overlapping circles, each representing a set, and the intersections between circles represent common elements or characteristics shared by the sets. Venn diagrams are commonly used in mathematics and data analysis to illustrate set theory, logical relationships, and comparisons between groups."
   ]
  },
  {
   "cell_type": "code",
   "execution_count": null,
   "id": "027de69b-4c36-4bf0-beca-d2143f81bec3",
   "metadata": {},
   "outputs": [],
   "source": []
  },
  {
   "cell_type": "markdown",
   "id": "7674ffe8-2762-4b0d-abc3-210d0d79b161",
   "metadata": {},
   "source": [
    "Q.7.Answer"
   ]
  },
  {
   "cell_type": "markdown",
   "id": "1b450231-9b93-40c6-8267-1313d5ab6e67",
   "metadata": {},
   "source": [
    "(i) A ∩ B (Intersection of sets A and B)\n",
    "(ii) A ⋃ B (Union of sets A and B)\n",
    "\n",
    "(i) A ∩ B (Intersection): {2, 6}\n",
    "(ii) A ⋃ B (Union): {0, 2, 3, 4, 5, 6, 7, 8, 10}\n",
    "\n"
   ]
  },
  {
   "cell_type": "code",
   "execution_count": null,
   "id": "c846ca5e-4060-4de8-9b71-35bb03c73120",
   "metadata": {},
   "outputs": [],
   "source": []
  },
  {
   "cell_type": "markdown",
   "id": "c22ab677-d875-49a0-bed8-ba07a8b6b9d7",
   "metadata": {},
   "source": [
    "Q.8.Answer"
   ]
  },
  {
   "cell_type": "markdown",
   "id": "30feee8f-8b28-473a-a156-c67801846d73",
   "metadata": {},
   "source": [
    "Skewness in data refers to the asymmetry or lack of symmetry in the distribution of values. It indicates whether the data distribution is skewed to the left (negatively skewed), skewed to the right (positively skewed), or approximately symmetric.\n",
    "\n",
    "Negatively Skewed (Left-skewed): The tail of the distribution extends to the left, and the majority of data points are on the right. Mean < Median.\n",
    "\n",
    "Positively Skewed (Right-skewed): The tail of the distribution extends to the right, and the majority of data points are on the left. Mean > Median.\n",
    "\n",
    "Symmetric: The distribution is roughly symmetrical, and the mean and median are approximately equal.\n"
   ]
  },
  {
   "cell_type": "code",
   "execution_count": null,
   "id": "026564e0-de96-464e-9354-a13a2f5c23f7",
   "metadata": {},
   "outputs": [],
   "source": []
  },
  {
   "cell_type": "markdown",
   "id": "f5b01751-ad5b-403a-aa8e-946493a96fed",
   "metadata": {},
   "source": [
    "Q.9.Answer"
   ]
  },
  {
   "cell_type": "markdown",
   "id": "378bd3af-e871-4f6e-97de-764d30c8d539",
   "metadata": {},
   "source": [
    "If a data distribution is right-skewed (positively skewed), the median will be positioned to the left of the mean. In a right-skewed distribution, the tail of the distribution extends to the right, pulling the mean in that direction, resulting in the mean being greater than the median.\n",
    "\n"
   ]
  },
  {
   "cell_type": "code",
   "execution_count": null,
   "id": "b00cb99e-e204-4757-a473-550c206d4550",
   "metadata": {},
   "outputs": [],
   "source": []
  },
  {
   "cell_type": "markdown",
   "id": "8315eb97-9ba3-43b8-9184-2a3c549748c0",
   "metadata": {},
   "source": [
    "Q.10.Answer"
   ]
  },
  {
   "cell_type": "markdown",
   "id": "c3fe7037-e574-4482-8202-dd576a630fed",
   "metadata": {},
   "source": [
    "Covariance: Covariance measures the degree to which two variables change together. It indicates the direction of the linear relationship between two variables. A positive covariance suggests that as one variable increases, the other tends to increase, and vice versa for negative covariance. However, covariance does not provide a standardized measure, making it difficult to interpret the strength of the relationship.\n",
    "\n",
    "\n",
    "\n",
    "Correlation: Correlation is a standardized measure that quantifies the strength and direction of the linear relationship between two variables. It ranges from -1 (perfect negative correlation) to 1 (perfect positive correlation), with 0 indicating no linear correlation. Correlation provides a clear understanding of how closely two variables are related and is easier to interpret than covariance.\n",
    "\n",
    "\n",
    " \n",
    "\n"
   ]
  },
  {
   "cell_type": "code",
   "execution_count": null,
   "id": "a5294b6f-4ce1-4620-a6d3-5029d84b4212",
   "metadata": {},
   "outputs": [],
   "source": []
  },
  {
   "cell_type": "markdown",
   "id": "59db845c-0021-4c7b-b2b5-28f474deea2c",
   "metadata": {},
   "source": [
    "Q.11.answer"
   ]
  },
  {
   "cell_type": "code",
   "execution_count": null,
   "id": "c63e9842-c336-4534-9611-c0d8872e7ee0",
   "metadata": {},
   "outputs": [],
   "source": []
  },
  {
   "cell_type": "code",
   "execution_count": null,
   "id": "116ed353-c4bd-4d67-9e92-ccf78610d770",
   "metadata": {},
   "outputs": [],
   "source": []
  },
  {
   "cell_type": "markdown",
   "id": "587bd063-5fc5-4be9-b146-d303e22951f6",
   "metadata": {},
   "source": [
    "Q.12.Answer"
   ]
  },
  {
   "cell_type": "code",
   "execution_count": null,
   "id": "6a3b5f86-4a16-46d3-b3f1-9db3514dd8d2",
   "metadata": {},
   "outputs": [],
   "source": []
  },
  {
   "cell_type": "code",
   "execution_count": null,
   "id": "643b7f4d-149d-4d8b-8f1c-e0297d9f313e",
   "metadata": {},
   "outputs": [],
   "source": []
  },
  {
   "cell_type": "markdown",
   "id": "41396cd6-7f6a-483a-a36f-f2a97e7b5d84",
   "metadata": {},
   "source": [
    "Q.13.Answer"
   ]
  },
  {
   "cell_type": "code",
   "execution_count": null,
   "id": "307a8a9a-b864-4bd5-843e-3c6fccf5be8d",
   "metadata": {},
   "outputs": [],
   "source": []
  },
  {
   "cell_type": "code",
   "execution_count": null,
   "id": "49e5f0ba-da77-473a-b7fb-149edd0dc779",
   "metadata": {},
   "outputs": [],
   "source": []
  },
  {
   "cell_type": "markdown",
   "id": "f5b06b08-eb36-40e1-9339-5747bc943bd7",
   "metadata": {},
   "source": [
    "Q.14.Answer"
   ]
  },
  {
   "cell_type": "code",
   "execution_count": null,
   "id": "b7e07805-80d5-4832-8908-0a38b6071d5f",
   "metadata": {},
   "outputs": [],
   "source": []
  },
  {
   "cell_type": "code",
   "execution_count": null,
   "id": "59c9e807-ad98-4d10-880a-6f16dcb06534",
   "metadata": {},
   "outputs": [],
   "source": []
  }
 ],
 "metadata": {
  "kernelspec": {
   "display_name": "Python 3 (ipykernel)",
   "language": "python",
   "name": "python3"
  },
  "language_info": {
   "codemirror_mode": {
    "name": "ipython",
    "version": 3
   },
   "file_extension": ".py",
   "mimetype": "text/x-python",
   "name": "python",
   "nbconvert_exporter": "python",
   "pygments_lexer": "ipython3",
   "version": "3.10.8"
  }
 },
 "nbformat": 4,
 "nbformat_minor": 5
}
