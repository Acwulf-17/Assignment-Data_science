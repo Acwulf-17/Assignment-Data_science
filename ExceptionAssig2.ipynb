{
 "cells": [
  {
   "cell_type": "markdown",
   "id": "d021fffe-bf08-42bf-b560-2939cba643f6",
   "metadata": {},
   "source": [
    "Q.1. Answer"
   ]
  },
  {
   "cell_type": "markdown",
   "id": "7eb4a55e-6e9c-44ec-81eb-5b6e19b35058",
   "metadata": {},
   "source": [
    "When creating a custom exception in Python, it is advisable to inherit from the Exception class or one of its subclasses because the Exception class serves as the base class for all exceptions in Python. Using the Exception class as the base class for your custom exceptions provides several benefits:\n",
    "\n",
    "\n",
    "1. Interchangability\n",
    "2. Consistency\n",
    "3. Flexibility"
   ]
  },
  {
   "cell_type": "code",
   "execution_count": null,
   "id": "cefba6b7-a18e-4286-b731-a2d9e66717a3",
   "metadata": {},
   "outputs": [],
   "source": []
  },
  {
   "cell_type": "markdown",
   "id": "31965b52-14e1-4190-a245-50ec9d7b72fe",
   "metadata": {},
   "source": [
    "Q.2 Answer"
   ]
  },
  {
   "cell_type": "code",
   "execution_count": 2,
   "id": "3374830e-fc08-4bb3-b5c1-6a0f72c778ad",
   "metadata": {},
   "outputs": [
    {
     "name": "stdout",
     "output_type": "stream",
     "text": [
      "Python Exception Hierarchy:\n",
      "Exception: Exception\n"
     ]
    }
   ],
   "source": [
    "import traceback\n",
    "\n",
    "def print_exception_hierarchy(exception_class):\n",
    "    try:\n",
    "        raise exception_class(\"Sample exception\")\n",
    "    except Exception as e:\n",
    "        print(f\"Exception: {e.__class__.__name__}\")\n",
    "        if hasattr(e, '__context__') and e.__context__ is not None:\n",
    "            print_exception_hierarchy(e.__context__)\n",
    "\n",
    "# Start from the base Exception class to print the entire hierarchy\n",
    "print(\"Python Exception Hierarchy:\")\n",
    "print_exception_hierarchy(Exception)\n"
   ]
  },
  {
   "cell_type": "code",
   "execution_count": null,
   "id": "f43b91c3-1ec8-4c37-b1ce-a458ab1b7da7",
   "metadata": {},
   "outputs": [],
   "source": []
  },
  {
   "cell_type": "markdown",
   "id": "068ac702-54bc-4b0d-bffe-f6b1bb5d8e44",
   "metadata": {},
   "source": [
    "Q.3 Answer"
   ]
  },
  {
   "cell_type": "markdown",
   "id": "ded1dc27-127f-4c5f-8d2e-35e5cda26bda",
   "metadata": {},
   "source": [
    "The ArithmeticError class in Python is a base class for exceptions related to arithmetic operations. It serves as the parent class for several specific arithmetic-related exception classes. Two commonly used exceptions that inherit from ArithmeticError are ZeroDivisionError and OverflowError. \n",
    "\n",
    "\n",
    "1. ZeroDivisionError:\n",
    "\n",
    "This exception is raised when you attempt to divide a number by zero.\n",
    "It occurs when performing division operations, such as / or //, where the denominator (the number you're dividing by) is zero.\n",
    "\n",
    "2. OverflowError:\n",
    "\n",
    "This exception is raised when an arithmetic operation exceeds the limits of the data type used to store the result."
   ]
  },
  {
   "cell_type": "code",
   "execution_count": 3,
   "id": "b8cca08d-ba9a-41c6-bf52-ed5ab90168c8",
   "metadata": {},
   "outputs": [
    {
     "name": "stdout",
     "output_type": "stream",
     "text": [
      "Error: division by zero\n"
     ]
    }
   ],
   "source": [
    "# example of ZeroDivisionError\n",
    "\n",
    "try:\n",
    "    result = 10 / 0  # Attempt to divide by zero\n",
    "except ZeroDivisionError as e:\n",
    "    print(f\"Error: {e}\")\n"
   ]
  },
  {
   "cell_type": "code",
   "execution_count": 6,
   "id": "82bbbdcf-f476-46fc-bc73-1cd71fb98ddd",
   "metadata": {},
   "outputs": [],
   "source": [
    "# Example of OverflowError\n",
    "\n",
    "try:\n",
    "    result = 2 ** 10000  # Attempt to calculate a large power\n",
    "except OverflowError as e:\n",
    "    print(f\"Error: {e}\")\n"
   ]
  },
  {
   "cell_type": "code",
   "execution_count": null,
   "id": "b4f5521c-3f8c-4af5-b4fe-ccd5755a1245",
   "metadata": {},
   "outputs": [],
   "source": []
  },
  {
   "cell_type": "markdown",
   "id": "c7cf845e-084b-40cb-af82-91a54af026af",
   "metadata": {},
   "source": [
    "Q.4.Answer"
   ]
  },
  {
   "cell_type": "markdown",
   "id": "0f562998-70ff-47fe-82d6-2ceedb6e6402",
   "metadata": {},
   "source": [
    "The LookupError class in Python serves as the base class for exceptions related to lookup or indexing operations. It's a superclass for exceptions like KeyError and IndexError, which are used to handle specific cases where lookup or indexing operations encounter issues. Let's explain KeyError and IndexError with examples:"
   ]
  },
  {
   "cell_type": "code",
   "execution_count": 7,
   "id": "58b7fcd6-edae-43a6-84bb-a91717cc4014",
   "metadata": {},
   "outputs": [
    {
     "name": "stdout",
     "output_type": "stream",
     "text": [
      "Error: 'grape'\n"
     ]
    }
   ],
   "source": [
    "# KeyError\n",
    "\n",
    "my_dict = {'apple': 3, 'banana': 2, 'cherry': 1}\n",
    "\n",
    "try:\n",
    "    value = my_dict['grape']  # Attempt to access a non-existent key\n",
    "except KeyError as e:\n",
    "    print(f\"Error: {e}\")\n"
   ]
  },
  {
   "cell_type": "code",
   "execution_count": 9,
   "id": "cde43932-292a-46a8-99f6-fe5b2bbd9471",
   "metadata": {},
   "outputs": [
    {
     "name": "stdout",
     "output_type": "stream",
     "text": [
      "Error: list index out of range\n"
     ]
    }
   ],
   "source": [
    "# IndexError\n",
    "\n",
    "my_list = [1, 2, 3, 4, 5]\n",
    "\n",
    "try:\n",
    "    value = my_list[10]  # Attempt to access an out-of-range index\n",
    "except IndexError as e:\n",
    "    print(f\"Error: {e}\")\n"
   ]
  },
  {
   "cell_type": "code",
   "execution_count": null,
   "id": "1e64ffbe-0c74-44a3-8f73-6288e1f68b94",
   "metadata": {},
   "outputs": [],
   "source": []
  },
  {
   "cell_type": "markdown",
   "id": "6e84cf65-d49d-4de7-8fd0-a1b51bf3f052",
   "metadata": {},
   "source": [
    "Q.5 .Answer"
   ]
  },
  {
   "cell_type": "markdown",
   "id": "9e8805c2-8fd3-485e-a725-2f497b945ee9",
   "metadata": {},
   "source": [
    "ImportError is a general exception that is raised when an import statement fails for any reason.\n",
    "It can occur if the module being imported is not found, if there are issues with the module's content, or if there are circular imports.\n",
    "\n",
    "ModuleNotFoundError is a more specific exception that is raised when Python cannot locate the module specified in an import statement."
   ]
  },
  {
   "cell_type": "code",
   "execution_count": 11,
   "id": "523050d9-ace9-4261-89e7-997ff93fa6ed",
   "metadata": {},
   "outputs": [
    {
     "name": "stdout",
     "output_type": "stream",
     "text": [
      "Error: No module named 'non_existent_module'\n"
     ]
    }
   ],
   "source": [
    "# ImportError\n",
    "\n",
    "try:\n",
    "    import non_existent_module  \n",
    "except ImportError as e:\n",
    "    print(f\"Error: {e}\")\n"
   ]
  },
  {
   "cell_type": "code",
   "execution_count": 12,
   "id": "48d4a721-9518-4524-8e34-859128e99723",
   "metadata": {},
   "outputs": [
    {
     "name": "stdout",
     "output_type": "stream",
     "text": [
      "Error: No module named 'non_existent_module'\n"
     ]
    }
   ],
   "source": [
    "#ModuleNotFound\n",
    "\n",
    "try:\n",
    "    import non_existent_module \n",
    "except ModuleNotFoundError as e:\n",
    "    print(f\"Error: {e}\")\n"
   ]
  },
  {
   "cell_type": "markdown",
   "id": "988e8ec5-b5df-45e8-850a-05dd873b65d8",
   "metadata": {},
   "source": [
    "\n",
    "Q.6.Answer"
   ]
  },
  {
   "cell_type": "code",
   "execution_count": null,
   "id": "3b8712ce-2de8-424b-8e6a-f65e5af0da3a",
   "metadata": {},
   "outputs": [],
   "source": []
  }
 ],
 "metadata": {
  "kernelspec": {
   "display_name": "Python 3 (ipykernel)",
   "language": "python",
   "name": "python3"
  },
  "language_info": {
   "codemirror_mode": {
    "name": "ipython",
    "version": 3
   },
   "file_extension": ".py",
   "mimetype": "text/x-python",
   "name": "python",
   "nbconvert_exporter": "python",
   "pygments_lexer": "ipython3",
   "version": "3.10.8"
  }
 },
 "nbformat": 4,
 "nbformat_minor": 5
}
