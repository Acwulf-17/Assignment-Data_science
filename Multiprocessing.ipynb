{
 "cells": [
  {
   "cell_type": "markdown",
   "id": "489fdcfc-eccf-4a71-9aa5-9fcca5e3b300",
   "metadata": {},
   "source": [
    "Q.1. Answer"
   ]
  },
  {
   "cell_type": "markdown",
   "id": "ed870fb8-f109-48cf-82f4-db9275f9d047",
   "metadata": {},
   "source": [
    "Multiprocessing in Python refers to the concurrent execution of multiple processes, where each process runs independently and has its own Python interpreter. Unlike multithreading, multiprocessing allows for true parallelism, making use of multiple CPU cores or processors to perform tasks simultaneously. It's implemented using the multiprocessing module in Python.\n",
    "\n",
    "1. Parallelism\n",
    "2. Isolation\n",
    "3. Resource Management\n",
    "4. Scalability"
   ]
  },
  {
   "cell_type": "code",
   "execution_count": null,
   "id": "51d38d4f-2423-4dd7-83ec-3593de50b91f",
   "metadata": {},
   "outputs": [],
   "source": []
  },
  {
   "cell_type": "markdown",
   "id": "5f0f5e13-b533-4290-a391-1721434f09df",
   "metadata": {},
   "source": [
    "Q.2.Answer"
   ]
  },
  {
   "cell_type": "markdown",
   "id": "e03adc4f-3dd1-4a94-b737-50bf9a960d06",
   "metadata": {},
   "source": [
    "Multiprocessing: In multiprocessing, multiple processes are created, each with its own independent Python interpreter and memory space. Processes run in separate memory locations.\n",
    "\n",
    "Multithreading: In multithreading, multiple threads are created within a single process. All threads share the same memory space and Python interpreter."
   ]
  },
  {
   "cell_type": "code",
   "execution_count": null,
   "id": "231c6ffc-7a30-40a9-9d2d-4f03a9f32fe8",
   "metadata": {},
   "outputs": [],
   "source": []
  },
  {
   "cell_type": "markdown",
   "id": "7455bc41-9667-4e54-b9ef-c90890f4750d",
   "metadata": {},
   "source": [
    "Q.3. Answer"
   ]
  },
  {
   "cell_type": "code",
   "execution_count": 1,
   "id": "6f94b0e1-7a70-418f-8f0c-10acaa9aa9b5",
   "metadata": {},
   "outputs": [
    {
     "name": "stdout",
     "output_type": "stream",
     "text": [
      "Worker process is running!\n",
      "Main process is done!\n"
     ]
    }
   ],
   "source": [
    "import multiprocessing\n",
    "\n",
    "# Define a function that the process will execute\n",
    "def worker_function():\n",
    "    print(\"Worker process is running!\")\n",
    "\n",
    "if __name__ == \"__main__\":\n",
    "    # Create a Process object and specify the target function\n",
    "    process = multiprocessing.Process(target=worker_function)\n",
    "\n",
    "    # Start the process\n",
    "    process.start()\n",
    "\n",
    "    # Wait for the process to complete (optional)\n",
    "    process.join()\n",
    "\n",
    "    print(\"Main process is done!\")\n"
   ]
  },
  {
   "cell_type": "code",
   "execution_count": null,
   "id": "aa2d3cf2-2398-4582-a198-cd333f77a41f",
   "metadata": {},
   "outputs": [],
   "source": []
  },
  {
   "cell_type": "markdown",
   "id": "ce1f0851-2cd2-4420-904b-d01e7eaf0ff6",
   "metadata": {},
   "source": [
    "Q.4. Answer"
   ]
  },
  {
   "cell_type": "markdown",
   "id": "6a6b7d07-2551-4d57-bbe1-a7897b608f26",
   "metadata": {},
   "source": [
    "A multiprocessing pool in Python, often referred to as a \"process pool,\" is a feature provided by the multiprocessing module that allows you to efficiently manage and distribute multiple processes for executing tasks in parallel. "
   ]
  },
  {
   "cell_type": "code",
   "execution_count": null,
   "id": "f4afe2c5-b1a4-4001-82a9-c4f16c87dedb",
   "metadata": {},
   "outputs": [],
   "source": []
  },
  {
   "cell_type": "markdown",
   "id": "e95f85fc-8dda-40f6-81a4-e779f00bdcf6",
   "metadata": {},
   "source": [
    "Q.5.Answer"
   ]
  },
  {
   "cell_type": "code",
   "execution_count": null,
   "id": "bc8778a9-89bf-4a4a-b203-b1d7fffad88d",
   "metadata": {},
   "outputs": [],
   "source": []
  },
  {
   "cell_type": "code",
   "execution_count": null,
   "id": "140e3004-7910-4013-8316-3286e2ff8df4",
   "metadata": {},
   "outputs": [],
   "source": []
  },
  {
   "cell_type": "markdown",
   "id": "7c08bea6-0e5c-492b-9e08-b252e96fc14e",
   "metadata": {},
   "source": [
    "Q.6.Answer"
   ]
  }
 ],
 "metadata": {
  "kernelspec": {
   "display_name": "Python 3 (ipykernel)",
   "language": "python",
   "name": "python3"
  },
  "language_info": {
   "codemirror_mode": {
    "name": "ipython",
    "version": 3
   },
   "file_extension": ".py",
   "mimetype": "text/x-python",
   "name": "python",
   "nbconvert_exporter": "python",
   "pygments_lexer": "ipython3",
   "version": "3.10.8"
  }
 },
 "nbformat": 4,
 "nbformat_minor": 5
}
