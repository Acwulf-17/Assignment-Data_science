{
 "cells": [
  {
   "cell_type": "markdown",
   "id": "1c23df59-4b6c-494a-b624-e2f80c6993c0",
   "metadata": {},
   "source": [
    "Q.1. Answer"
   ]
  },
  {
   "cell_type": "markdown",
   "id": "ba351499-0c1d-47b0-8f5d-330035f1dbc9",
   "metadata": {},
   "source": [
    "Multithreading in Python refers to the concurrent execution of multiple threads within a single Python program. A thread is the smallest unit of execution in a program, and multithreading allows you to perform multiple tasks simultaneously by dividing the program's work into smaller threads that can run concurrently.\n",
    "\n",
    "Why Multithreading is Used:\n",
    "Multithreading is used in Python for several reasons:\n",
    "\n",
    "1. Concurrency\n",
    "2. parallelism\n",
    "3. Responsiveness\n",
    "\n",
    "Python provides a built-in module called threading to handle threads. The threading module allows you to create, manage, and synchronize threads in your Python applications."
   ]
  },
  {
   "cell_type": "markdown",
   "id": "89efe838-5a62-46bf-bcf9-3b8e7c495635",
   "metadata": {},
   "source": [
    "\n",
    "Q.2. Answer"
   ]
  },
  {
   "cell_type": "markdown",
   "id": "a9156dd7-b26b-46fe-9c3d-1c84f06de5d4",
   "metadata": {},
   "source": [
    "The threading module in Python is used for creating and managing threads in a Python program. It provides a high-level interface for working with threads, allowing you to create, start, stop, and synchronize threads to achieve concurrent execution of tasks.\n",
    "\n",
    "1. activeCount(): activeCount() is a class method of the threading module. It is used to retrieve the current number of Thread objects that are currently alive (i.e., not terminated).\n",
    "\n",
    "2. currentThread(): The currentThread() function is used to obtain a reference to the currently executing Thread object.\n",
    "\n",
    "3. enumerate(): The enumerate() function is used to retrieve a list of all Thread objects currently alive (i.e., not terminated) in the program."
   ]
  },
  {
   "cell_type": "markdown",
   "id": "fb33904c-0baf-426e-9cd0-79ae7f881d6b",
   "metadata": {},
   "source": [
    "\n",
    "Q.3 Answer"
   ]
  },
  {
   "cell_type": "code",
   "execution_count": null,
   "id": "e9172d2e-e112-4140-9c65-6c8b0971d7bb",
   "metadata": {},
   "outputs": [],
   "source": [
    "import threading\n",
    "\n",
    "def print_squares():\n",
    "    for i in range(1, 6):\n",
    "        print(f\"Square of {i}: {i ** 2}\")\n",
    "\n",
    "def print_cubes():\n",
    "    for i in range(1, 6):\n",
    "        print(f\"Cube of {i}: {i ** 3}\")\n",
    "\n",
    "# Create two threads, one for printing squares and one for printing cubes\n",
    "squares_thread = threading.Thread(target=print_squares)\n",
    "cubes_thread = threading.Thread(target=print_cubes)\n",
    "\n",
    "# Start both threads\n",
    "squares_thread.start()\n",
    "cubes_thread.start()\n",
    "\n",
    "# Wait for both threads to finish\n",
    "squares_thread.join()\n",
    "cubes_thread.join()\n",
    "\n",
    "print(\"Both threads have completed.\")\n"
   ]
  },
  {
   "cell_type": "markdown",
   "id": "10599ae9-3c70-4f3f-817d-08757fec0656",
   "metadata": {},
   "source": [
    "Q.4 .Answer"
   ]
  },
  {
   "cell_type": "markdown",
   "id": "3790035d-e958-41a4-a003-c10783ac95a1",
   "metadata": {},
   "source": [
    "Multithreading offers several advantages and disadvantages in Python and other programming languages. Here are some of the key advantages and disadvantages of multithreading:\n",
    "\n",
    "\n",
    "* Advantages:\n",
    "\n",
    "1. Concurrency\n",
    "2. Resource Sharing\n",
    "3. Responsiveness\n",
    "4. Efficient Use of Resources\n",
    "5. Simplified Code\n",
    "\n",
    "* Disadvantages: \n",
    "\n",
    "1. Complexity\n",
    "2. Overhead\n",
    "3. Limited Scaling\n",
    "4. Portability"
   ]
  },
  {
   "cell_type": "code",
   "execution_count": null,
   "id": "8dfde096-83aa-48b0-a44f-a48a0792cac7",
   "metadata": {},
   "outputs": [],
   "source": []
  }
 ],
 "metadata": {
  "kernelspec": {
   "display_name": "Python 3 (ipykernel)",
   "language": "python",
   "name": "python3"
  },
  "language_info": {
   "codemirror_mode": {
    "name": "ipython",
    "version": 3
   },
   "file_extension": ".py",
   "mimetype": "text/x-python",
   "name": "python",
   "nbconvert_exporter": "python",
   "pygments_lexer": "ipython3",
   "version": "3.10.8"
  }
 },
 "nbformat": 4,
 "nbformat_minor": 5
}
