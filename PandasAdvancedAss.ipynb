{
 "cells": [
  {
   "cell_type": "markdown",
   "id": "2fb12aef-d646-492a-b54d-745f23f56061",
   "metadata": {},
   "source": [
    "Q.1.Answer"
   ]
  },
  {
   "cell_type": "markdown",
   "id": "d76449b8-23e8-46c3-ab57-43a7494a70e3",
   "metadata": {},
   "source": [
    "1. read_csv(): Used to read data from a CSV file into a DataFrame.\n",
    "2. head(): Returns the first n rows of a DataFrame.\n",
    "3. describe(): Generates summary statistics of the DataFrame.\n",
    "4. groupby(): Groups data based on a specified column and applies aggregation functions.\n",
    "5. pivot_table(): Creates a pivot table from the data."
   ]
  },
  {
   "cell_type": "code",
   "execution_count": null,
   "id": "2df807a3-8dfb-411e-a7a8-c46fde6bc16e",
   "metadata": {},
   "outputs": [],
   "source": []
  },
  {
   "cell_type": "markdown",
   "id": "4e74230b-7305-4b7c-9131-2c6dd1e36cd1",
   "metadata": {},
   "source": [
    "Q.2. Answer"
   ]
  },
  {
   "cell_type": "code",
   "execution_count": 3,
   "id": "7de27476-14a5-4388-bff3-5115b34851bf",
   "metadata": {},
   "outputs": [
    {
     "name": "stdout",
     "output_type": "stream",
     "text": [
      "    A   B   C\n",
      "1  10  40  70\n",
      "3  20  50  80\n",
      "5  30  60  90\n"
     ]
    }
   ],
   "source": [
    "import pandas as pd\n",
    "\n",
    "# Sample DataFrame\n",
    "data = {'A': [10, 20, 30], 'B': [40, 50, 60], 'C': [70, 80, 90]}\n",
    "df = pd.DataFrame(data)\n",
    "\n",
    "# Re-index the DataFrame starting from 1 and incrementing by 2\n",
    "df.index = range(1, 2 * len(df) + 1, 2)\n",
    "\n",
    "# Print the modified DataFrame\n",
    "print(df)\n"
   ]
  },
  {
   "cell_type": "code",
   "execution_count": null,
   "id": "12e08601-e728-4f02-b353-c60d57c7fc3c",
   "metadata": {},
   "outputs": [],
   "source": []
  },
  {
   "cell_type": "markdown",
   "id": "887a4ce7-2fc8-48db-bccc-f68ce28a72d5",
   "metadata": {},
   "source": [
    "Q.3. Answer"
   ]
  },
  {
   "cell_type": "code",
   "execution_count": 4,
   "id": "5ecff506-3503-4462-9dc2-6821b297e5e0",
   "metadata": {},
   "outputs": [
    {
     "name": "stdout",
     "output_type": "stream",
     "text": [
      "Sum of the first three values: 60\n"
     ]
    }
   ],
   "source": [
    "import pandas as pd\n",
    "\n",
    "def sum_of_first_three_values(df):\n",
    "    # Extract the 'Values' column and calculate the sum of the first three values\n",
    "    values_column = df['Values']\n",
    "    sum_of_first_three = values_column.head(3).sum()\n",
    "    \n",
    "    # Print the sum\n",
    "    print(\"Sum of the first three values:\", sum_of_first_three)\n",
    "\n",
    "# Sample DataFrame\n",
    "data = {'Values': [10, 20, 30, 40, 50]}\n",
    "df = pd.DataFrame(data)\n",
    "\n",
    "# Call the function\n",
    "sum_of_first_three_values(df)\n"
   ]
  },
  {
   "cell_type": "code",
   "execution_count": null,
   "id": "6c121a41-df06-4fd9-be26-c5bf9ac3a5ed",
   "metadata": {},
   "outputs": [],
   "source": []
  },
  {
   "cell_type": "markdown",
   "id": "d7a7cb41-c80f-4bdb-b6cf-4e2af293e8b4",
   "metadata": {},
   "source": [
    "Q.4. Answer"
   ]
  },
  {
   "cell_type": "code",
   "execution_count": 5,
   "id": "cd02f8fe-15e3-4949-a0e0-3ac6b7fad189",
   "metadata": {},
   "outputs": [
    {
     "name": "stdout",
     "output_type": "stream",
     "text": [
      "                Text  Word_Count\n",
      "0      Hello, world!           2\n",
      "1  Python is awesome           3\n",
      "2      Data analysis           2\n"
     ]
    }
   ],
   "source": [
    "import pandas as pd\n",
    "\n",
    "# Sample DataFrame\n",
    "data = {'Text': ['Hello, world!', 'Python is awesome', 'Data analysis']}\n",
    "df = pd.DataFrame(data)\n",
    "\n",
    "# Function to count words in a string\n",
    "def count_words(text):\n",
    "    words = text.split()\n",
    "    return len(words)\n",
    "\n",
    "# Create the 'Word_Count' column\n",
    "df['Word_Count'] = df['Text'].apply(count_words)\n",
    "\n",
    "# Print the modified DataFrame\n",
    "print(df)\n"
   ]
  },
  {
   "cell_type": "code",
   "execution_count": null,
   "id": "e38808da-16e7-42e3-ac0c-ba20097f3186",
   "metadata": {},
   "outputs": [],
   "source": []
  },
  {
   "cell_type": "markdown",
   "id": "ec78e446-21a6-4af1-8112-8258b44f0b4e",
   "metadata": {},
   "source": [
    "Q.5. Answer"
   ]
  },
  {
   "cell_type": "markdown",
   "id": "5eead712-affb-46e6-8c4f-38eb1e99ce9a",
   "metadata": {},
   "source": [
    "DataFrame.size: Returns the total number of elements in the DataFrame, which is equal to the product of the number of rows and the number of columns.\n",
    "\n",
    "DataFrame.shape: Returns a tuple representing the dimensions of the DataFrame, where the first element is the number of rows and the second element is the number of columns. It provides a clearer view of the DataFrame's structure."
   ]
  },
  {
   "cell_type": "code",
   "execution_count": null,
   "id": "8bd2c565-398d-435d-bbb9-37ecfd712f39",
   "metadata": {},
   "outputs": [],
   "source": []
  },
  {
   "cell_type": "raw",
   "id": "62363430-a5c2-478a-975d-5caac574b5ee",
   "metadata": {},
   "source": [
    "Q.6.Answer"
   ]
  },
  {
   "cell_type": "markdown",
   "id": "be137d78-c868-44f7-808f-c9b87a0345e9",
   "metadata": {},
   "source": [
    "You can use the read_excel() function in pandas to read data from an Excel file. "
   ]
  },
  {
   "cell_type": "code",
   "execution_count": null,
   "id": "e3cec175-0cf8-4855-878a-53234c89782c",
   "metadata": {},
   "outputs": [],
   "source": []
  },
  {
   "cell_type": "markdown",
   "id": "e67ed7fa-128a-4fd9-96b7-172831b2d7cd",
   "metadata": {},
   "source": [
    "Q.7. Answer"
   ]
  },
  {
   "cell_type": "code",
   "execution_count": 6,
   "id": "1ae4cd7c-b9d3-4297-a2c2-70df44b6479b",
   "metadata": {},
   "outputs": [
    {
     "name": "stdout",
     "output_type": "stream",
     "text": [
      "                    Email    Username\n",
      "0    john.doe@example.com    john.doe\n",
      "1  jane.smith@example.com  jane.smith\n",
      "2       alice@example.com       alice\n"
     ]
    }
   ],
   "source": [
    "import pandas as pd\n",
    "\n",
    "# Sample DataFrame with 'Email' column\n",
    "data = {'Email': ['john.doe@example.com', 'jane.smith@example.com', 'alice@example.com']}\n",
    "df = pd.DataFrame(data)\n",
    "\n",
    "# Extract the 'Username' part from 'Email'\n",
    "df['Username'] = df['Email'].str.split('@').str[0]\n",
    "\n",
    "# Print the modified DataFrame\n",
    "print(df)\n"
   ]
  },
  {
   "cell_type": "code",
   "execution_count": null,
   "id": "9c21c11b-abbd-4401-a667-87838284ec35",
   "metadata": {},
   "outputs": [],
   "source": []
  },
  {
   "cell_type": "markdown",
   "id": "5ee28ac1-6550-4406-a4d0-aa3d8b179f47",
   "metadata": {},
   "source": [
    "Q.8. Answer"
   ]
  },
  {
   "cell_type": "code",
   "execution_count": 7,
   "id": "6d3d4ca2-1f30-4528-9a9a-2013f4d4d67f",
   "metadata": {},
   "outputs": [
    {
     "name": "stdout",
     "output_type": "stream",
     "text": [
      "   A  B  C\n",
      "1  8  2  7\n",
      "2  6  9  4\n",
      "4  9  1  2\n"
     ]
    }
   ],
   "source": [
    "import pandas as pd\n",
    "\n",
    "# Sample DataFrame\n",
    "data = {'A': [3, 8, 6, 2, 9], 'B': [5, 2, 9, 3, 1], 'C': [1, 7, 4, 5, 2]}\n",
    "df = pd.DataFrame(data)\n",
    "\n",
    "# Select rows where 'A' is greater than 5 and 'B' is less than 10\n",
    "selected_rows = df[(df['A'] > 5) & (df['B'] < 10)]\n",
    "\n",
    "# Print the selected rows\n",
    "print(selected_rows)\n"
   ]
  },
  {
   "cell_type": "code",
   "execution_count": null,
   "id": "576f49a8-8898-4dd5-abf6-2b0379082f17",
   "metadata": {},
   "outputs": [],
   "source": []
  },
  {
   "cell_type": "markdown",
   "id": "cbed444f-cd2f-41a1-b794-25ccfc4d7e62",
   "metadata": {},
   "source": [
    "Q.9. Answer"
   ]
  },
  {
   "cell_type": "code",
   "execution_count": 8,
   "id": "e3af5fa3-fed4-4d44-a8fd-ca8498c378f5",
   "metadata": {},
   "outputs": [
    {
     "name": "stdout",
     "output_type": "stream",
     "text": [
      "Mean: 30.0\n",
      "Median: 30.0\n",
      "Standard Deviation: 15.811388300841896\n"
     ]
    }
   ],
   "source": [
    "import pandas as pd\n",
    "\n",
    "# Sample DataFrame\n",
    "data = {'Values': [10, 20, 30, 40, 50]}\n",
    "df = pd.DataFrame(data)\n",
    "\n",
    "# Calculate mean, median, and standard deviation\n",
    "mean_value = df['Values'].mean()\n",
    "median_value = df['Values'].median()\n",
    "std_value = df['Values'].std()\n",
    "\n",
    "# Print the statistics\n",
    "print(\"Mean:\", mean_value)\n",
    "print(\"Median:\", median_value)\n",
    "print(\"Standard Deviation:\", std_value)\n"
   ]
  },
  {
   "cell_type": "code",
   "execution_count": null,
   "id": "5bf818fe-0349-462a-b599-8a1b4e06bb92",
   "metadata": {},
   "outputs": [],
   "source": []
  },
  {
   "cell_type": "markdown",
   "id": "b4a565f7-9e0f-4579-90e8-efdb286dba95",
   "metadata": {},
   "source": [
    "Q.10. Answer"
   ]
  },
  {
   "cell_type": "code",
   "execution_count": 9,
   "id": "ecb08ebd-792f-42ac-9c13-8e1b081234e8",
   "metadata": {},
   "outputs": [
    {
     "name": "stdout",
     "output_type": "stream",
     "text": [
      "        Date  Sales  MovingAverage\n",
      "0 2023-01-01    100          100.0\n",
      "1 2023-01-02    150          125.0\n",
      "2 2023-01-03    200          150.0\n",
      "3 2023-01-04    250          175.0\n",
      "4 2023-01-05    300          200.0\n"
     ]
    }
   ],
   "source": [
    "import pandas as pd\n",
    "\n",
    "# Sample DataFrame with 'Date' and 'Sales' columns\n",
    "data = {'Date': ['2023-01-01', '2023-01-02', '2023-01-03', '2023-01-04', '2023-01-05'],\n",
    "        'Sales': [100, 150, 200, 250, 300]}\n",
    "df = pd.DataFrame(data)\n",
    "\n",
    "# Convert 'Date' column to datetime format\n",
    "df['Date'] = pd.to_datetime(df['Date'])\n",
    "\n",
    "# Calculate the moving average with a window of 7 days\n",
    "df['MovingAverage'] = df['Sales'].rolling(window=7, min_periods=1).mean()\n",
    "\n",
    "# Print the modified DataFrame\n",
    "print(df)\n"
   ]
  },
  {
   "cell_type": "code",
   "execution_count": null,
   "id": "65f4787c-a5d0-417b-947b-41bc93c14195",
   "metadata": {},
   "outputs": [],
   "source": []
  },
  {
   "cell_type": "markdown",
   "id": "08a3aaf7-7174-452a-b0e0-c97537b3934f",
   "metadata": {},
   "source": [
    "Q.11. Answer"
   ]
  },
  {
   "cell_type": "code",
   "execution_count": 11,
   "id": "20b0b973-785d-4403-b1c5-1e0073c3b01f",
   "metadata": {},
   "outputs": [
    {
     "name": "stdout",
     "output_type": "stream",
     "text": [
      "        Date    Weekday\n",
      "0 2023-01-01     Sunday\n",
      "1 2023-01-02     Monday\n",
      "2 2023-01-03    Tuesday\n",
      "3 2023-01-04  Wednesday\n",
      "4 2023-01-05   Thursday\n"
     ]
    }
   ],
   "source": [
    "import pandas as pd\n",
    "\n",
    "# Sample DataFrame with 'Date' column\n",
    "data = {'Date': ['2023-01-01', '2023-01-02', '2023-01-03', '2023-01-04', '2023-01-05']}\n",
    "df = pd.DataFrame(data)\n",
    "\n",
    "# Convert 'Date' column to datetime format\n",
    "df['Date'] = pd.to_datetime(df['Date'])\n",
    "\n",
    "# Extract weekday names\n",
    "df['Weekday'] = df['Date'].dt.strftime('%A')\n",
    "\n",
    "# Print the modified DataFrame\n",
    "print(df)\n"
   ]
  },
  {
   "cell_type": "code",
   "execution_count": null,
   "id": "c0869c4d-3935-42c2-9665-d00f6d897e2c",
   "metadata": {},
   "outputs": [],
   "source": []
  },
  {
   "cell_type": "markdown",
   "id": "ae312c4c-2e5f-46bf-954b-2e59592c0ab0",
   "metadata": {},
   "source": [
    "Q.12. Answer\n"
   ]
  },
  {
   "cell_type": "code",
   "execution_count": 12,
   "id": "080bb94f-937c-4cf1-b19a-463cb1638284",
   "metadata": {},
   "outputs": [
    {
     "name": "stdout",
     "output_type": "stream",
     "text": [
      "        Date\n",
      "0 2023-01-05\n",
      "1 2023-01-15\n",
      "4 2023-01-25\n"
     ]
    }
   ],
   "source": [
    "import pandas as pd\n",
    "\n",
    "# Sample DataFrame with 'Date' column\n",
    "data = {'Date': ['2023-01-05', '2023-01-15', '2023-02-10', '2023-03-20', '2023-01-25']}\n",
    "df = pd.DataFrame(data)\n",
    "\n",
    "# Convert 'Date' column to datetime format\n",
    "df['Date'] = pd.to_datetime(df['Date'])\n",
    "\n",
    "# Define the date range\n",
    "start_date = pd.to_datetime('2023-01-01')\n",
    "end_date = pd.to_datetime('2023-01-31')\n",
    "\n",
    "# Select rows within the date range\n",
    "selected_rows = df[(df['Date'] >= start_date) & (df['Date'] <= end_date)]\n",
    "\n",
    "# Print the selected rows\n",
    "print(selected_rows)\n"
   ]
  },
  {
   "cell_type": "code",
   "execution_count": null,
   "id": "22bea904-4ea4-4602-aa41-0e5660ddc2c0",
   "metadata": {},
   "outputs": [],
   "source": []
  },
  {
   "cell_type": "markdown",
   "id": "7750244c-a045-4ca7-943a-54d39639c441",
   "metadata": {},
   "source": [
    "Q.13. Answer"
   ]
  }
 ],
 "metadata": {
  "kernelspec": {
   "display_name": "Python 3 (ipykernel)",
   "language": "python",
   "name": "python3"
  },
  "language_info": {
   "codemirror_mode": {
    "name": "ipython",
    "version": 3
   },
   "file_extension": ".py",
   "mimetype": "text/x-python",
   "name": "python",
   "nbconvert_exporter": "python",
   "pygments_lexer": "ipython3",
   "version": "3.10.8"
  }
 },
 "nbformat": 4,
 "nbformat_minor": 5
}
