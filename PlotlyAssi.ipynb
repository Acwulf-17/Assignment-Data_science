{
 "cells": [
  {
   "cell_type": "markdown",
   "id": "5fb6d68d-d123-4271-85c4-c58181ef5fac",
   "metadata": {},
   "source": [
    "Q.1. Ans"
   ]
  },
  {
   "cell_type": "code",
   "execution_count": null,
   "id": "86820e7b-ce15-44a2-8904-805915eb2b69",
   "metadata": {},
   "outputs": [],
   "source": [
    "import seaborn as sns\n",
    "import plotly.express as px\n",
    "\n",
    "# Load the titanic dataset\n",
    "titanic_data = sns.load_dataset(\"titanic\")\n",
    "\n",
    "# Create a scatter plot using Plotly express\n",
    "fig = px.scatter(titanic_data, x=\"age\", y=\"fare\", title=\"Titanic Dataset: Scatter Plot of Age vs. Fare\")\n",
    "fig.show()\n"
   ]
  },
  {
   "cell_type": "code",
   "execution_count": null,
   "id": "db9972df-fc5a-44af-a30c-45a0c322be86",
   "metadata": {},
   "outputs": [],
   "source": []
  },
  {
   "cell_type": "markdown",
   "id": "8f96c6ea-4e72-4902-a884-e753970beb26",
   "metadata": {},
   "source": [
    "Q.2.Answer"
   ]
  },
  {
   "cell_type": "code",
   "execution_count": null,
   "id": "93354162-a920-4b66-ae7a-ae750704e0b1",
   "metadata": {},
   "outputs": [],
   "source": [
    "import plotly.express as px\n",
    "\n",
    "# Load the tips dataset from Plotly\n",
    "tips_data = px.data.tips()\n",
    "\n",
    "# Create a box plot using Plotly express\n",
    "fig = px.box(tips_data, x=\"day\", y=\"total_bill\", title=\"Tips Dataset: Box Plot of Total Bill by Day\")\n",
    "fig.show()\n"
   ]
  },
  {
   "cell_type": "code",
   "execution_count": null,
   "id": "aae764f3-cdb7-41af-918c-b75b503d5ba0",
   "metadata": {},
   "outputs": [],
   "source": []
  },
  {
   "cell_type": "markdown",
   "id": "7e7e4166-0133-434d-9694-3609d78450f4",
   "metadata": {},
   "source": [
    "Q.3.Answer"
   ]
  },
  {
   "cell_type": "code",
   "execution_count": null,
   "id": "5042adad-a5c0-461f-b0ec-2f7c45728850",
   "metadata": {},
   "outputs": [],
   "source": []
  },
  {
   "cell_type": "code",
   "execution_count": null,
   "id": "619e727d-6baf-4366-b62b-02adc3382d92",
   "metadata": {},
   "outputs": [],
   "source": []
  },
  {
   "cell_type": "markdown",
   "id": "ff7d1500-6397-4254-9cd7-d37024292af2",
   "metadata": {},
   "source": [
    "Q.4.Answer"
   ]
  },
  {
   "cell_type": "code",
   "execution_count": null,
   "id": "4f054120-8247-438d-bad7-e8648db636b7",
   "metadata": {},
   "outputs": [],
   "source": []
  },
  {
   "cell_type": "code",
   "execution_count": null,
   "id": "5bdf8662-7ca9-4b6e-896b-36e10d746f01",
   "metadata": {},
   "outputs": [],
   "source": []
  },
  {
   "cell_type": "markdown",
   "id": "66baa5ba-c0d3-4476-8f59-19b8c0acdd48",
   "metadata": {},
   "source": [
    "Q.5.Answer"
   ]
  },
  {
   "cell_type": "code",
   "execution_count": null,
   "id": "11e778f1-cd5f-44d5-bb99-75da082354b4",
   "metadata": {},
   "outputs": [],
   "source": []
  },
  {
   "cell_type": "code",
   "execution_count": null,
   "id": "ad5da255-90de-45f5-97ff-3343dbc41c70",
   "metadata": {},
   "outputs": [],
   "source": []
  },
  {
   "cell_type": "code",
   "execution_count": null,
   "id": "44d2e491-dee4-4b80-b615-c6dcd43a0f08",
   "metadata": {},
   "outputs": [],
   "source": []
  }
 ],
 "metadata": {
  "kernelspec": {
   "display_name": "Python 3 (ipykernel)",
   "language": "python",
   "name": "python3"
  },
  "language_info": {
   "codemirror_mode": {
    "name": "ipython",
    "version": 3
   },
   "file_extension": ".py",
   "mimetype": "text/x-python",
   "name": "python",
   "nbconvert_exporter": "python",
   "pygments_lexer": "ipython3",
   "version": "3.10.8"
  }
 },
 "nbformat": 4,
 "nbformat_minor": 5
}
